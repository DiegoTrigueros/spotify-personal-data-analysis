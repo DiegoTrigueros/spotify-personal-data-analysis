{
 "cells": [
  {
   "cell_type": "code",
   "execution_count": 2,
   "metadata": {},
   "outputs": [],
   "source": [
    "# TODO\n",
    "# Heatmap of music listening frequency\n",
    "# Top 10 artists\n",
    "# Valence index tendency\n",
    "# Create predictive model of whether I would like a song or not"
   ]
  },
  {
   "cell_type": "code",
   "execution_count": 1,
   "metadata": {},
   "outputs": [],
   "source": [
    "import pandas as pd\n",
    "import numpy as np\n",
    "import json\n",
    "import spotipy\n",
    "import spotipy.util as util\n",
    "import requests\n",
    "import matplotlib.pyplot as plt\n",
    "import plotly.express as px\n",
    "from spotipy.oauth2 import SpotifyClientCredentials\n",
    "from jsonmerge import merge\n",
    "from collections import OrderedDict"
   ]
  },
  {
   "cell_type": "code",
   "execution_count": 2,
   "metadata": {},
   "outputs": [],
   "source": [
    "def prepare_files(f1_path, f2_path):\n",
    "    # Removing data from 2019 as analysis is for 2020 only\n",
    "    with open(f1_path, 'r', encoding='utf-8') as source_file:\n",
    "        data = json.load(source_file)\n",
    "        new_data = [element for element in data if \"2019\" not in element['endTime']]\n",
    "    \n",
    "    new_file_path = \"./data/UpdatedData.json\"\n",
    "    \n",
    "    # Writing clean data into new file to preserve original\n",
    "    with open(new_file_path, 'w', encoding='utf-8') as dest_file:\n",
    "        data = json.dump(new_data, dest_file, indent=4)\n",
    "        \n",
    "   \n",
    "    file_one = open(new_file_path, encoding='utf-8')\n",
    "    file_one = json.load(file_one, encoding='utf-8')\n",
    "    file_two = open(f2_path, encoding='utf-8')\n",
    "    file_two = json.load(file_two, encoding='utf-8')\n",
    "\n",
    "    # Merge both files into a single variable\n",
    "    merged_data = file_one + file_two\n",
    "    return merged_data"
   ]
  },
  {
   "cell_type": "code",
   "execution_count": 7,
   "metadata": {},
   "outputs": [
    {
     "output_type": "execute_result",
     "data": {
      "text/plain": [
       "       artist_name                   track_name          end_time  ms_played  \\\n",
       "0      El Ezequiel                Tres Gallitos  2020-01-01 00:14      43814   \n",
       "1      4 Elementos    Cypher #1 (Reggae Cypher)  2020-01-01 00:15      34780   \n",
       "2      4 Elementos    Cypher #1 (Reggae Cypher)  2020-01-01 00:16      88514   \n",
       "3      El Ezequiel                Tres Gallitos  2020-01-01 00:19     200945   \n",
       "4      4 Elementos    Cypher #1 (Reggae Cypher)  2020-01-01 00:23     206714   \n",
       "...            ...                          ...               ...        ...   \n",
       "15418         Acru                        Crudo  2020-12-16 23:14      92115   \n",
       "15419       Trueno                     Atrevido  2020-12-16 23:37       1707   \n",
       "15420       Trueno                     Atrevido  2020-12-16 23:40     194747   \n",
       "15421       Eminem  Godzilla (feat. Juice WRLD)  2020-12-16 23:44     210800   \n",
       "15422         Duki                  Hello Cotto  2020-12-16 23:47     217250   \n",
       "\n",
       "                     track_id  \n",
       "0      3FWAZnfVEWlUBB4YyZ0lEK  \n",
       "1                         NaN  \n",
       "2                         NaN  \n",
       "3      3FWAZnfVEWlUBB4YyZ0lEK  \n",
       "4                         NaN  \n",
       "...                       ...  \n",
       "15418  3Y0njfS1jG0EzUDKtjvS5a  \n",
       "15419  6tMqYyCVU2aKgUahMvJz2S  \n",
       "15420  6tMqYyCVU2aKgUahMvJz2S  \n",
       "15421  7FIWs0pqAYbP91WWM0vlTQ  \n",
       "15422  422Avi2VjqZKCVzstKmqog  \n",
       "\n",
       "[15423 rows x 5 columns]"
      ],
      "text/html": "<div>\n<style scoped>\n    .dataframe tbody tr th:only-of-type {\n        vertical-align: middle;\n    }\n\n    .dataframe tbody tr th {\n        vertical-align: top;\n    }\n\n    .dataframe thead th {\n        text-align: right;\n    }\n</style>\n<table border=\"1\" class=\"dataframe\">\n  <thead>\n    <tr style=\"text-align: right;\">\n      <th></th>\n      <th>artist_name</th>\n      <th>track_name</th>\n      <th>end_time</th>\n      <th>ms_played</th>\n      <th>track_id</th>\n    </tr>\n  </thead>\n  <tbody>\n    <tr>\n      <th>0</th>\n      <td>El Ezequiel</td>\n      <td>Tres Gallitos</td>\n      <td>2020-01-01 00:14</td>\n      <td>43814</td>\n      <td>3FWAZnfVEWlUBB4YyZ0lEK</td>\n    </tr>\n    <tr>\n      <th>1</th>\n      <td>4 Elementos</td>\n      <td>Cypher #1 (Reggae Cypher)</td>\n      <td>2020-01-01 00:15</td>\n      <td>34780</td>\n      <td>NaN</td>\n    </tr>\n    <tr>\n      <th>2</th>\n      <td>4 Elementos</td>\n      <td>Cypher #1 (Reggae Cypher)</td>\n      <td>2020-01-01 00:16</td>\n      <td>88514</td>\n      <td>NaN</td>\n    </tr>\n    <tr>\n      <th>3</th>\n      <td>El Ezequiel</td>\n      <td>Tres Gallitos</td>\n      <td>2020-01-01 00:19</td>\n      <td>200945</td>\n      <td>3FWAZnfVEWlUBB4YyZ0lEK</td>\n    </tr>\n    <tr>\n      <th>4</th>\n      <td>4 Elementos</td>\n      <td>Cypher #1 (Reggae Cypher)</td>\n      <td>2020-01-01 00:23</td>\n      <td>206714</td>\n      <td>NaN</td>\n    </tr>\n    <tr>\n      <th>...</th>\n      <td>...</td>\n      <td>...</td>\n      <td>...</td>\n      <td>...</td>\n      <td>...</td>\n    </tr>\n    <tr>\n      <th>15418</th>\n      <td>Acru</td>\n      <td>Crudo</td>\n      <td>2020-12-16 23:14</td>\n      <td>92115</td>\n      <td>3Y0njfS1jG0EzUDKtjvS5a</td>\n    </tr>\n    <tr>\n      <th>15419</th>\n      <td>Trueno</td>\n      <td>Atrevido</td>\n      <td>2020-12-16 23:37</td>\n      <td>1707</td>\n      <td>6tMqYyCVU2aKgUahMvJz2S</td>\n    </tr>\n    <tr>\n      <th>15420</th>\n      <td>Trueno</td>\n      <td>Atrevido</td>\n      <td>2020-12-16 23:40</td>\n      <td>194747</td>\n      <td>6tMqYyCVU2aKgUahMvJz2S</td>\n    </tr>\n    <tr>\n      <th>15421</th>\n      <td>Eminem</td>\n      <td>Godzilla (feat. Juice WRLD)</td>\n      <td>2020-12-16 23:44</td>\n      <td>210800</td>\n      <td>7FIWs0pqAYbP91WWM0vlTQ</td>\n    </tr>\n    <tr>\n      <th>15422</th>\n      <td>Duki</td>\n      <td>Hello Cotto</td>\n      <td>2020-12-16 23:47</td>\n      <td>217250</td>\n      <td>422Avi2VjqZKCVzstKmqog</td>\n    </tr>\n  </tbody>\n</table>\n<p>15423 rows × 5 columns</p>\n</div>"
     },
     "metadata": {},
     "execution_count": 7
    }
   ],
   "source": [
    "# NOTE: Data has already been collected, and as it does not change, I saved it on csv files to save computation time\n",
    "songs_data = pd.read_csv(\"./Documents/personal-data-analysis/spotify-personal-data-analysis/data/SongsData.csv\")\n",
    "songs_data"
   ]
  },
  {
   "cell_type": "code",
   "execution_count": 5,
   "metadata": {
    "tags": []
   },
   "outputs": [],
   "source": [
    "# Retrieving data\n",
    "# streaming_history_p1 = \"./data/StreamingHistory0.json\"\n",
    "# streaming_history_p2 = \"./data/StreamingHistory1.json\"\n",
    "# data = prepare_files(streaming_history_p1, streaming_history_p2)"
   ]
  },
  {
   "cell_type": "code",
   "execution_count": 6,
   "metadata": {},
   "outputs": [],
   "source": [
    "# def extract_values(column_name):\n",
    "#     return [i[column_name] for i in data]\n",
    "\n",
    "# Create dataframe from data\n",
    "# songs_data = pd.DataFrame()\n",
    "# songs_data['artist_name'] = extract_values('artistName')\n",
    "# songs_data['track_name'] = extract_values('trackName')\n",
    "# songs_data['end_time'] = extract_values('endTime')\n",
    "# songs_data['ms_played'] = extract_values('msPlayed')"
   ]
  },
  {
   "cell_type": "code",
   "execution_count": 7,
   "metadata": {},
   "outputs": [
    {
     "output_type": "execute_result",
     "data": {
      "text/plain": [
       "       artist_name                   track_name          end_time  ms_played\n",
       "0      El Ezequiel                Tres Gallitos  2020-01-01 00:14      43814\n",
       "1      4 Elementos    Cypher #1 (Reggae Cypher)  2020-01-01 00:15      34780\n",
       "2      4 Elementos    Cypher #1 (Reggae Cypher)  2020-01-01 00:16      88514\n",
       "3      El Ezequiel                Tres Gallitos  2020-01-01 00:19     200945\n",
       "4      4 Elementos    Cypher #1 (Reggae Cypher)  2020-01-01 00:23     206714\n",
       "...            ...                          ...               ...        ...\n",
       "15418         Acru                        Crudo  2020-12-16 23:14      92115\n",
       "15419       Trueno                     Atrevido  2020-12-16 23:37       1707\n",
       "15420       Trueno                     Atrevido  2020-12-16 23:40     194747\n",
       "15421       Eminem  Godzilla (feat. Juice WRLD)  2020-12-16 23:44     210800\n",
       "15422         Duki                  Hello Cotto  2020-12-16 23:47     217250\n",
       "\n",
       "[15423 rows x 4 columns]"
      ],
      "text/html": "<div>\n<style scoped>\n    .dataframe tbody tr th:only-of-type {\n        vertical-align: middle;\n    }\n\n    .dataframe tbody tr th {\n        vertical-align: top;\n    }\n\n    .dataframe thead th {\n        text-align: right;\n    }\n</style>\n<table border=\"1\" class=\"dataframe\">\n  <thead>\n    <tr style=\"text-align: right;\">\n      <th></th>\n      <th>artist_name</th>\n      <th>track_name</th>\n      <th>end_time</th>\n      <th>ms_played</th>\n    </tr>\n  </thead>\n  <tbody>\n    <tr>\n      <th>0</th>\n      <td>El Ezequiel</td>\n      <td>Tres Gallitos</td>\n      <td>2020-01-01 00:14</td>\n      <td>43814</td>\n    </tr>\n    <tr>\n      <th>1</th>\n      <td>4 Elementos</td>\n      <td>Cypher #1 (Reggae Cypher)</td>\n      <td>2020-01-01 00:15</td>\n      <td>34780</td>\n    </tr>\n    <tr>\n      <th>2</th>\n      <td>4 Elementos</td>\n      <td>Cypher #1 (Reggae Cypher)</td>\n      <td>2020-01-01 00:16</td>\n      <td>88514</td>\n    </tr>\n    <tr>\n      <th>3</th>\n      <td>El Ezequiel</td>\n      <td>Tres Gallitos</td>\n      <td>2020-01-01 00:19</td>\n      <td>200945</td>\n    </tr>\n    <tr>\n      <th>4</th>\n      <td>4 Elementos</td>\n      <td>Cypher #1 (Reggae Cypher)</td>\n      <td>2020-01-01 00:23</td>\n      <td>206714</td>\n    </tr>\n    <tr>\n      <th>...</th>\n      <td>...</td>\n      <td>...</td>\n      <td>...</td>\n      <td>...</td>\n    </tr>\n    <tr>\n      <th>15418</th>\n      <td>Acru</td>\n      <td>Crudo</td>\n      <td>2020-12-16 23:14</td>\n      <td>92115</td>\n    </tr>\n    <tr>\n      <th>15419</th>\n      <td>Trueno</td>\n      <td>Atrevido</td>\n      <td>2020-12-16 23:37</td>\n      <td>1707</td>\n    </tr>\n    <tr>\n      <th>15420</th>\n      <td>Trueno</td>\n      <td>Atrevido</td>\n      <td>2020-12-16 23:40</td>\n      <td>194747</td>\n    </tr>\n    <tr>\n      <th>15421</th>\n      <td>Eminem</td>\n      <td>Godzilla (feat. Juice WRLD)</td>\n      <td>2020-12-16 23:44</td>\n      <td>210800</td>\n    </tr>\n    <tr>\n      <th>15422</th>\n      <td>Duki</td>\n      <td>Hello Cotto</td>\n      <td>2020-12-16 23:47</td>\n      <td>217250</td>\n    </tr>\n  </tbody>\n</table>\n<p>15423 rows × 4 columns</p>\n</div>"
     },
     "metadata": {},
     "execution_count": 7
    }
   ],
   "source": [
    "# songs_data"
   ]
  },
  {
   "cell_type": "code",
   "execution_count": 8,
   "metadata": {},
   "outputs": [],
   "source": [
    "# Access the spotify API\n",
    "# username = 'dgtj18'\n",
    "# client_id = '3424ef36fc3b45199b19d77e9db4b44c'\n",
    "# client_secret = '76b735824b8949a0a1cd75b4011ad465'\n",
    "# redirect_uri = 'http://localhost:7777/callback'\n",
    "# scope = 'user-read-recently-played'\n",
    "\n",
    "# token = util.prompt_for_user_token(username=username, scope=scope, client_id=client_id, client_secret=client_secret,\n",
    "#                                    redirect_uri=redirect_uri)\n",
    "\n",
    "# client_credentials_manager = SpotifyClientCredentials(client_id=\"3424ef36fc3b45199b19d77e9db4b44c\",\n",
    "#                                                      client_secret=\"76b735824b8949a0a1cd75b4011ad465\")\n",
    "# sp = spotipy.Spotify(client_credentials_manager=client_credentials_manager)"
   ]
  },
  {
   "cell_type": "code",
   "execution_count": 9,
   "metadata": {},
   "outputs": [],
   "source": [
    "# Get spotify ID for every track\n",
    "# def retrieve_id(track_name: str, artist: str, token: str):\n",
    "#     headers = {\n",
    "#         'Accept': 'application/json',\n",
    "#         'Content-Type': 'application/json',\n",
    "#         'Authorization': f'Bearer ' + token,\n",
    "#     }\n",
    "#     track_artist = track_name+ \" \" +artist\n",
    "#     params = [\n",
    "#         ('q', track_artist),\n",
    "#         ('type', 'track')\n",
    "#     ]\n",
    "#     try:\n",
    "#         response = requests.get('https://api.spotify.com/v1/search', headers = headers,\n",
    "#                                params = params, timeout = 10)\n",
    "#         json = response.json()\n",
    "#         first_result = json['tracks']['items'][0]\n",
    "#         track_id = first_result['id']\n",
    "#         return track_id\n",
    "#     except:\n",
    "#         return None"
   ]
  },
  {
   "cell_type": "code",
   "execution_count": 10,
   "metadata": {},
   "outputs": [],
   "source": [
    "# Splitting the dataframe in three to avoid credentials timeout\n",
    "# data_split = np.array_split(songs_data, 10)"
   ]
  },
  {
   "cell_type": "code",
   "execution_count": 11,
   "metadata": {},
   "outputs": [],
   "source": [
    "# for df in data_split:\n",
    "#     token = util.prompt_for_user_token(username=username, scope=scope, client_id=client_id, client_secret=client_secret, redirect_uri=redirect_uri)\n",
    "#     songs_data['track_id'] = songs_data.apply(lambda x: retrieve_id(x['track_name'], \n",
    "#                                                         x['artist_name'], \n",
    "#                                                         token), axis=1)"
   ]
  },
  {
   "cell_type": "code",
   "execution_count": 8,
   "metadata": {},
   "outputs": [
    {
     "output_type": "stream",
     "name": "stderr",
     "text": [
      "<ipython-input-8-adeaba1f251a>:5: SettingWithCopyWarning: \nA value is trying to be set on a copy of a slice from a DataFrame.\nTry using .loc[row_indexer,col_indexer] = value instead\n\nSee the caveats in the documentation: https://pandas.pydata.org/pandas-docs/stable/user_guide/indexing.html#returning-a-view-versus-a-copy\n  missing_id['track_id'] = missing_id.apply(lambda x: retrieve_id(x['track_name'],\n"
     ]
    }
   ],
   "source": [
    "# missing_id = songs_data[11130:]\n",
    "# new_data_split = np.array_split(missing_id, 40)\n",
    "# for df in new_data_split:\n",
    "#     token = util.prompt_for_user_token(username=username, scope=scope, client_id=client_id, client_secret=client_secret, redirect_uri=redirect_uri)\n",
    "#     missing_id['track_id'] = missing_id.apply(lambda x: retrieve_id(x['track_name'], \n",
    "#                                                         x['artist_name'], \n",
    "#                                                         token), axis=1)"
   ]
  },
  {
   "cell_type": "code",
   "execution_count": 21,
   "metadata": {},
   "outputs": [],
   "source": [
    "# songs_data[11130:] = missing_id"
   ]
  },
  {
   "cell_type": "code",
   "execution_count": 11,
   "metadata": {},
   "outputs": [
    {
     "output_type": "stream",
     "name": "stdout",
     "text": [
      "no stored variable or alias songs_data\n"
     ]
    },
    {
     "output_type": "execute_result",
     "data": {
      "text/plain": [
       "       artist_name                   track_name          end_time  ms_played\n",
       "0      El Ezequiel                Tres Gallitos  2020-01-01 00:14      43814\n",
       "1      4 Elementos    Cypher #1 (Reggae Cypher)  2020-01-01 00:15      34780\n",
       "2      4 Elementos    Cypher #1 (Reggae Cypher)  2020-01-01 00:16      88514\n",
       "3      El Ezequiel                Tres Gallitos  2020-01-01 00:19     200945\n",
       "4      4 Elementos    Cypher #1 (Reggae Cypher)  2020-01-01 00:23     206714\n",
       "...            ...                          ...               ...        ...\n",
       "15418         Acru                        Crudo  2020-12-16 23:14      92115\n",
       "15419       Trueno                     Atrevido  2020-12-16 23:37       1707\n",
       "15420       Trueno                     Atrevido  2020-12-16 23:40     194747\n",
       "15421       Eminem  Godzilla (feat. Juice WRLD)  2020-12-16 23:44     210800\n",
       "15422         Duki                  Hello Cotto  2020-12-16 23:47     217250\n",
       "\n",
       "[15423 rows x 4 columns]"
      ],
      "text/html": "<div>\n<style scoped>\n    .dataframe tbody tr th:only-of-type {\n        vertical-align: middle;\n    }\n\n    .dataframe tbody tr th {\n        vertical-align: top;\n    }\n\n    .dataframe thead th {\n        text-align: right;\n    }\n</style>\n<table border=\"1\" class=\"dataframe\">\n  <thead>\n    <tr style=\"text-align: right;\">\n      <th></th>\n      <th>artist_name</th>\n      <th>track_name</th>\n      <th>end_time</th>\n      <th>ms_played</th>\n    </tr>\n  </thead>\n  <tbody>\n    <tr>\n      <th>0</th>\n      <td>El Ezequiel</td>\n      <td>Tres Gallitos</td>\n      <td>2020-01-01 00:14</td>\n      <td>43814</td>\n    </tr>\n    <tr>\n      <th>1</th>\n      <td>4 Elementos</td>\n      <td>Cypher #1 (Reggae Cypher)</td>\n      <td>2020-01-01 00:15</td>\n      <td>34780</td>\n    </tr>\n    <tr>\n      <th>2</th>\n      <td>4 Elementos</td>\n      <td>Cypher #1 (Reggae Cypher)</td>\n      <td>2020-01-01 00:16</td>\n      <td>88514</td>\n    </tr>\n    <tr>\n      <th>3</th>\n      <td>El Ezequiel</td>\n      <td>Tres Gallitos</td>\n      <td>2020-01-01 00:19</td>\n      <td>200945</td>\n    </tr>\n    <tr>\n      <th>4</th>\n      <td>4 Elementos</td>\n      <td>Cypher #1 (Reggae Cypher)</td>\n      <td>2020-01-01 00:23</td>\n      <td>206714</td>\n    </tr>\n    <tr>\n      <th>...</th>\n      <td>...</td>\n      <td>...</td>\n      <td>...</td>\n      <td>...</td>\n    </tr>\n    <tr>\n      <th>15418</th>\n      <td>Acru</td>\n      <td>Crudo</td>\n      <td>2020-12-16 23:14</td>\n      <td>92115</td>\n    </tr>\n    <tr>\n      <th>15419</th>\n      <td>Trueno</td>\n      <td>Atrevido</td>\n      <td>2020-12-16 23:37</td>\n      <td>1707</td>\n    </tr>\n    <tr>\n      <th>15420</th>\n      <td>Trueno</td>\n      <td>Atrevido</td>\n      <td>2020-12-16 23:40</td>\n      <td>194747</td>\n    </tr>\n    <tr>\n      <th>15421</th>\n      <td>Eminem</td>\n      <td>Godzilla (feat. Juice WRLD)</td>\n      <td>2020-12-16 23:44</td>\n      <td>210800</td>\n    </tr>\n    <tr>\n      <th>15422</th>\n      <td>Duki</td>\n      <td>Hello Cotto</td>\n      <td>2020-12-16 23:47</td>\n      <td>217250</td>\n    </tr>\n  </tbody>\n</table>\n<p>15423 rows × 4 columns</p>\n</div>"
     },
     "metadata": {},
     "execution_count": 11
    }
   ],
   "source": [
    "# %store songs_data\n",
    "# %store -r songs_data\n",
    "# songs_data"
   ]
  },
  {
   "cell_type": "code",
   "execution_count": 8,
   "metadata": {},
   "outputs": [],
   "source": [
    "songs_data = songs_data.dropna(axis=0, how=\"any\", inplace=False)"
   ]
  },
  {
   "cell_type": "code",
   "execution_count": 9,
   "metadata": {},
   "outputs": [
    {
     "output_type": "execute_result",
     "data": {
      "text/plain": [
       "7170     5fMOlPVPDpeOqhSSX4cnfu\n",
       "7990     2vfp3rtorzJs4l9nhrP0e1\n",
       "15002    48XgkAh1fkcZqA2EZWCDX6\n",
       "5558     2VMzIZtoTgnKydwx6cRPq7\n",
       "3961     6tMqYyCVU2aKgUahMvJz2S\n",
       "11327    1VGzxJnVQND7Cg5H5wGj14\n",
       "12278    7KXjTSCq5nL1LoYtL7XAwS\n",
       "2272     1A6rWsVB4JNfsvVcAN2FdY\n",
       "9758     2ONADYjJvqYVwjWavuY0H1\n",
       "1121     7FIWs0pqAYbP91WWM0vlTQ\n",
       "8011     6i0V12jOa3mr6uu4WYhUBr\n",
       "2931     2XU0oxnq2qxCpomAAuJY8K\n",
       "8350     4urxRqBRiaH0i20OKBsgxc\n",
       "4277     28pUgp8Cifsnwrv5Mvltyz\n",
       "11874    5SiZJoLXp3WOl3J4C8IK0d\n",
       "3979     7lLedmf60WiIDLOmSbc5O3\n",
       "4532     4nASzyRbzL5qZQuOPjQfsj\n",
       "8188     2wGSgTmgSF3xjRrHkTc25R\n",
       "4988     2b6i9zx3ULzKrNWmyP0ePD\n",
       "10459    2FPE3JcSvRoCNSC96KAyvB\n",
       "11541    6Ed1q0X8oSKSm4IIhiQbYg\n",
       "8829     5aF2hoUHaU9GainPXIZDMV\n",
       "13779    2byu6eeLWaBq88ZtusqU4V\n",
       "12196    6C6mUonH6MNdSg5pw7kOc9\n",
       "9402     6jKOxnQ1Pdsr4KblSSeA0j\n",
       "2888     2kKMNRkEirl8J16ccNJImi\n",
       "3005     1We9y0dSphaMHt4owfGWpw\n",
       "1060     3ZUwkZWSiYxkP8kZDlxqnL\n",
       "5542     5uHAzGa4d9j35DEbhUwGhi\n",
       "11310    0Y3bl8IzUsGvccFu74OLPB\n",
       "10827    2FPE3JcSvRoCNSC96KAyvB\n",
       "2868     1LQ1KpuM274gIMUWX9SzxD\n",
       "6925     0xrkyEMkG4dVa5OMLQZOX8\n",
       "7537     1oTHteQbmJw15rPxPVXUTv\n",
       "1527     7rpC4Lv5jYGnATpt8Cq1JK\n",
       "8115     7ouulWlZPefmEIGYWNyiPH\n",
       "377      3FWAZnfVEWlUBB4YyZ0lEK\n",
       "7020     7nAfXgeHfDO50upcOjJOaq\n",
       "4598     1V8XneTrX6kKeoxYbk4x6h\n",
       "11471    4AmkflbQtBjOjNwSt92P1u\n",
       "2406     3bv4j1lmo6yVChahz9crt3\n",
       "13095    2auNjgM4xIOANxtZT4Xe9z\n",
       "708      7rpC4Lv5jYGnATpt8Cq1JK\n",
       "4624     3ihZHtOqUIppk9CxZf0Sri\n",
       "7804     1qDrWA6lyx8cLECdZE7TV7\n",
       "371      3a1lNhkSLSkpJE4MSHpDu9\n",
       "12090    2cGxRwrMyEAp8dEbuZaVv6\n",
       "4352     2b6i9zx3ULzKrNWmyP0ePD\n",
       "4256     7lLedmf60WiIDLOmSbc5O3\n",
       "15390    0hoo74Q82lOWekiPWYOOuz\n",
       "8751     7lLedmf60WiIDLOmSbc5O3\n",
       "5734     66N8wrzpsNbOUQxHMzOUfv\n",
       "13262    1FPr4bsL5xaF4pRHoxvfJf\n",
       "7366     0snQkGI5qnAmohLE7jTsTn\n",
       "3489     1hGy2eLcmC8eKx7qr1tOqx\n",
       "10682    5TomkIGGAC7JHVbqvPPUR5\n",
       "8642     422Avi2VjqZKCVzstKmqog\n",
       "9876     2pAQToHCsDf4UyCOv7l43P\n",
       "11612    1EN6MG651kkWhfn36vQgDr\n",
       "12635    4CyNQIQasNUfpT9nrnmX0S\n",
       "Name: track_id, dtype: object"
      ]
     },
     "metadata": {},
     "execution_count": 9
    }
   ],
   "source": [
    "# Delete tracks without ID\n",
    "null_free_data = songs_data[\"track_id\"].dropna()\n",
    "null_free_data.sample(60)"
   ]
  },
  {
   "cell_type": "code",
   "execution_count": 10,
   "metadata": {},
   "outputs": [],
   "source": [
    "tracks = list(OrderedDict.fromkeys(null_free_data))"
   ]
  },
  {
   "cell_type": "code",
   "execution_count": 11,
   "metadata": {},
   "outputs": [
    {
     "output_type": "execute_result",
     "data": {
      "text/plain": [
       "                     song_id  energy  liveness    tempo  speechiness  \\\n",
       "0     3FWAZnfVEWlUBB4YyZ0lEK   0.542    0.1550   85.150       0.0354   \n",
       "1     0ZLakHzHWqUIlkeDa4i8aC   0.731    0.6240  150.151       0.0368   \n",
       "2     5mu1uv8RmzDkF8foePK5qa   0.425    0.1080  174.028       0.1370   \n",
       "3     03a359wbiUsjN9h6yzXvmS   0.556    0.1650  119.938       0.1400   \n",
       "4     3a1lNhkSLSkpJE4MSHpDu9   0.804    0.2530  123.146       0.0363   \n",
       "...                      ...     ...       ...      ...          ...   \n",
       "2046  7kakp7vYlAUJAOTBYh42ic   0.733    0.0672  168.706       0.1940   \n",
       "2047  3EO0tGvdBCw6vdChaNvVlc   0.422    0.2530  138.006       0.5230   \n",
       "2048  3gZabQGRZVWdkCmhP7TYQD   0.799    0.0866   92.058       0.4990   \n",
       "2049  39eFFv5wl4sEZmBlBU7jnt   0.694    0.0232  144.962       0.0569   \n",
       "2050  0EgkVzDidmq4MP57jZFeik   0.266    0.5080   70.633       0.9470   \n",
       "\n",
       "      acousticness  instrumentalness  danceability  duration_ms  loudness  \\\n",
       "0           0.6990          0.000000         0.592       200945    -3.720   \n",
       "1           0.0438          0.000013         0.676       233268    -5.253   \n",
       "2           0.0335          0.000004         0.785       166627    -6.665   \n",
       "3           0.3450          0.000000         0.854       209531    -4.490   \n",
       "4           0.2150          0.000000         0.630       220293    -4.183   \n",
       "...            ...               ...           ...          ...       ...   \n",
       "2046        0.2700          0.013200         0.616       178984    -5.568   \n",
       "2047        0.0377          0.000000         0.869       133880    -8.151   \n",
       "2048        0.7440          0.000000         0.708       140303    -7.728   \n",
       "2049        0.1180          0.000000         0.833       272427    -4.284   \n",
       "2050        0.9860          0.000000         0.740        22747   -17.222   \n",
       "\n",
       "      valence  mode  key  \n",
       "0       0.856     1    3  \n",
       "1       0.812     1    9  \n",
       "2       0.192     1   10  \n",
       "3       0.342     1    1  \n",
       "4       0.492     1    6  \n",
       "...       ...   ...  ...  \n",
       "2046    0.465     1    2  \n",
       "2047    0.339     1    1  \n",
       "2048    0.711     0   10  \n",
       "2049    0.866     1    1  \n",
       "2050    0.963     1    1  \n",
       "\n",
       "[2051 rows x 13 columns]"
      ],
      "text/html": "<div>\n<style scoped>\n    .dataframe tbody tr th:only-of-type {\n        vertical-align: middle;\n    }\n\n    .dataframe tbody tr th {\n        vertical-align: top;\n    }\n\n    .dataframe thead th {\n        text-align: right;\n    }\n</style>\n<table border=\"1\" class=\"dataframe\">\n  <thead>\n    <tr style=\"text-align: right;\">\n      <th></th>\n      <th>song_id</th>\n      <th>energy</th>\n      <th>liveness</th>\n      <th>tempo</th>\n      <th>speechiness</th>\n      <th>acousticness</th>\n      <th>instrumentalness</th>\n      <th>danceability</th>\n      <th>duration_ms</th>\n      <th>loudness</th>\n      <th>valence</th>\n      <th>mode</th>\n      <th>key</th>\n    </tr>\n  </thead>\n  <tbody>\n    <tr>\n      <th>0</th>\n      <td>3FWAZnfVEWlUBB4YyZ0lEK</td>\n      <td>0.542</td>\n      <td>0.1550</td>\n      <td>85.150</td>\n      <td>0.0354</td>\n      <td>0.6990</td>\n      <td>0.000000</td>\n      <td>0.592</td>\n      <td>200945</td>\n      <td>-3.720</td>\n      <td>0.856</td>\n      <td>1</td>\n      <td>3</td>\n    </tr>\n    <tr>\n      <th>1</th>\n      <td>0ZLakHzHWqUIlkeDa4i8aC</td>\n      <td>0.731</td>\n      <td>0.6240</td>\n      <td>150.151</td>\n      <td>0.0368</td>\n      <td>0.0438</td>\n      <td>0.000013</td>\n      <td>0.676</td>\n      <td>233268</td>\n      <td>-5.253</td>\n      <td>0.812</td>\n      <td>1</td>\n      <td>9</td>\n    </tr>\n    <tr>\n      <th>2</th>\n      <td>5mu1uv8RmzDkF8foePK5qa</td>\n      <td>0.425</td>\n      <td>0.1080</td>\n      <td>174.028</td>\n      <td>0.1370</td>\n      <td>0.0335</td>\n      <td>0.000004</td>\n      <td>0.785</td>\n      <td>166627</td>\n      <td>-6.665</td>\n      <td>0.192</td>\n      <td>1</td>\n      <td>10</td>\n    </tr>\n    <tr>\n      <th>3</th>\n      <td>03a359wbiUsjN9h6yzXvmS</td>\n      <td>0.556</td>\n      <td>0.1650</td>\n      <td>119.938</td>\n      <td>0.1400</td>\n      <td>0.3450</td>\n      <td>0.000000</td>\n      <td>0.854</td>\n      <td>209531</td>\n      <td>-4.490</td>\n      <td>0.342</td>\n      <td>1</td>\n      <td>1</td>\n    </tr>\n    <tr>\n      <th>4</th>\n      <td>3a1lNhkSLSkpJE4MSHpDu9</td>\n      <td>0.804</td>\n      <td>0.2530</td>\n      <td>123.146</td>\n      <td>0.0363</td>\n      <td>0.2150</td>\n      <td>0.000000</td>\n      <td>0.630</td>\n      <td>220293</td>\n      <td>-4.183</td>\n      <td>0.492</td>\n      <td>1</td>\n      <td>6</td>\n    </tr>\n    <tr>\n      <th>...</th>\n      <td>...</td>\n      <td>...</td>\n      <td>...</td>\n      <td>...</td>\n      <td>...</td>\n      <td>...</td>\n      <td>...</td>\n      <td>...</td>\n      <td>...</td>\n      <td>...</td>\n      <td>...</td>\n      <td>...</td>\n      <td>...</td>\n    </tr>\n    <tr>\n      <th>2046</th>\n      <td>7kakp7vYlAUJAOTBYh42ic</td>\n      <td>0.733</td>\n      <td>0.0672</td>\n      <td>168.706</td>\n      <td>0.1940</td>\n      <td>0.2700</td>\n      <td>0.013200</td>\n      <td>0.616</td>\n      <td>178984</td>\n      <td>-5.568</td>\n      <td>0.465</td>\n      <td>1</td>\n      <td>2</td>\n    </tr>\n    <tr>\n      <th>2047</th>\n      <td>3EO0tGvdBCw6vdChaNvVlc</td>\n      <td>0.422</td>\n      <td>0.2530</td>\n      <td>138.006</td>\n      <td>0.5230</td>\n      <td>0.0377</td>\n      <td>0.000000</td>\n      <td>0.869</td>\n      <td>133880</td>\n      <td>-8.151</td>\n      <td>0.339</td>\n      <td>1</td>\n      <td>1</td>\n    </tr>\n    <tr>\n      <th>2048</th>\n      <td>3gZabQGRZVWdkCmhP7TYQD</td>\n      <td>0.799</td>\n      <td>0.0866</td>\n      <td>92.058</td>\n      <td>0.4990</td>\n      <td>0.7440</td>\n      <td>0.000000</td>\n      <td>0.708</td>\n      <td>140303</td>\n      <td>-7.728</td>\n      <td>0.711</td>\n      <td>0</td>\n      <td>10</td>\n    </tr>\n    <tr>\n      <th>2049</th>\n      <td>39eFFv5wl4sEZmBlBU7jnt</td>\n      <td>0.694</td>\n      <td>0.0232</td>\n      <td>144.962</td>\n      <td>0.0569</td>\n      <td>0.1180</td>\n      <td>0.000000</td>\n      <td>0.833</td>\n      <td>272427</td>\n      <td>-4.284</td>\n      <td>0.866</td>\n      <td>1</td>\n      <td>1</td>\n    </tr>\n    <tr>\n      <th>2050</th>\n      <td>0EgkVzDidmq4MP57jZFeik</td>\n      <td>0.266</td>\n      <td>0.5080</td>\n      <td>70.633</td>\n      <td>0.9470</td>\n      <td>0.9860</td>\n      <td>0.000000</td>\n      <td>0.740</td>\n      <td>22747</td>\n      <td>-17.222</td>\n      <td>0.963</td>\n      <td>1</td>\n      <td>1</td>\n    </tr>\n  </tbody>\n</table>\n<p>2051 rows × 13 columns</p>\n</div>"
     },
     "metadata": {},
     "execution_count": 11
    }
   ],
   "source": [
    "# NOTE: Features have already been collected, so I saved to a csv file\n",
    "my_features = pd.read_csv(\"./Documents/personal-data-analysis/spotify-personal-data-analysis/data/SongsFeatures.csv\")\n",
    "my_features"
   ]
  },
  {
   "cell_type": "code",
   "execution_count": 14,
   "metadata": {},
   "outputs": [],
   "source": [
    "# my_features = pd.DataFrame(columns=[\"song_id\",\"energy\", \"liveness\",\"tempo\",\"speechiness\",\n",
    "#                                 \"acousticness\",\"instrumentalness\",\"danceability\",\n",
    "#                                 \"duration_ms\",\"loudness\",\"valence\",\n",
    "#                                 \"mode\",\"key\"])\n",
    "\n",
    "# # Add features for each song\n",
    "# for song in tracks:\n",
    "#     features = sp.audio_features(tracks = [song])[0]\n",
    "#     if features is not None:\n",
    "#         my_features = my_features.append({\"song_id\":song,\n",
    "#                                     \"energy\":features['energy'], \n",
    "#                                     \"liveness\":features['liveness'],\n",
    "#                                     \"tempo\":features['tempo'],\n",
    "#                                     \"speechiness\":features['speechiness'],\n",
    "#                                     \"acousticness\":features['acousticness'],\n",
    "#                                     \"instrumentalness\":features['instrumentalness'],\n",
    "#                                     \"danceability\":features['danceability'],\n",
    "#                                     \"duration_ms\":features['duration_ms'],\n",
    "#                                     \"loudness\":features['loudness'],\n",
    "#                                     \"valence\":features['valence'],\n",
    "#                                     \"mode\":features['mode'],\n",
    "#                                     \"key\":features[\"key\"],\n",
    "#                                  },ignore_index=True)\n",
    "#     else:\n",
    "#         pass"
   ]
  },
  {
   "cell_type": "code",
   "execution_count": 15,
   "metadata": {},
   "outputs": [
    {
     "output_type": "execute_result",
     "data": {
      "text/plain": [
       "                     song_id  energy  liveness    tempo  speechiness  \\\n",
       "0     3FWAZnfVEWlUBB4YyZ0lEK   0.542    0.1550   85.150       0.0354   \n",
       "1     0ZLakHzHWqUIlkeDa4i8aC   0.731    0.6240  150.151       0.0368   \n",
       "2     5mu1uv8RmzDkF8foePK5qa   0.425    0.1080  174.028       0.1370   \n",
       "3     03a359wbiUsjN9h6yzXvmS   0.556    0.1650  119.938       0.1400   \n",
       "4     3a1lNhkSLSkpJE4MSHpDu9   0.804    0.2530  123.146       0.0363   \n",
       "...                      ...     ...       ...      ...          ...   \n",
       "2046  7kakp7vYlAUJAOTBYh42ic   0.733    0.0672  168.706       0.1940   \n",
       "2047  3EO0tGvdBCw6vdChaNvVlc   0.422    0.2530  138.006       0.5230   \n",
       "2048  3gZabQGRZVWdkCmhP7TYQD   0.799    0.0866   92.058       0.4990   \n",
       "2049  39eFFv5wl4sEZmBlBU7jnt   0.694    0.0232  144.962       0.0569   \n",
       "2050  0EgkVzDidmq4MP57jZFeik   0.266    0.5080   70.633       0.9470   \n",
       "\n",
       "      acousticness instrumentalness  danceability duration_ms  loudness  \\\n",
       "0           0.6990                0         0.592      200945    -3.720   \n",
       "1           0.0438         1.26e-05         0.676      233268    -5.253   \n",
       "2           0.0335         4.36e-06         0.785      166627    -6.665   \n",
       "3           0.3450                0         0.854      209531    -4.490   \n",
       "4           0.2150                0         0.630      220293    -4.183   \n",
       "...            ...              ...           ...         ...       ...   \n",
       "2046        0.2700           0.0132         0.616      178984    -5.568   \n",
       "2047        0.0377                0         0.869      133880    -8.151   \n",
       "2048        0.7440                0         0.708      140303    -7.728   \n",
       "2049        0.1180                0         0.833      272427    -4.284   \n",
       "2050        0.9860                0         0.740       22747   -17.222   \n",
       "\n",
       "      valence mode key  \n",
       "0       0.856    1   3  \n",
       "1       0.812    1   9  \n",
       "2       0.192    1  10  \n",
       "3       0.342    1   1  \n",
       "4       0.492    1   6  \n",
       "...       ...  ...  ..  \n",
       "2046    0.465    1   2  \n",
       "2047    0.339    1   1  \n",
       "2048    0.711    0  10  \n",
       "2049    0.866    1   1  \n",
       "2050    0.963    1   1  \n",
       "\n",
       "[2051 rows x 13 columns]"
      ],
      "text/html": "<div>\n<style scoped>\n    .dataframe tbody tr th:only-of-type {\n        vertical-align: middle;\n    }\n\n    .dataframe tbody tr th {\n        vertical-align: top;\n    }\n\n    .dataframe thead th {\n        text-align: right;\n    }\n</style>\n<table border=\"1\" class=\"dataframe\">\n  <thead>\n    <tr style=\"text-align: right;\">\n      <th></th>\n      <th>song_id</th>\n      <th>energy</th>\n      <th>liveness</th>\n      <th>tempo</th>\n      <th>speechiness</th>\n      <th>acousticness</th>\n      <th>instrumentalness</th>\n      <th>danceability</th>\n      <th>duration_ms</th>\n      <th>loudness</th>\n      <th>valence</th>\n      <th>mode</th>\n      <th>key</th>\n    </tr>\n  </thead>\n  <tbody>\n    <tr>\n      <th>0</th>\n      <td>3FWAZnfVEWlUBB4YyZ0lEK</td>\n      <td>0.542</td>\n      <td>0.1550</td>\n      <td>85.150</td>\n      <td>0.0354</td>\n      <td>0.6990</td>\n      <td>0</td>\n      <td>0.592</td>\n      <td>200945</td>\n      <td>-3.720</td>\n      <td>0.856</td>\n      <td>1</td>\n      <td>3</td>\n    </tr>\n    <tr>\n      <th>1</th>\n      <td>0ZLakHzHWqUIlkeDa4i8aC</td>\n      <td>0.731</td>\n      <td>0.6240</td>\n      <td>150.151</td>\n      <td>0.0368</td>\n      <td>0.0438</td>\n      <td>1.26e-05</td>\n      <td>0.676</td>\n      <td>233268</td>\n      <td>-5.253</td>\n      <td>0.812</td>\n      <td>1</td>\n      <td>9</td>\n    </tr>\n    <tr>\n      <th>2</th>\n      <td>5mu1uv8RmzDkF8foePK5qa</td>\n      <td>0.425</td>\n      <td>0.1080</td>\n      <td>174.028</td>\n      <td>0.1370</td>\n      <td>0.0335</td>\n      <td>4.36e-06</td>\n      <td>0.785</td>\n      <td>166627</td>\n      <td>-6.665</td>\n      <td>0.192</td>\n      <td>1</td>\n      <td>10</td>\n    </tr>\n    <tr>\n      <th>3</th>\n      <td>03a359wbiUsjN9h6yzXvmS</td>\n      <td>0.556</td>\n      <td>0.1650</td>\n      <td>119.938</td>\n      <td>0.1400</td>\n      <td>0.3450</td>\n      <td>0</td>\n      <td>0.854</td>\n      <td>209531</td>\n      <td>-4.490</td>\n      <td>0.342</td>\n      <td>1</td>\n      <td>1</td>\n    </tr>\n    <tr>\n      <th>4</th>\n      <td>3a1lNhkSLSkpJE4MSHpDu9</td>\n      <td>0.804</td>\n      <td>0.2530</td>\n      <td>123.146</td>\n      <td>0.0363</td>\n      <td>0.2150</td>\n      <td>0</td>\n      <td>0.630</td>\n      <td>220293</td>\n      <td>-4.183</td>\n      <td>0.492</td>\n      <td>1</td>\n      <td>6</td>\n    </tr>\n    <tr>\n      <th>...</th>\n      <td>...</td>\n      <td>...</td>\n      <td>...</td>\n      <td>...</td>\n      <td>...</td>\n      <td>...</td>\n      <td>...</td>\n      <td>...</td>\n      <td>...</td>\n      <td>...</td>\n      <td>...</td>\n      <td>...</td>\n      <td>...</td>\n    </tr>\n    <tr>\n      <th>2046</th>\n      <td>7kakp7vYlAUJAOTBYh42ic</td>\n      <td>0.733</td>\n      <td>0.0672</td>\n      <td>168.706</td>\n      <td>0.1940</td>\n      <td>0.2700</td>\n      <td>0.0132</td>\n      <td>0.616</td>\n      <td>178984</td>\n      <td>-5.568</td>\n      <td>0.465</td>\n      <td>1</td>\n      <td>2</td>\n    </tr>\n    <tr>\n      <th>2047</th>\n      <td>3EO0tGvdBCw6vdChaNvVlc</td>\n      <td>0.422</td>\n      <td>0.2530</td>\n      <td>138.006</td>\n      <td>0.5230</td>\n      <td>0.0377</td>\n      <td>0</td>\n      <td>0.869</td>\n      <td>133880</td>\n      <td>-8.151</td>\n      <td>0.339</td>\n      <td>1</td>\n      <td>1</td>\n    </tr>\n    <tr>\n      <th>2048</th>\n      <td>3gZabQGRZVWdkCmhP7TYQD</td>\n      <td>0.799</td>\n      <td>0.0866</td>\n      <td>92.058</td>\n      <td>0.4990</td>\n      <td>0.7440</td>\n      <td>0</td>\n      <td>0.708</td>\n      <td>140303</td>\n      <td>-7.728</td>\n      <td>0.711</td>\n      <td>0</td>\n      <td>10</td>\n    </tr>\n    <tr>\n      <th>2049</th>\n      <td>39eFFv5wl4sEZmBlBU7jnt</td>\n      <td>0.694</td>\n      <td>0.0232</td>\n      <td>144.962</td>\n      <td>0.0569</td>\n      <td>0.1180</td>\n      <td>0</td>\n      <td>0.833</td>\n      <td>272427</td>\n      <td>-4.284</td>\n      <td>0.866</td>\n      <td>1</td>\n      <td>1</td>\n    </tr>\n    <tr>\n      <th>2050</th>\n      <td>0EgkVzDidmq4MP57jZFeik</td>\n      <td>0.266</td>\n      <td>0.5080</td>\n      <td>70.633</td>\n      <td>0.9470</td>\n      <td>0.9860</td>\n      <td>0</td>\n      <td>0.740</td>\n      <td>22747</td>\n      <td>-17.222</td>\n      <td>0.963</td>\n      <td>1</td>\n      <td>1</td>\n    </tr>\n  </tbody>\n</table>\n<p>2051 rows × 13 columns</p>\n</div>"
     },
     "metadata": {},
     "execution_count": 15
    }
   ],
   "source": [
    "# %store my_features\n",
    "# %store -r my_features\n",
    "# my_features"
   ]
  },
  {
   "cell_type": "code",
   "execution_count": 12,
   "metadata": {},
   "outputs": [
    {
     "output_type": "execute_result",
     "data": {
      "text/plain": [
       "       artist_name                   track_name          end_time  ms_played  \\\n",
       "0      El Ezequiel                Tres Gallitos  2020-01-01 00:14      43814   \n",
       "1      El Ezequiel                Tres Gallitos  2020-01-01 00:19     200945   \n",
       "2      Los Pericos                      Runaway  2020-01-01 00:27     233267   \n",
       "3      Iggy Azalea           Kream (feat. Tyga)  2020-01-01 00:27       7032   \n",
       "4             Duki          She Don't Give a Fo  2020-01-01 00:29     117738   \n",
       "...            ...                          ...               ...        ...   \n",
       "15112         Acru                        Crudo  2020-12-16 23:14      92115   \n",
       "15113       Trueno                     Atrevido  2020-12-16 23:37       1707   \n",
       "15114       Trueno                     Atrevido  2020-12-16 23:40     194747   \n",
       "15115       Eminem  Godzilla (feat. Juice WRLD)  2020-12-16 23:44     210800   \n",
       "15116         Duki                  Hello Cotto  2020-12-16 23:47     217250   \n",
       "\n",
       "                     track_id                 song_id  energy  liveness  \\\n",
       "0      3FWAZnfVEWlUBB4YyZ0lEK  3FWAZnfVEWlUBB4YyZ0lEK   0.542    0.1550   \n",
       "1      3FWAZnfVEWlUBB4YyZ0lEK  3FWAZnfVEWlUBB4YyZ0lEK   0.542    0.1550   \n",
       "2      0ZLakHzHWqUIlkeDa4i8aC  0ZLakHzHWqUIlkeDa4i8aC   0.731    0.6240   \n",
       "3      5mu1uv8RmzDkF8foePK5qa  5mu1uv8RmzDkF8foePK5qa   0.425    0.1080   \n",
       "4      03a359wbiUsjN9h6yzXvmS  03a359wbiUsjN9h6yzXvmS   0.556    0.1650   \n",
       "...                       ...                     ...     ...       ...   \n",
       "15112  3Y0njfS1jG0EzUDKtjvS5a  3Y0njfS1jG0EzUDKtjvS5a   0.827    0.2230   \n",
       "15113  6tMqYyCVU2aKgUahMvJz2S  6tMqYyCVU2aKgUahMvJz2S   0.640    0.3740   \n",
       "15114  6tMqYyCVU2aKgUahMvJz2S  6tMqYyCVU2aKgUahMvJz2S   0.640    0.3740   \n",
       "15115  7FIWs0pqAYbP91WWM0vlTQ  7FIWs0pqAYbP91WWM0vlTQ   0.745    0.2920   \n",
       "15116  422Avi2VjqZKCVzstKmqog  422Avi2VjqZKCVzstKmqog   0.785    0.0506   \n",
       "\n",
       "         tempo  speechiness  acousticness  instrumentalness  danceability  \\\n",
       "0       85.150       0.0354        0.6990          0.000000         0.592   \n",
       "1       85.150       0.0354        0.6990          0.000000         0.592   \n",
       "2      150.151       0.0368        0.0438          0.000013         0.676   \n",
       "3      174.028       0.1370        0.0335          0.000004         0.785   \n",
       "4      119.938       0.1400        0.3450          0.000000         0.854   \n",
       "...        ...          ...           ...               ...           ...   \n",
       "15112   93.967       0.2130        0.0657          0.000000         0.687   \n",
       "15113  135.021       0.1060        0.2360          0.000000         0.864   \n",
       "15114  135.021       0.1060        0.2360          0.000000         0.864   \n",
       "15115  165.995       0.3420        0.1450          0.000000         0.808   \n",
       "15116  139.956       0.3440        0.0472          0.000000         0.843   \n",
       "\n",
       "       duration_ms  loudness  valence  mode  key  \n",
       "0           200945    -3.720    0.856     1    3  \n",
       "1           200945    -3.720    0.856     1    3  \n",
       "2           233268    -5.253    0.812     1    9  \n",
       "3           166627    -6.665    0.192     1   10  \n",
       "4           209531    -4.490    0.342     1    1  \n",
       "...            ...       ...      ...   ...  ...  \n",
       "15112       224681    -4.247    0.848     0    6  \n",
       "15113       194748    -5.489    0.858     1    8  \n",
       "15114       194748    -5.489    0.858     1    8  \n",
       "15115       210800    -5.260    0.829     0   10  \n",
       "15116       217250    -2.893    0.430     0   10  \n",
       "\n",
       "[15117 rows x 18 columns]"
      ],
      "text/html": "<div>\n<style scoped>\n    .dataframe tbody tr th:only-of-type {\n        vertical-align: middle;\n    }\n\n    .dataframe tbody tr th {\n        vertical-align: top;\n    }\n\n    .dataframe thead th {\n        text-align: right;\n    }\n</style>\n<table border=\"1\" class=\"dataframe\">\n  <thead>\n    <tr style=\"text-align: right;\">\n      <th></th>\n      <th>artist_name</th>\n      <th>track_name</th>\n      <th>end_time</th>\n      <th>ms_played</th>\n      <th>track_id</th>\n      <th>song_id</th>\n      <th>energy</th>\n      <th>liveness</th>\n      <th>tempo</th>\n      <th>speechiness</th>\n      <th>acousticness</th>\n      <th>instrumentalness</th>\n      <th>danceability</th>\n      <th>duration_ms</th>\n      <th>loudness</th>\n      <th>valence</th>\n      <th>mode</th>\n      <th>key</th>\n    </tr>\n  </thead>\n  <tbody>\n    <tr>\n      <th>0</th>\n      <td>El Ezequiel</td>\n      <td>Tres Gallitos</td>\n      <td>2020-01-01 00:14</td>\n      <td>43814</td>\n      <td>3FWAZnfVEWlUBB4YyZ0lEK</td>\n      <td>3FWAZnfVEWlUBB4YyZ0lEK</td>\n      <td>0.542</td>\n      <td>0.1550</td>\n      <td>85.150</td>\n      <td>0.0354</td>\n      <td>0.6990</td>\n      <td>0.000000</td>\n      <td>0.592</td>\n      <td>200945</td>\n      <td>-3.720</td>\n      <td>0.856</td>\n      <td>1</td>\n      <td>3</td>\n    </tr>\n    <tr>\n      <th>1</th>\n      <td>El Ezequiel</td>\n      <td>Tres Gallitos</td>\n      <td>2020-01-01 00:19</td>\n      <td>200945</td>\n      <td>3FWAZnfVEWlUBB4YyZ0lEK</td>\n      <td>3FWAZnfVEWlUBB4YyZ0lEK</td>\n      <td>0.542</td>\n      <td>0.1550</td>\n      <td>85.150</td>\n      <td>0.0354</td>\n      <td>0.6990</td>\n      <td>0.000000</td>\n      <td>0.592</td>\n      <td>200945</td>\n      <td>-3.720</td>\n      <td>0.856</td>\n      <td>1</td>\n      <td>3</td>\n    </tr>\n    <tr>\n      <th>2</th>\n      <td>Los Pericos</td>\n      <td>Runaway</td>\n      <td>2020-01-01 00:27</td>\n      <td>233267</td>\n      <td>0ZLakHzHWqUIlkeDa4i8aC</td>\n      <td>0ZLakHzHWqUIlkeDa4i8aC</td>\n      <td>0.731</td>\n      <td>0.6240</td>\n      <td>150.151</td>\n      <td>0.0368</td>\n      <td>0.0438</td>\n      <td>0.000013</td>\n      <td>0.676</td>\n      <td>233268</td>\n      <td>-5.253</td>\n      <td>0.812</td>\n      <td>1</td>\n      <td>9</td>\n    </tr>\n    <tr>\n      <th>3</th>\n      <td>Iggy Azalea</td>\n      <td>Kream (feat. Tyga)</td>\n      <td>2020-01-01 00:27</td>\n      <td>7032</td>\n      <td>5mu1uv8RmzDkF8foePK5qa</td>\n      <td>5mu1uv8RmzDkF8foePK5qa</td>\n      <td>0.425</td>\n      <td>0.1080</td>\n      <td>174.028</td>\n      <td>0.1370</td>\n      <td>0.0335</td>\n      <td>0.000004</td>\n      <td>0.785</td>\n      <td>166627</td>\n      <td>-6.665</td>\n      <td>0.192</td>\n      <td>1</td>\n      <td>10</td>\n    </tr>\n    <tr>\n      <th>4</th>\n      <td>Duki</td>\n      <td>She Don't Give a Fo</td>\n      <td>2020-01-01 00:29</td>\n      <td>117738</td>\n      <td>03a359wbiUsjN9h6yzXvmS</td>\n      <td>03a359wbiUsjN9h6yzXvmS</td>\n      <td>0.556</td>\n      <td>0.1650</td>\n      <td>119.938</td>\n      <td>0.1400</td>\n      <td>0.3450</td>\n      <td>0.000000</td>\n      <td>0.854</td>\n      <td>209531</td>\n      <td>-4.490</td>\n      <td>0.342</td>\n      <td>1</td>\n      <td>1</td>\n    </tr>\n    <tr>\n      <th>...</th>\n      <td>...</td>\n      <td>...</td>\n      <td>...</td>\n      <td>...</td>\n      <td>...</td>\n      <td>...</td>\n      <td>...</td>\n      <td>...</td>\n      <td>...</td>\n      <td>...</td>\n      <td>...</td>\n      <td>...</td>\n      <td>...</td>\n      <td>...</td>\n      <td>...</td>\n      <td>...</td>\n      <td>...</td>\n      <td>...</td>\n    </tr>\n    <tr>\n      <th>15112</th>\n      <td>Acru</td>\n      <td>Crudo</td>\n      <td>2020-12-16 23:14</td>\n      <td>92115</td>\n      <td>3Y0njfS1jG0EzUDKtjvS5a</td>\n      <td>3Y0njfS1jG0EzUDKtjvS5a</td>\n      <td>0.827</td>\n      <td>0.2230</td>\n      <td>93.967</td>\n      <td>0.2130</td>\n      <td>0.0657</td>\n      <td>0.000000</td>\n      <td>0.687</td>\n      <td>224681</td>\n      <td>-4.247</td>\n      <td>0.848</td>\n      <td>0</td>\n      <td>6</td>\n    </tr>\n    <tr>\n      <th>15113</th>\n      <td>Trueno</td>\n      <td>Atrevido</td>\n      <td>2020-12-16 23:37</td>\n      <td>1707</td>\n      <td>6tMqYyCVU2aKgUahMvJz2S</td>\n      <td>6tMqYyCVU2aKgUahMvJz2S</td>\n      <td>0.640</td>\n      <td>0.3740</td>\n      <td>135.021</td>\n      <td>0.1060</td>\n      <td>0.2360</td>\n      <td>0.000000</td>\n      <td>0.864</td>\n      <td>194748</td>\n      <td>-5.489</td>\n      <td>0.858</td>\n      <td>1</td>\n      <td>8</td>\n    </tr>\n    <tr>\n      <th>15114</th>\n      <td>Trueno</td>\n      <td>Atrevido</td>\n      <td>2020-12-16 23:40</td>\n      <td>194747</td>\n      <td>6tMqYyCVU2aKgUahMvJz2S</td>\n      <td>6tMqYyCVU2aKgUahMvJz2S</td>\n      <td>0.640</td>\n      <td>0.3740</td>\n      <td>135.021</td>\n      <td>0.1060</td>\n      <td>0.2360</td>\n      <td>0.000000</td>\n      <td>0.864</td>\n      <td>194748</td>\n      <td>-5.489</td>\n      <td>0.858</td>\n      <td>1</td>\n      <td>8</td>\n    </tr>\n    <tr>\n      <th>15115</th>\n      <td>Eminem</td>\n      <td>Godzilla (feat. Juice WRLD)</td>\n      <td>2020-12-16 23:44</td>\n      <td>210800</td>\n      <td>7FIWs0pqAYbP91WWM0vlTQ</td>\n      <td>7FIWs0pqAYbP91WWM0vlTQ</td>\n      <td>0.745</td>\n      <td>0.2920</td>\n      <td>165.995</td>\n      <td>0.3420</td>\n      <td>0.1450</td>\n      <td>0.000000</td>\n      <td>0.808</td>\n      <td>210800</td>\n      <td>-5.260</td>\n      <td>0.829</td>\n      <td>0</td>\n      <td>10</td>\n    </tr>\n    <tr>\n      <th>15116</th>\n      <td>Duki</td>\n      <td>Hello Cotto</td>\n      <td>2020-12-16 23:47</td>\n      <td>217250</td>\n      <td>422Avi2VjqZKCVzstKmqog</td>\n      <td>422Avi2VjqZKCVzstKmqog</td>\n      <td>0.785</td>\n      <td>0.0506</td>\n      <td>139.956</td>\n      <td>0.3440</td>\n      <td>0.0472</td>\n      <td>0.000000</td>\n      <td>0.843</td>\n      <td>217250</td>\n      <td>-2.893</td>\n      <td>0.430</td>\n      <td>0</td>\n      <td>10</td>\n    </tr>\n  </tbody>\n</table>\n<p>15117 rows × 18 columns</p>\n</div>"
     },
     "metadata": {},
     "execution_count": 12
    }
   ],
   "source": [
    "# Merge Ids with the rest of the song info\n",
    "my_streaming_data = pd.merge(songs_data, my_features, how=\"left\", left_on=\"track_id\", right_on=\"song_id\")\n",
    "my_streaming_data"
   ]
  },
  {
   "cell_type": "code",
   "execution_count": 13,
   "metadata": {},
   "outputs": [
    {
     "output_type": "execute_result",
     "data": {
      "text/plain": [
       "       artist_name                   track_name          end_time  ms_played  \\\n",
       "0      El Ezequiel                Tres Gallitos  2020-01-01 00:14      43814   \n",
       "1      El Ezequiel                Tres Gallitos  2020-01-01 00:19     200945   \n",
       "2      Los Pericos                      Runaway  2020-01-01 00:27     233267   \n",
       "3      Iggy Azalea           Kream (feat. Tyga)  2020-01-01 00:27       7032   \n",
       "4             Duki          She Don't Give a Fo  2020-01-01 00:29     117738   \n",
       "...            ...                          ...               ...        ...   \n",
       "15112         Acru                        Crudo  2020-12-16 23:14      92115   \n",
       "15113       Trueno                     Atrevido  2020-12-16 23:37       1707   \n",
       "15114       Trueno                     Atrevido  2020-12-16 23:40     194747   \n",
       "15115       Eminem  Godzilla (feat. Juice WRLD)  2020-12-16 23:44     210800   \n",
       "15116         Duki                  Hello Cotto  2020-12-16 23:47     217250   \n",
       "\n",
       "                     track_id                 song_id  energy  liveness  \\\n",
       "0      3FWAZnfVEWlUBB4YyZ0lEK  3FWAZnfVEWlUBB4YyZ0lEK   0.542    0.1550   \n",
       "1      3FWAZnfVEWlUBB4YyZ0lEK  3FWAZnfVEWlUBB4YyZ0lEK   0.542    0.1550   \n",
       "2      0ZLakHzHWqUIlkeDa4i8aC  0ZLakHzHWqUIlkeDa4i8aC   0.731    0.6240   \n",
       "3      5mu1uv8RmzDkF8foePK5qa  5mu1uv8RmzDkF8foePK5qa   0.425    0.1080   \n",
       "4      03a359wbiUsjN9h6yzXvmS  03a359wbiUsjN9h6yzXvmS   0.556    0.1650   \n",
       "...                       ...                     ...     ...       ...   \n",
       "15112  3Y0njfS1jG0EzUDKtjvS5a  3Y0njfS1jG0EzUDKtjvS5a   0.827    0.2230   \n",
       "15113  6tMqYyCVU2aKgUahMvJz2S  6tMqYyCVU2aKgUahMvJz2S   0.640    0.3740   \n",
       "15114  6tMqYyCVU2aKgUahMvJz2S  6tMqYyCVU2aKgUahMvJz2S   0.640    0.3740   \n",
       "15115  7FIWs0pqAYbP91WWM0vlTQ  7FIWs0pqAYbP91WWM0vlTQ   0.745    0.2920   \n",
       "15116  422Avi2VjqZKCVzstKmqog  422Avi2VjqZKCVzstKmqog   0.785    0.0506   \n",
       "\n",
       "         tempo  speechiness  acousticness  instrumentalness  danceability  \\\n",
       "0       85.150       0.0354        0.6990          0.000000         0.592   \n",
       "1       85.150       0.0354        0.6990          0.000000         0.592   \n",
       "2      150.151       0.0368        0.0438          0.000013         0.676   \n",
       "3      174.028       0.1370        0.0335          0.000004         0.785   \n",
       "4      119.938       0.1400        0.3450          0.000000         0.854   \n",
       "...        ...          ...           ...               ...           ...   \n",
       "15112   93.967       0.2130        0.0657          0.000000         0.687   \n",
       "15113  135.021       0.1060        0.2360          0.000000         0.864   \n",
       "15114  135.021       0.1060        0.2360          0.000000         0.864   \n",
       "15115  165.995       0.3420        0.1450          0.000000         0.808   \n",
       "15116  139.956       0.3440        0.0472          0.000000         0.843   \n",
       "\n",
       "       duration_ms  loudness  valence  mode  key  \n",
       "0           200945    -3.720    0.856     1    3  \n",
       "1           200945    -3.720    0.856     1    3  \n",
       "2           233268    -5.253    0.812     1    9  \n",
       "3           166627    -6.665    0.192     1   10  \n",
       "4           209531    -4.490    0.342     1    1  \n",
       "...            ...       ...      ...   ...  ...  \n",
       "15112       224681    -4.247    0.848     0    6  \n",
       "15113       194748    -5.489    0.858     1    8  \n",
       "15114       194748    -5.489    0.858     1    8  \n",
       "15115       210800    -5.260    0.829     0   10  \n",
       "15116       217250    -2.893    0.430     0   10  \n",
       "\n",
       "[14994 rows x 18 columns]"
      ],
      "text/html": "<div>\n<style scoped>\n    .dataframe tbody tr th:only-of-type {\n        vertical-align: middle;\n    }\n\n    .dataframe tbody tr th {\n        vertical-align: top;\n    }\n\n    .dataframe thead th {\n        text-align: right;\n    }\n</style>\n<table border=\"1\" class=\"dataframe\">\n  <thead>\n    <tr style=\"text-align: right;\">\n      <th></th>\n      <th>artist_name</th>\n      <th>track_name</th>\n      <th>end_time</th>\n      <th>ms_played</th>\n      <th>track_id</th>\n      <th>song_id</th>\n      <th>energy</th>\n      <th>liveness</th>\n      <th>tempo</th>\n      <th>speechiness</th>\n      <th>acousticness</th>\n      <th>instrumentalness</th>\n      <th>danceability</th>\n      <th>duration_ms</th>\n      <th>loudness</th>\n      <th>valence</th>\n      <th>mode</th>\n      <th>key</th>\n    </tr>\n  </thead>\n  <tbody>\n    <tr>\n      <th>0</th>\n      <td>El Ezequiel</td>\n      <td>Tres Gallitos</td>\n      <td>2020-01-01 00:14</td>\n      <td>43814</td>\n      <td>3FWAZnfVEWlUBB4YyZ0lEK</td>\n      <td>3FWAZnfVEWlUBB4YyZ0lEK</td>\n      <td>0.542</td>\n      <td>0.1550</td>\n      <td>85.150</td>\n      <td>0.0354</td>\n      <td>0.6990</td>\n      <td>0.000000</td>\n      <td>0.592</td>\n      <td>200945</td>\n      <td>-3.720</td>\n      <td>0.856</td>\n      <td>1</td>\n      <td>3</td>\n    </tr>\n    <tr>\n      <th>1</th>\n      <td>El Ezequiel</td>\n      <td>Tres Gallitos</td>\n      <td>2020-01-01 00:19</td>\n      <td>200945</td>\n      <td>3FWAZnfVEWlUBB4YyZ0lEK</td>\n      <td>3FWAZnfVEWlUBB4YyZ0lEK</td>\n      <td>0.542</td>\n      <td>0.1550</td>\n      <td>85.150</td>\n      <td>0.0354</td>\n      <td>0.6990</td>\n      <td>0.000000</td>\n      <td>0.592</td>\n      <td>200945</td>\n      <td>-3.720</td>\n      <td>0.856</td>\n      <td>1</td>\n      <td>3</td>\n    </tr>\n    <tr>\n      <th>2</th>\n      <td>Los Pericos</td>\n      <td>Runaway</td>\n      <td>2020-01-01 00:27</td>\n      <td>233267</td>\n      <td>0ZLakHzHWqUIlkeDa4i8aC</td>\n      <td>0ZLakHzHWqUIlkeDa4i8aC</td>\n      <td>0.731</td>\n      <td>0.6240</td>\n      <td>150.151</td>\n      <td>0.0368</td>\n      <td>0.0438</td>\n      <td>0.000013</td>\n      <td>0.676</td>\n      <td>233268</td>\n      <td>-5.253</td>\n      <td>0.812</td>\n      <td>1</td>\n      <td>9</td>\n    </tr>\n    <tr>\n      <th>3</th>\n      <td>Iggy Azalea</td>\n      <td>Kream (feat. Tyga)</td>\n      <td>2020-01-01 00:27</td>\n      <td>7032</td>\n      <td>5mu1uv8RmzDkF8foePK5qa</td>\n      <td>5mu1uv8RmzDkF8foePK5qa</td>\n      <td>0.425</td>\n      <td>0.1080</td>\n      <td>174.028</td>\n      <td>0.1370</td>\n      <td>0.0335</td>\n      <td>0.000004</td>\n      <td>0.785</td>\n      <td>166627</td>\n      <td>-6.665</td>\n      <td>0.192</td>\n      <td>1</td>\n      <td>10</td>\n    </tr>\n    <tr>\n      <th>4</th>\n      <td>Duki</td>\n      <td>She Don't Give a Fo</td>\n      <td>2020-01-01 00:29</td>\n      <td>117738</td>\n      <td>03a359wbiUsjN9h6yzXvmS</td>\n      <td>03a359wbiUsjN9h6yzXvmS</td>\n      <td>0.556</td>\n      <td>0.1650</td>\n      <td>119.938</td>\n      <td>0.1400</td>\n      <td>0.3450</td>\n      <td>0.000000</td>\n      <td>0.854</td>\n      <td>209531</td>\n      <td>-4.490</td>\n      <td>0.342</td>\n      <td>1</td>\n      <td>1</td>\n    </tr>\n    <tr>\n      <th>...</th>\n      <td>...</td>\n      <td>...</td>\n      <td>...</td>\n      <td>...</td>\n      <td>...</td>\n      <td>...</td>\n      <td>...</td>\n      <td>...</td>\n      <td>...</td>\n      <td>...</td>\n      <td>...</td>\n      <td>...</td>\n      <td>...</td>\n      <td>...</td>\n      <td>...</td>\n      <td>...</td>\n      <td>...</td>\n      <td>...</td>\n    </tr>\n    <tr>\n      <th>15112</th>\n      <td>Acru</td>\n      <td>Crudo</td>\n      <td>2020-12-16 23:14</td>\n      <td>92115</td>\n      <td>3Y0njfS1jG0EzUDKtjvS5a</td>\n      <td>3Y0njfS1jG0EzUDKtjvS5a</td>\n      <td>0.827</td>\n      <td>0.2230</td>\n      <td>93.967</td>\n      <td>0.2130</td>\n      <td>0.0657</td>\n      <td>0.000000</td>\n      <td>0.687</td>\n      <td>224681</td>\n      <td>-4.247</td>\n      <td>0.848</td>\n      <td>0</td>\n      <td>6</td>\n    </tr>\n    <tr>\n      <th>15113</th>\n      <td>Trueno</td>\n      <td>Atrevido</td>\n      <td>2020-12-16 23:37</td>\n      <td>1707</td>\n      <td>6tMqYyCVU2aKgUahMvJz2S</td>\n      <td>6tMqYyCVU2aKgUahMvJz2S</td>\n      <td>0.640</td>\n      <td>0.3740</td>\n      <td>135.021</td>\n      <td>0.1060</td>\n      <td>0.2360</td>\n      <td>0.000000</td>\n      <td>0.864</td>\n      <td>194748</td>\n      <td>-5.489</td>\n      <td>0.858</td>\n      <td>1</td>\n      <td>8</td>\n    </tr>\n    <tr>\n      <th>15114</th>\n      <td>Trueno</td>\n      <td>Atrevido</td>\n      <td>2020-12-16 23:40</td>\n      <td>194747</td>\n      <td>6tMqYyCVU2aKgUahMvJz2S</td>\n      <td>6tMqYyCVU2aKgUahMvJz2S</td>\n      <td>0.640</td>\n      <td>0.3740</td>\n      <td>135.021</td>\n      <td>0.1060</td>\n      <td>0.2360</td>\n      <td>0.000000</td>\n      <td>0.864</td>\n      <td>194748</td>\n      <td>-5.489</td>\n      <td>0.858</td>\n      <td>1</td>\n      <td>8</td>\n    </tr>\n    <tr>\n      <th>15115</th>\n      <td>Eminem</td>\n      <td>Godzilla (feat. Juice WRLD)</td>\n      <td>2020-12-16 23:44</td>\n      <td>210800</td>\n      <td>7FIWs0pqAYbP91WWM0vlTQ</td>\n      <td>7FIWs0pqAYbP91WWM0vlTQ</td>\n      <td>0.745</td>\n      <td>0.2920</td>\n      <td>165.995</td>\n      <td>0.3420</td>\n      <td>0.1450</td>\n      <td>0.000000</td>\n      <td>0.808</td>\n      <td>210800</td>\n      <td>-5.260</td>\n      <td>0.829</td>\n      <td>0</td>\n      <td>10</td>\n    </tr>\n    <tr>\n      <th>15116</th>\n      <td>Duki</td>\n      <td>Hello Cotto</td>\n      <td>2020-12-16 23:47</td>\n      <td>217250</td>\n      <td>422Avi2VjqZKCVzstKmqog</td>\n      <td>422Avi2VjqZKCVzstKmqog</td>\n      <td>0.785</td>\n      <td>0.0506</td>\n      <td>139.956</td>\n      <td>0.3440</td>\n      <td>0.0472</td>\n      <td>0.000000</td>\n      <td>0.843</td>\n      <td>217250</td>\n      <td>-2.893</td>\n      <td>0.430</td>\n      <td>0</td>\n      <td>10</td>\n    </tr>\n  </tbody>\n</table>\n<p>14994 rows × 18 columns</p>\n</div>"
     },
     "metadata": {},
     "execution_count": 13
    }
   ],
   "source": [
    "# Delete songs that played for 0ms\n",
    "my_streaming_data.drop(my_streaming_data[my_streaming_data[\"ms_played\"]==0].index, inplace=True)\n",
    "my_streaming_data"
   ]
  },
  {
   "cell_type": "code",
   "execution_count": 14,
   "metadata": {},
   "outputs": [
    {
     "output_type": "execute_result",
     "data": {
      "text/plain": [
       "0        0.897142\n",
       "1        0.897142\n",
       "2        0.860993\n",
       "3        0.827698\n",
       "4        0.878985\n",
       "           ...   \n",
       "15112    0.884715\n",
       "15113    0.855428\n",
       "15114    0.855428\n",
       "15115    0.860828\n",
       "15116    0.916643\n",
       "Name: loudness_adj, Length: 14994, dtype: float64"
      ]
     },
     "metadata": {},
     "execution_count": 14
    }
   ],
   "source": [
    "# Scale feature to between 0 and 1 using normalization\n",
    "def scale_feature(df, col):\n",
    "    max_val = df[col].max()\n",
    "    min_val = df[col].min()\n",
    "    val_range = max_val - min_val\n",
    "    df[col+'_adj']=df[col].apply(lambda x: ((x-min_val)/(max_val-min_val)))\n",
    "    return\n",
    "\n",
    "scale_feature(my_streaming_data, 'loudness')\n",
    "my_streaming_data['loudness_adj']"
   ]
  },
  {
   "cell_type": "code",
   "execution_count": 15,
   "metadata": {},
   "outputs": [
    {
     "output_type": "execute_result",
     "data": {
      "text/plain": [
       "       artist_name                   track_name          end_time  ms_played  \\\n",
       "0      El Ezequiel                Tres Gallitos  2020-01-01 00:14      43814   \n",
       "1      El Ezequiel                Tres Gallitos  2020-01-01 00:19     200945   \n",
       "2      Los Pericos                      Runaway  2020-01-01 00:27     233267   \n",
       "3      Iggy Azalea           Kream (feat. Tyga)  2020-01-01 00:27       7032   \n",
       "4             Duki          She Don't Give a Fo  2020-01-01 00:29     117738   \n",
       "...            ...                          ...               ...        ...   \n",
       "15112         Acru                        Crudo  2020-12-16 23:14      92115   \n",
       "15113       Trueno                     Atrevido  2020-12-16 23:37       1707   \n",
       "15114       Trueno                     Atrevido  2020-12-16 23:40     194747   \n",
       "15115       Eminem  Godzilla (feat. Juice WRLD)  2020-12-16 23:44     210800   \n",
       "15116         Duki                  Hello Cotto  2020-12-16 23:47     217250   \n",
       "\n",
       "                     track_id                 song_id  energy  liveness  \\\n",
       "0      3FWAZnfVEWlUBB4YyZ0lEK  3FWAZnfVEWlUBB4YyZ0lEK   0.542    0.1550   \n",
       "1      3FWAZnfVEWlUBB4YyZ0lEK  3FWAZnfVEWlUBB4YyZ0lEK   0.542    0.1550   \n",
       "2      0ZLakHzHWqUIlkeDa4i8aC  0ZLakHzHWqUIlkeDa4i8aC   0.731    0.6240   \n",
       "3      5mu1uv8RmzDkF8foePK5qa  5mu1uv8RmzDkF8foePK5qa   0.425    0.1080   \n",
       "4      03a359wbiUsjN9h6yzXvmS  03a359wbiUsjN9h6yzXvmS   0.556    0.1650   \n",
       "...                       ...                     ...     ...       ...   \n",
       "15112  3Y0njfS1jG0EzUDKtjvS5a  3Y0njfS1jG0EzUDKtjvS5a   0.827    0.2230   \n",
       "15113  6tMqYyCVU2aKgUahMvJz2S  6tMqYyCVU2aKgUahMvJz2S   0.640    0.3740   \n",
       "15114  6tMqYyCVU2aKgUahMvJz2S  6tMqYyCVU2aKgUahMvJz2S   0.640    0.3740   \n",
       "15115  7FIWs0pqAYbP91WWM0vlTQ  7FIWs0pqAYbP91WWM0vlTQ   0.745    0.2920   \n",
       "15116  422Avi2VjqZKCVzstKmqog  422Avi2VjqZKCVzstKmqog   0.785    0.0506   \n",
       "\n",
       "         tempo  speechiness  ...  instrumentalness  danceability  duration_ms  \\\n",
       "0       85.150       0.0354  ...          0.000000         0.592       200945   \n",
       "1       85.150       0.0354  ...          0.000000         0.592       200945   \n",
       "2      150.151       0.0368  ...          0.000013         0.676       233268   \n",
       "3      174.028       0.1370  ...          0.000004         0.785       166627   \n",
       "4      119.938       0.1400  ...          0.000000         0.854       209531   \n",
       "...        ...          ...  ...               ...           ...          ...   \n",
       "15112   93.967       0.2130  ...          0.000000         0.687       224681   \n",
       "15113  135.021       0.1060  ...          0.000000         0.864       194748   \n",
       "15114  135.021       0.1060  ...          0.000000         0.864       194748   \n",
       "15115  165.995       0.3420  ...          0.000000         0.808       210800   \n",
       "15116  139.956       0.3440  ...          0.000000         0.843       217250   \n",
       "\n",
       "       loudness  valence  mode  key  loudness_adj       date mins_played  \n",
       "0        -3.720    0.856     1    3      0.897142 2020-01-01        0.73  \n",
       "1        -3.720    0.856     1    3      0.897142 2020-01-01        3.35  \n",
       "2        -5.253    0.812     1    9      0.860993 2020-01-01        3.89  \n",
       "3        -6.665    0.192     1   10      0.827698 2020-01-01        0.12  \n",
       "4        -4.490    0.342     1    1      0.878985 2020-01-01        1.96  \n",
       "...         ...      ...   ...  ...           ...        ...         ...  \n",
       "15112    -4.247    0.848     0    6      0.884715 2020-12-16        1.54  \n",
       "15113    -5.489    0.858     1    8      0.855428 2020-12-16        0.03  \n",
       "15114    -5.489    0.858     1    8      0.855428 2020-12-16        3.25  \n",
       "15115    -5.260    0.829     0   10      0.860828 2020-12-16        3.51  \n",
       "15116    -2.893    0.430     0   10      0.916643 2020-12-16        3.62  \n",
       "\n",
       "[14994 rows x 21 columns]"
      ],
      "text/html": "<div>\n<style scoped>\n    .dataframe tbody tr th:only-of-type {\n        vertical-align: middle;\n    }\n\n    .dataframe tbody tr th {\n        vertical-align: top;\n    }\n\n    .dataframe thead th {\n        text-align: right;\n    }\n</style>\n<table border=\"1\" class=\"dataframe\">\n  <thead>\n    <tr style=\"text-align: right;\">\n      <th></th>\n      <th>artist_name</th>\n      <th>track_name</th>\n      <th>end_time</th>\n      <th>ms_played</th>\n      <th>track_id</th>\n      <th>song_id</th>\n      <th>energy</th>\n      <th>liveness</th>\n      <th>tempo</th>\n      <th>speechiness</th>\n      <th>...</th>\n      <th>instrumentalness</th>\n      <th>danceability</th>\n      <th>duration_ms</th>\n      <th>loudness</th>\n      <th>valence</th>\n      <th>mode</th>\n      <th>key</th>\n      <th>loudness_adj</th>\n      <th>date</th>\n      <th>mins_played</th>\n    </tr>\n  </thead>\n  <tbody>\n    <tr>\n      <th>0</th>\n      <td>El Ezequiel</td>\n      <td>Tres Gallitos</td>\n      <td>2020-01-01 00:14</td>\n      <td>43814</td>\n      <td>3FWAZnfVEWlUBB4YyZ0lEK</td>\n      <td>3FWAZnfVEWlUBB4YyZ0lEK</td>\n      <td>0.542</td>\n      <td>0.1550</td>\n      <td>85.150</td>\n      <td>0.0354</td>\n      <td>...</td>\n      <td>0.000000</td>\n      <td>0.592</td>\n      <td>200945</td>\n      <td>-3.720</td>\n      <td>0.856</td>\n      <td>1</td>\n      <td>3</td>\n      <td>0.897142</td>\n      <td>2020-01-01</td>\n      <td>0.73</td>\n    </tr>\n    <tr>\n      <th>1</th>\n      <td>El Ezequiel</td>\n      <td>Tres Gallitos</td>\n      <td>2020-01-01 00:19</td>\n      <td>200945</td>\n      <td>3FWAZnfVEWlUBB4YyZ0lEK</td>\n      <td>3FWAZnfVEWlUBB4YyZ0lEK</td>\n      <td>0.542</td>\n      <td>0.1550</td>\n      <td>85.150</td>\n      <td>0.0354</td>\n      <td>...</td>\n      <td>0.000000</td>\n      <td>0.592</td>\n      <td>200945</td>\n      <td>-3.720</td>\n      <td>0.856</td>\n      <td>1</td>\n      <td>3</td>\n      <td>0.897142</td>\n      <td>2020-01-01</td>\n      <td>3.35</td>\n    </tr>\n    <tr>\n      <th>2</th>\n      <td>Los Pericos</td>\n      <td>Runaway</td>\n      <td>2020-01-01 00:27</td>\n      <td>233267</td>\n      <td>0ZLakHzHWqUIlkeDa4i8aC</td>\n      <td>0ZLakHzHWqUIlkeDa4i8aC</td>\n      <td>0.731</td>\n      <td>0.6240</td>\n      <td>150.151</td>\n      <td>0.0368</td>\n      <td>...</td>\n      <td>0.000013</td>\n      <td>0.676</td>\n      <td>233268</td>\n      <td>-5.253</td>\n      <td>0.812</td>\n      <td>1</td>\n      <td>9</td>\n      <td>0.860993</td>\n      <td>2020-01-01</td>\n      <td>3.89</td>\n    </tr>\n    <tr>\n      <th>3</th>\n      <td>Iggy Azalea</td>\n      <td>Kream (feat. Tyga)</td>\n      <td>2020-01-01 00:27</td>\n      <td>7032</td>\n      <td>5mu1uv8RmzDkF8foePK5qa</td>\n      <td>5mu1uv8RmzDkF8foePK5qa</td>\n      <td>0.425</td>\n      <td>0.1080</td>\n      <td>174.028</td>\n      <td>0.1370</td>\n      <td>...</td>\n      <td>0.000004</td>\n      <td>0.785</td>\n      <td>166627</td>\n      <td>-6.665</td>\n      <td>0.192</td>\n      <td>1</td>\n      <td>10</td>\n      <td>0.827698</td>\n      <td>2020-01-01</td>\n      <td>0.12</td>\n    </tr>\n    <tr>\n      <th>4</th>\n      <td>Duki</td>\n      <td>She Don't Give a Fo</td>\n      <td>2020-01-01 00:29</td>\n      <td>117738</td>\n      <td>03a359wbiUsjN9h6yzXvmS</td>\n      <td>03a359wbiUsjN9h6yzXvmS</td>\n      <td>0.556</td>\n      <td>0.1650</td>\n      <td>119.938</td>\n      <td>0.1400</td>\n      <td>...</td>\n      <td>0.000000</td>\n      <td>0.854</td>\n      <td>209531</td>\n      <td>-4.490</td>\n      <td>0.342</td>\n      <td>1</td>\n      <td>1</td>\n      <td>0.878985</td>\n      <td>2020-01-01</td>\n      <td>1.96</td>\n    </tr>\n    <tr>\n      <th>...</th>\n      <td>...</td>\n      <td>...</td>\n      <td>...</td>\n      <td>...</td>\n      <td>...</td>\n      <td>...</td>\n      <td>...</td>\n      <td>...</td>\n      <td>...</td>\n      <td>...</td>\n      <td>...</td>\n      <td>...</td>\n      <td>...</td>\n      <td>...</td>\n      <td>...</td>\n      <td>...</td>\n      <td>...</td>\n      <td>...</td>\n      <td>...</td>\n      <td>...</td>\n      <td>...</td>\n    </tr>\n    <tr>\n      <th>15112</th>\n      <td>Acru</td>\n      <td>Crudo</td>\n      <td>2020-12-16 23:14</td>\n      <td>92115</td>\n      <td>3Y0njfS1jG0EzUDKtjvS5a</td>\n      <td>3Y0njfS1jG0EzUDKtjvS5a</td>\n      <td>0.827</td>\n      <td>0.2230</td>\n      <td>93.967</td>\n      <td>0.2130</td>\n      <td>...</td>\n      <td>0.000000</td>\n      <td>0.687</td>\n      <td>224681</td>\n      <td>-4.247</td>\n      <td>0.848</td>\n      <td>0</td>\n      <td>6</td>\n      <td>0.884715</td>\n      <td>2020-12-16</td>\n      <td>1.54</td>\n    </tr>\n    <tr>\n      <th>15113</th>\n      <td>Trueno</td>\n      <td>Atrevido</td>\n      <td>2020-12-16 23:37</td>\n      <td>1707</td>\n      <td>6tMqYyCVU2aKgUahMvJz2S</td>\n      <td>6tMqYyCVU2aKgUahMvJz2S</td>\n      <td>0.640</td>\n      <td>0.3740</td>\n      <td>135.021</td>\n      <td>0.1060</td>\n      <td>...</td>\n      <td>0.000000</td>\n      <td>0.864</td>\n      <td>194748</td>\n      <td>-5.489</td>\n      <td>0.858</td>\n      <td>1</td>\n      <td>8</td>\n      <td>0.855428</td>\n      <td>2020-12-16</td>\n      <td>0.03</td>\n    </tr>\n    <tr>\n      <th>15114</th>\n      <td>Trueno</td>\n      <td>Atrevido</td>\n      <td>2020-12-16 23:40</td>\n      <td>194747</td>\n      <td>6tMqYyCVU2aKgUahMvJz2S</td>\n      <td>6tMqYyCVU2aKgUahMvJz2S</td>\n      <td>0.640</td>\n      <td>0.3740</td>\n      <td>135.021</td>\n      <td>0.1060</td>\n      <td>...</td>\n      <td>0.000000</td>\n      <td>0.864</td>\n      <td>194748</td>\n      <td>-5.489</td>\n      <td>0.858</td>\n      <td>1</td>\n      <td>8</td>\n      <td>0.855428</td>\n      <td>2020-12-16</td>\n      <td>3.25</td>\n    </tr>\n    <tr>\n      <th>15115</th>\n      <td>Eminem</td>\n      <td>Godzilla (feat. Juice WRLD)</td>\n      <td>2020-12-16 23:44</td>\n      <td>210800</td>\n      <td>7FIWs0pqAYbP91WWM0vlTQ</td>\n      <td>7FIWs0pqAYbP91WWM0vlTQ</td>\n      <td>0.745</td>\n      <td>0.2920</td>\n      <td>165.995</td>\n      <td>0.3420</td>\n      <td>...</td>\n      <td>0.000000</td>\n      <td>0.808</td>\n      <td>210800</td>\n      <td>-5.260</td>\n      <td>0.829</td>\n      <td>0</td>\n      <td>10</td>\n      <td>0.860828</td>\n      <td>2020-12-16</td>\n      <td>3.51</td>\n    </tr>\n    <tr>\n      <th>15116</th>\n      <td>Duki</td>\n      <td>Hello Cotto</td>\n      <td>2020-12-16 23:47</td>\n      <td>217250</td>\n      <td>422Avi2VjqZKCVzstKmqog</td>\n      <td>422Avi2VjqZKCVzstKmqog</td>\n      <td>0.785</td>\n      <td>0.0506</td>\n      <td>139.956</td>\n      <td>0.3440</td>\n      <td>...</td>\n      <td>0.000000</td>\n      <td>0.843</td>\n      <td>217250</td>\n      <td>-2.893</td>\n      <td>0.430</td>\n      <td>0</td>\n      <td>10</td>\n      <td>0.916643</td>\n      <td>2020-12-16</td>\n      <td>3.62</td>\n    </tr>\n  </tbody>\n</table>\n<p>14994 rows × 21 columns</p>\n</div>"
     },
     "metadata": {},
     "execution_count": 15
    }
   ],
   "source": [
    "my_streaming_data['date'] = my_streaming_data.apply(lambda x: pd.to_datetime(x['end_time'][:10],format='%Y-%m-%d'),axis=1)\n",
    "my_streaming_data['mins_played'] = my_streaming_data.apply(lambda x: round(x['ms_played']/60000,2), axis=1)\n",
    "my_streaming_data"
   ]
  },
  {
   "cell_type": "code",
   "execution_count": 22,
   "metadata": {},
   "outputs": [],
   "source": [
    "# FINISHED DATA MANIPULATION STAGE"
   ]
  },
  {
   "cell_type": "code",
   "execution_count": 16,
   "metadata": {},
   "outputs": [],
   "source": [
    "# Getting averages for interesting features in songs\n",
    "\n",
    "def get_feature_average(df, feature):\n",
    "    return df[feature].mean()\n",
    "\n",
    "features_of_interest = [\"energy\", \"liveness\", \"speechiness\", \"acousticness\", \"instrumentalness\", \"danceability\", \"loudness_adj\"]\n",
    "features_average = list()\n",
    "for feature in features_of_interest:\n",
    "    features_average.append(get_feature_average(my_streaming_data, feature=feature))"
   ]
  },
  {
   "cell_type": "code",
   "execution_count": 17,
   "metadata": {},
   "outputs": [
    {
     "output_type": "display_data",
     "data": {
      "application/vnd.plotly.v1+json": {
       "config": {
        "plotlyServerURL": "https://plot.ly"
       },
       "data": [
        {
         "fill": "toself",
         "hovertemplate": "r=%{r}<br>theta=%{theta}<extra></extra>",
         "legendgroup": "",
         "line": {
          "color": "rgb(36, 86, 104)",
          "dash": "solid"
         },
         "mode": "lines",
         "name": "",
         "r": [
          0.6587528311324377,
          0.20636461918100363,
          0.17240541549953214,
          0.24185912046884953,
          0.06513877921235114,
          0.6865441043083992,
          0.8202589719783885,
          0.6587528311324377
         ],
         "showlegend": false,
         "subplot": "polar",
         "theta": [
          "energy",
          "liveness",
          "speechiness",
          "acousticness",
          "instrumentalness",
          "danceability",
          "loudness_adj",
          "energy"
         ],
         "type": "scatterpolar"
        }
       ],
       "layout": {
        "legend": {
         "tracegroupgap": 0
        },
        "polar": {
         "angularaxis": {
          "direction": "clockwise",
          "rotation": 90
         },
         "domain": {
          "x": [
           0,
           1
          ],
          "y": [
           0,
           1
          ]
         }
        },
        "template": {
         "data": {
          "bar": [
           {
            "error_x": {
             "color": "#2a3f5f"
            },
            "error_y": {
             "color": "#2a3f5f"
            },
            "marker": {
             "line": {
              "color": "#E5ECF6",
              "width": 0.5
             }
            },
            "type": "bar"
           }
          ],
          "barpolar": [
           {
            "marker": {
             "line": {
              "color": "#E5ECF6",
              "width": 0.5
             }
            },
            "type": "barpolar"
           }
          ],
          "carpet": [
           {
            "aaxis": {
             "endlinecolor": "#2a3f5f",
             "gridcolor": "white",
             "linecolor": "white",
             "minorgridcolor": "white",
             "startlinecolor": "#2a3f5f"
            },
            "baxis": {
             "endlinecolor": "#2a3f5f",
             "gridcolor": "white",
             "linecolor": "white",
             "minorgridcolor": "white",
             "startlinecolor": "#2a3f5f"
            },
            "type": "carpet"
           }
          ],
          "choropleth": [
           {
            "colorbar": {
             "outlinewidth": 0,
             "ticks": ""
            },
            "type": "choropleth"
           }
          ],
          "contour": [
           {
            "colorbar": {
             "outlinewidth": 0,
             "ticks": ""
            },
            "colorscale": [
             [
              0,
              "#0d0887"
             ],
             [
              0.1111111111111111,
              "#46039f"
             ],
             [
              0.2222222222222222,
              "#7201a8"
             ],
             [
              0.3333333333333333,
              "#9c179e"
             ],
             [
              0.4444444444444444,
              "#bd3786"
             ],
             [
              0.5555555555555556,
              "#d8576b"
             ],
             [
              0.6666666666666666,
              "#ed7953"
             ],
             [
              0.7777777777777778,
              "#fb9f3a"
             ],
             [
              0.8888888888888888,
              "#fdca26"
             ],
             [
              1,
              "#f0f921"
             ]
            ],
            "type": "contour"
           }
          ],
          "contourcarpet": [
           {
            "colorbar": {
             "outlinewidth": 0,
             "ticks": ""
            },
            "type": "contourcarpet"
           }
          ],
          "heatmap": [
           {
            "colorbar": {
             "outlinewidth": 0,
             "ticks": ""
            },
            "colorscale": [
             [
              0,
              "#0d0887"
             ],
             [
              0.1111111111111111,
              "#46039f"
             ],
             [
              0.2222222222222222,
              "#7201a8"
             ],
             [
              0.3333333333333333,
              "#9c179e"
             ],
             [
              0.4444444444444444,
              "#bd3786"
             ],
             [
              0.5555555555555556,
              "#d8576b"
             ],
             [
              0.6666666666666666,
              "#ed7953"
             ],
             [
              0.7777777777777778,
              "#fb9f3a"
             ],
             [
              0.8888888888888888,
              "#fdca26"
             ],
             [
              1,
              "#f0f921"
             ]
            ],
            "type": "heatmap"
           }
          ],
          "heatmapgl": [
           {
            "colorbar": {
             "outlinewidth": 0,
             "ticks": ""
            },
            "colorscale": [
             [
              0,
              "#0d0887"
             ],
             [
              0.1111111111111111,
              "#46039f"
             ],
             [
              0.2222222222222222,
              "#7201a8"
             ],
             [
              0.3333333333333333,
              "#9c179e"
             ],
             [
              0.4444444444444444,
              "#bd3786"
             ],
             [
              0.5555555555555556,
              "#d8576b"
             ],
             [
              0.6666666666666666,
              "#ed7953"
             ],
             [
              0.7777777777777778,
              "#fb9f3a"
             ],
             [
              0.8888888888888888,
              "#fdca26"
             ],
             [
              1,
              "#f0f921"
             ]
            ],
            "type": "heatmapgl"
           }
          ],
          "histogram": [
           {
            "marker": {
             "colorbar": {
              "outlinewidth": 0,
              "ticks": ""
             }
            },
            "type": "histogram"
           }
          ],
          "histogram2d": [
           {
            "colorbar": {
             "outlinewidth": 0,
             "ticks": ""
            },
            "colorscale": [
             [
              0,
              "#0d0887"
             ],
             [
              0.1111111111111111,
              "#46039f"
             ],
             [
              0.2222222222222222,
              "#7201a8"
             ],
             [
              0.3333333333333333,
              "#9c179e"
             ],
             [
              0.4444444444444444,
              "#bd3786"
             ],
             [
              0.5555555555555556,
              "#d8576b"
             ],
             [
              0.6666666666666666,
              "#ed7953"
             ],
             [
              0.7777777777777778,
              "#fb9f3a"
             ],
             [
              0.8888888888888888,
              "#fdca26"
             ],
             [
              1,
              "#f0f921"
             ]
            ],
            "type": "histogram2d"
           }
          ],
          "histogram2dcontour": [
           {
            "colorbar": {
             "outlinewidth": 0,
             "ticks": ""
            },
            "colorscale": [
             [
              0,
              "#0d0887"
             ],
             [
              0.1111111111111111,
              "#46039f"
             ],
             [
              0.2222222222222222,
              "#7201a8"
             ],
             [
              0.3333333333333333,
              "#9c179e"
             ],
             [
              0.4444444444444444,
              "#bd3786"
             ],
             [
              0.5555555555555556,
              "#d8576b"
             ],
             [
              0.6666666666666666,
              "#ed7953"
             ],
             [
              0.7777777777777778,
              "#fb9f3a"
             ],
             [
              0.8888888888888888,
              "#fdca26"
             ],
             [
              1,
              "#f0f921"
             ]
            ],
            "type": "histogram2dcontour"
           }
          ],
          "mesh3d": [
           {
            "colorbar": {
             "outlinewidth": 0,
             "ticks": ""
            },
            "type": "mesh3d"
           }
          ],
          "parcoords": [
           {
            "line": {
             "colorbar": {
              "outlinewidth": 0,
              "ticks": ""
             }
            },
            "type": "parcoords"
           }
          ],
          "pie": [
           {
            "automargin": true,
            "type": "pie"
           }
          ],
          "scatter": [
           {
            "marker": {
             "colorbar": {
              "outlinewidth": 0,
              "ticks": ""
             }
            },
            "type": "scatter"
           }
          ],
          "scatter3d": [
           {
            "line": {
             "colorbar": {
              "outlinewidth": 0,
              "ticks": ""
             }
            },
            "marker": {
             "colorbar": {
              "outlinewidth": 0,
              "ticks": ""
             }
            },
            "type": "scatter3d"
           }
          ],
          "scattercarpet": [
           {
            "marker": {
             "colorbar": {
              "outlinewidth": 0,
              "ticks": ""
             }
            },
            "type": "scattercarpet"
           }
          ],
          "scattergeo": [
           {
            "marker": {
             "colorbar": {
              "outlinewidth": 0,
              "ticks": ""
             }
            },
            "type": "scattergeo"
           }
          ],
          "scattergl": [
           {
            "marker": {
             "colorbar": {
              "outlinewidth": 0,
              "ticks": ""
             }
            },
            "type": "scattergl"
           }
          ],
          "scattermapbox": [
           {
            "marker": {
             "colorbar": {
              "outlinewidth": 0,
              "ticks": ""
             }
            },
            "type": "scattermapbox"
           }
          ],
          "scatterpolar": [
           {
            "marker": {
             "colorbar": {
              "outlinewidth": 0,
              "ticks": ""
             }
            },
            "type": "scatterpolar"
           }
          ],
          "scatterpolargl": [
           {
            "marker": {
             "colorbar": {
              "outlinewidth": 0,
              "ticks": ""
             }
            },
            "type": "scatterpolargl"
           }
          ],
          "scatterternary": [
           {
            "marker": {
             "colorbar": {
              "outlinewidth": 0,
              "ticks": ""
             }
            },
            "type": "scatterternary"
           }
          ],
          "surface": [
           {
            "colorbar": {
             "outlinewidth": 0,
             "ticks": ""
            },
            "colorscale": [
             [
              0,
              "#0d0887"
             ],
             [
              0.1111111111111111,
              "#46039f"
             ],
             [
              0.2222222222222222,
              "#7201a8"
             ],
             [
              0.3333333333333333,
              "#9c179e"
             ],
             [
              0.4444444444444444,
              "#bd3786"
             ],
             [
              0.5555555555555556,
              "#d8576b"
             ],
             [
              0.6666666666666666,
              "#ed7953"
             ],
             [
              0.7777777777777778,
              "#fb9f3a"
             ],
             [
              0.8888888888888888,
              "#fdca26"
             ],
             [
              1,
              "#f0f921"
             ]
            ],
            "type": "surface"
           }
          ],
          "table": [
           {
            "cells": {
             "fill": {
              "color": "#EBF0F8"
             },
             "line": {
              "color": "white"
             }
            },
            "header": {
             "fill": {
              "color": "#C8D4E3"
             },
             "line": {
              "color": "white"
             }
            },
            "type": "table"
           }
          ]
         },
         "layout": {
          "annotationdefaults": {
           "arrowcolor": "#2a3f5f",
           "arrowhead": 0,
           "arrowwidth": 1
          },
          "autotypenumbers": "strict",
          "coloraxis": {
           "colorbar": {
            "outlinewidth": 0,
            "ticks": ""
           }
          },
          "colorscale": {
           "diverging": [
            [
             0,
             "#8e0152"
            ],
            [
             0.1,
             "#c51b7d"
            ],
            [
             0.2,
             "#de77ae"
            ],
            [
             0.3,
             "#f1b6da"
            ],
            [
             0.4,
             "#fde0ef"
            ],
            [
             0.5,
             "#f7f7f7"
            ],
            [
             0.6,
             "#e6f5d0"
            ],
            [
             0.7,
             "#b8e186"
            ],
            [
             0.8,
             "#7fbc41"
            ],
            [
             0.9,
             "#4d9221"
            ],
            [
             1,
             "#276419"
            ]
           ],
           "sequential": [
            [
             0,
             "#0d0887"
            ],
            [
             0.1111111111111111,
             "#46039f"
            ],
            [
             0.2222222222222222,
             "#7201a8"
            ],
            [
             0.3333333333333333,
             "#9c179e"
            ],
            [
             0.4444444444444444,
             "#bd3786"
            ],
            [
             0.5555555555555556,
             "#d8576b"
            ],
            [
             0.6666666666666666,
             "#ed7953"
            ],
            [
             0.7777777777777778,
             "#fb9f3a"
            ],
            [
             0.8888888888888888,
             "#fdca26"
            ],
            [
             1,
             "#f0f921"
            ]
           ],
           "sequentialminus": [
            [
             0,
             "#0d0887"
            ],
            [
             0.1111111111111111,
             "#46039f"
            ],
            [
             0.2222222222222222,
             "#7201a8"
            ],
            [
             0.3333333333333333,
             "#9c179e"
            ],
            [
             0.4444444444444444,
             "#bd3786"
            ],
            [
             0.5555555555555556,
             "#d8576b"
            ],
            [
             0.6666666666666666,
             "#ed7953"
            ],
            [
             0.7777777777777778,
             "#fb9f3a"
            ],
            [
             0.8888888888888888,
             "#fdca26"
            ],
            [
             1,
             "#f0f921"
            ]
           ]
          },
          "colorway": [
           "#636efa",
           "#EF553B",
           "#00cc96",
           "#ab63fa",
           "#FFA15A",
           "#19d3f3",
           "#FF6692",
           "#B6E880",
           "#FF97FF",
           "#FECB52"
          ],
          "font": {
           "color": "#2a3f5f"
          },
          "geo": {
           "bgcolor": "white",
           "lakecolor": "white",
           "landcolor": "#E5ECF6",
           "showlakes": true,
           "showland": true,
           "subunitcolor": "white"
          },
          "hoverlabel": {
           "align": "left"
          },
          "hovermode": "closest",
          "mapbox": {
           "style": "light"
          },
          "paper_bgcolor": "white",
          "plot_bgcolor": "#E5ECF6",
          "polar": {
           "angularaxis": {
            "gridcolor": "white",
            "linecolor": "white",
            "ticks": ""
           },
           "bgcolor": "#E5ECF6",
           "radialaxis": {
            "gridcolor": "white",
            "linecolor": "white",
            "ticks": ""
           }
          },
          "scene": {
           "xaxis": {
            "backgroundcolor": "#E5ECF6",
            "gridcolor": "white",
            "gridwidth": 2,
            "linecolor": "white",
            "showbackground": true,
            "ticks": "",
            "zerolinecolor": "white"
           },
           "yaxis": {
            "backgroundcolor": "#E5ECF6",
            "gridcolor": "white",
            "gridwidth": 2,
            "linecolor": "white",
            "showbackground": true,
            "ticks": "",
            "zerolinecolor": "white"
           },
           "zaxis": {
            "backgroundcolor": "#E5ECF6",
            "gridcolor": "white",
            "gridwidth": 2,
            "linecolor": "white",
            "showbackground": true,
            "ticks": "",
            "zerolinecolor": "white"
           }
          },
          "shapedefaults": {
           "line": {
            "color": "#2a3f5f"
           }
          },
          "ternary": {
           "aaxis": {
            "gridcolor": "white",
            "linecolor": "white",
            "ticks": ""
           },
           "baxis": {
            "gridcolor": "white",
            "linecolor": "white",
            "ticks": ""
           },
           "bgcolor": "#E5ECF6",
           "caxis": {
            "gridcolor": "white",
            "linecolor": "white",
            "ticks": ""
           }
          },
          "title": {
           "x": 0.05
          },
          "xaxis": {
           "automargin": true,
           "gridcolor": "white",
           "linecolor": "white",
           "ticks": "",
           "title": {
            "standoff": 15
           },
           "zerolinecolor": "white",
           "zerolinewidth": 2
          },
          "yaxis": {
           "automargin": true,
           "gridcolor": "white",
           "linecolor": "white",
           "ticks": "",
           "title": {
            "standoff": 15
           },
           "zerolinecolor": "white",
           "zerolinewidth": 2
          }
         }
        },
        "title": {
         "text": "Comparison between tracks features"
        }
       }
      }
     },
     "metadata": {}
    }
   ],
   "source": [
    "# Create radar chart\n",
    "radar_data = pd.DataFrame(dict(\n",
    "    r=features_average,\n",
    "    theta=features_of_interest))\n",
    "fig = px.line_polar(radar_data, r='r', theta='theta', line_close=True, title=\"Comparison between tracks features\", \n",
    "                    color_discrete_sequence=px.colors.sequential.Aggrnyl)\n",
    "fig.update_traces(fill='toself')\n",
    "fig.show()"
   ]
  },
  {
   "cell_type": "code",
   "execution_count": 18,
   "metadata": {},
   "outputs": [
    {
     "output_type": "execute_result",
     "data": {
      "text/plain": [
       "                           Artist  Hours played\n",
       "0                            Acru         56.73\n",
       "1                          Eminem         49.08\n",
       "2                            Duki         38.82\n",
       "3                          Trueno         37.79\n",
       "4                Three Days Grace         33.97\n",
       "5  Red Bull Batalla de los Gallos         26.17\n",
       "6                       Bad Bunny         23.01\n",
       "7                        Bizarrap         21.03\n",
       "8                             WOS         20.10\n",
       "9                    Cypress Hill         17.69"
      ],
      "text/html": "<div>\n<style scoped>\n    .dataframe tbody tr th:only-of-type {\n        vertical-align: middle;\n    }\n\n    .dataframe tbody tr th {\n        vertical-align: top;\n    }\n\n    .dataframe thead th {\n        text-align: right;\n    }\n</style>\n<table border=\"1\" class=\"dataframe\">\n  <thead>\n    <tr style=\"text-align: right;\">\n      <th></th>\n      <th>Artist</th>\n      <th>Hours played</th>\n    </tr>\n  </thead>\n  <tbody>\n    <tr>\n      <th>0</th>\n      <td>Acru</td>\n      <td>56.73</td>\n    </tr>\n    <tr>\n      <th>1</th>\n      <td>Eminem</td>\n      <td>49.08</td>\n    </tr>\n    <tr>\n      <th>2</th>\n      <td>Duki</td>\n      <td>38.82</td>\n    </tr>\n    <tr>\n      <th>3</th>\n      <td>Trueno</td>\n      <td>37.79</td>\n    </tr>\n    <tr>\n      <th>4</th>\n      <td>Three Days Grace</td>\n      <td>33.97</td>\n    </tr>\n    <tr>\n      <th>5</th>\n      <td>Red Bull Batalla de los Gallos</td>\n      <td>26.17</td>\n    </tr>\n    <tr>\n      <th>6</th>\n      <td>Bad Bunny</td>\n      <td>23.01</td>\n    </tr>\n    <tr>\n      <th>7</th>\n      <td>Bizarrap</td>\n      <td>21.03</td>\n    </tr>\n    <tr>\n      <th>8</th>\n      <td>WOS</td>\n      <td>20.10</td>\n    </tr>\n    <tr>\n      <th>9</th>\n      <td>Cypress Hill</td>\n      <td>17.69</td>\n    </tr>\n  </tbody>\n</table>\n</div>"
     },
     "metadata": {},
     "execution_count": 18
    }
   ],
   "source": [
    "# Top ten artists\n",
    "total_played = my_streaming_data.groupby([\"artist_name\"], as_index=False).agg({\"ms_played\": sum})\n",
    "total_played = total_played.sort_values(by=[\"ms_played\"], ascending=False)\n",
    "total_played['ms_played'] = total_played['ms_played'].apply(lambda x: round((x/3600000), 2))\n",
    "total_played.rename(columns={'artist_name': 'Artist', 'ms_played': 'Hours played'}, inplace=True)\n",
    "top_ten = total_played[:10].reset_index(drop=True)\n",
    "top_ten"
   ]
  },
  {
   "cell_type": "code",
   "execution_count": 19,
   "metadata": {},
   "outputs": [
    {
     "output_type": "stream",
     "name": "stdout",
     "text": [
      "I spent aproximately 734.56 hours listening to music on Spotify in 2020!\n"
     ]
    }
   ],
   "source": [
    "# Total time played\n",
    "total_time_played = round((my_streaming_data['ms_played'].sum())/3600000, 2)\n",
    "print(f'I spent aproximately {total_time_played} hours listening to music on Spotify in 2020!')"
   ]
  },
  {
   "cell_type": "code",
   "execution_count": 20,
   "metadata": {},
   "outputs": [
    {
     "output_type": "execute_result",
     "data": {
      "text/plain": [
       "         date   valence\n",
       "0     January  0.513104\n",
       "1    February  0.473051\n",
       "2       March  0.526959\n",
       "3       April  0.583205\n",
       "4         May  0.539279\n",
       "5        June  0.544091\n",
       "6        July  0.542101\n",
       "7      August  0.567573\n",
       "8   September  0.479353\n",
       "9     October  0.520148\n",
       "10   November  0.480543\n",
       "11   December  0.549552"
      ],
      "text/html": "<div>\n<style scoped>\n    .dataframe tbody tr th:only-of-type {\n        vertical-align: middle;\n    }\n\n    .dataframe tbody tr th {\n        vertical-align: top;\n    }\n\n    .dataframe thead th {\n        text-align: right;\n    }\n</style>\n<table border=\"1\" class=\"dataframe\">\n  <thead>\n    <tr style=\"text-align: right;\">\n      <th></th>\n      <th>date</th>\n      <th>valence</th>\n    </tr>\n  </thead>\n  <tbody>\n    <tr>\n      <th>0</th>\n      <td>January</td>\n      <td>0.513104</td>\n    </tr>\n    <tr>\n      <th>1</th>\n      <td>February</td>\n      <td>0.473051</td>\n    </tr>\n    <tr>\n      <th>2</th>\n      <td>March</td>\n      <td>0.526959</td>\n    </tr>\n    <tr>\n      <th>3</th>\n      <td>April</td>\n      <td>0.583205</td>\n    </tr>\n    <tr>\n      <th>4</th>\n      <td>May</td>\n      <td>0.539279</td>\n    </tr>\n    <tr>\n      <th>5</th>\n      <td>June</td>\n      <td>0.544091</td>\n    </tr>\n    <tr>\n      <th>6</th>\n      <td>July</td>\n      <td>0.542101</td>\n    </tr>\n    <tr>\n      <th>7</th>\n      <td>August</td>\n      <td>0.567573</td>\n    </tr>\n    <tr>\n      <th>8</th>\n      <td>September</td>\n      <td>0.479353</td>\n    </tr>\n    <tr>\n      <th>9</th>\n      <td>October</td>\n      <td>0.520148</td>\n    </tr>\n    <tr>\n      <th>10</th>\n      <td>November</td>\n      <td>0.480543</td>\n    </tr>\n    <tr>\n      <th>11</th>\n      <td>December</td>\n      <td>0.549552</td>\n    </tr>\n  </tbody>\n</table>\n</div>"
     },
     "metadata": {},
     "execution_count": 20
    }
   ],
   "source": [
    "sorted_data = my_streaming_data.sort_values(by='date', ascending=True)\n",
    "mood = pd.DataFrame({'valence' : sorted_data.groupby(sorted_data['date'].dt.strftime('%B'))['valence'].mean()}).reset_index() \n",
    "mood_months = pd.DataFrame({\n",
    "    \"date\": [\"January\", \"February\", \"March\", \"April\", \"May\",\"June\", \"July\", \"August\", \"September\", \"October\", \"November\", \"December\"]\n",
    "})\n",
    "\n",
    "sorted_mood = pd.merge(mood_months, mood,left_on='date',right_on='date',how='outer')\n",
    "\n",
    "sorted_mood"
   ]
  },
  {
   "cell_type": "code",
   "execution_count": 21,
   "metadata": {},
   "outputs": [
    {
     "output_type": "display_data",
     "data": {
      "application/vnd.plotly.v1+json": {
       "config": {
        "plotlyServerURL": "https://plot.ly"
       },
       "data": [
        {
         "hovertemplate": "x=%{x}<br>valence=%{y}<extra></extra>",
         "legendgroup": "",
         "line": {
          "color": "#636efa",
          "dash": "solid"
         },
         "mode": "lines",
         "name": "",
         "orientation": "v",
         "showlegend": false,
         "type": "scatter",
         "x": [
          "January",
          "February",
          "March",
          "April",
          "May",
          "June",
          "July",
          "August",
          "September",
          "October",
          "November",
          "December"
         ],
         "xaxis": "x",
         "y": [
          0.5131040290990501,
          0.4730507617306506,
          0.526958739255014,
          0.5832049653579682,
          0.5392786206896553,
          0.5440908987485767,
          0.5421014964788733,
          0.5675728241563051,
          0.4793525510204088,
          0.5201478723404239,
          0.48054276457883366,
          0.5495524956970742
         ],
         "yaxis": "y"
        }
       ],
       "layout": {
        "legend": {
         "tracegroupgap": 0
        },
        "template": {
         "data": {
          "bar": [
           {
            "error_x": {
             "color": "#2a3f5f"
            },
            "error_y": {
             "color": "#2a3f5f"
            },
            "marker": {
             "line": {
              "color": "#E5ECF6",
              "width": 0.5
             }
            },
            "type": "bar"
           }
          ],
          "barpolar": [
           {
            "marker": {
             "line": {
              "color": "#E5ECF6",
              "width": 0.5
             }
            },
            "type": "barpolar"
           }
          ],
          "carpet": [
           {
            "aaxis": {
             "endlinecolor": "#2a3f5f",
             "gridcolor": "white",
             "linecolor": "white",
             "minorgridcolor": "white",
             "startlinecolor": "#2a3f5f"
            },
            "baxis": {
             "endlinecolor": "#2a3f5f",
             "gridcolor": "white",
             "linecolor": "white",
             "minorgridcolor": "white",
             "startlinecolor": "#2a3f5f"
            },
            "type": "carpet"
           }
          ],
          "choropleth": [
           {
            "colorbar": {
             "outlinewidth": 0,
             "ticks": ""
            },
            "type": "choropleth"
           }
          ],
          "contour": [
           {
            "colorbar": {
             "outlinewidth": 0,
             "ticks": ""
            },
            "colorscale": [
             [
              0,
              "#0d0887"
             ],
             [
              0.1111111111111111,
              "#46039f"
             ],
             [
              0.2222222222222222,
              "#7201a8"
             ],
             [
              0.3333333333333333,
              "#9c179e"
             ],
             [
              0.4444444444444444,
              "#bd3786"
             ],
             [
              0.5555555555555556,
              "#d8576b"
             ],
             [
              0.6666666666666666,
              "#ed7953"
             ],
             [
              0.7777777777777778,
              "#fb9f3a"
             ],
             [
              0.8888888888888888,
              "#fdca26"
             ],
             [
              1,
              "#f0f921"
             ]
            ],
            "type": "contour"
           }
          ],
          "contourcarpet": [
           {
            "colorbar": {
             "outlinewidth": 0,
             "ticks": ""
            },
            "type": "contourcarpet"
           }
          ],
          "heatmap": [
           {
            "colorbar": {
             "outlinewidth": 0,
             "ticks": ""
            },
            "colorscale": [
             [
              0,
              "#0d0887"
             ],
             [
              0.1111111111111111,
              "#46039f"
             ],
             [
              0.2222222222222222,
              "#7201a8"
             ],
             [
              0.3333333333333333,
              "#9c179e"
             ],
             [
              0.4444444444444444,
              "#bd3786"
             ],
             [
              0.5555555555555556,
              "#d8576b"
             ],
             [
              0.6666666666666666,
              "#ed7953"
             ],
             [
              0.7777777777777778,
              "#fb9f3a"
             ],
             [
              0.8888888888888888,
              "#fdca26"
             ],
             [
              1,
              "#f0f921"
             ]
            ],
            "type": "heatmap"
           }
          ],
          "heatmapgl": [
           {
            "colorbar": {
             "outlinewidth": 0,
             "ticks": ""
            },
            "colorscale": [
             [
              0,
              "#0d0887"
             ],
             [
              0.1111111111111111,
              "#46039f"
             ],
             [
              0.2222222222222222,
              "#7201a8"
             ],
             [
              0.3333333333333333,
              "#9c179e"
             ],
             [
              0.4444444444444444,
              "#bd3786"
             ],
             [
              0.5555555555555556,
              "#d8576b"
             ],
             [
              0.6666666666666666,
              "#ed7953"
             ],
             [
              0.7777777777777778,
              "#fb9f3a"
             ],
             [
              0.8888888888888888,
              "#fdca26"
             ],
             [
              1,
              "#f0f921"
             ]
            ],
            "type": "heatmapgl"
           }
          ],
          "histogram": [
           {
            "marker": {
             "colorbar": {
              "outlinewidth": 0,
              "ticks": ""
             }
            },
            "type": "histogram"
           }
          ],
          "histogram2d": [
           {
            "colorbar": {
             "outlinewidth": 0,
             "ticks": ""
            },
            "colorscale": [
             [
              0,
              "#0d0887"
             ],
             [
              0.1111111111111111,
              "#46039f"
             ],
             [
              0.2222222222222222,
              "#7201a8"
             ],
             [
              0.3333333333333333,
              "#9c179e"
             ],
             [
              0.4444444444444444,
              "#bd3786"
             ],
             [
              0.5555555555555556,
              "#d8576b"
             ],
             [
              0.6666666666666666,
              "#ed7953"
             ],
             [
              0.7777777777777778,
              "#fb9f3a"
             ],
             [
              0.8888888888888888,
              "#fdca26"
             ],
             [
              1,
              "#f0f921"
             ]
            ],
            "type": "histogram2d"
           }
          ],
          "histogram2dcontour": [
           {
            "colorbar": {
             "outlinewidth": 0,
             "ticks": ""
            },
            "colorscale": [
             [
              0,
              "#0d0887"
             ],
             [
              0.1111111111111111,
              "#46039f"
             ],
             [
              0.2222222222222222,
              "#7201a8"
             ],
             [
              0.3333333333333333,
              "#9c179e"
             ],
             [
              0.4444444444444444,
              "#bd3786"
             ],
             [
              0.5555555555555556,
              "#d8576b"
             ],
             [
              0.6666666666666666,
              "#ed7953"
             ],
             [
              0.7777777777777778,
              "#fb9f3a"
             ],
             [
              0.8888888888888888,
              "#fdca26"
             ],
             [
              1,
              "#f0f921"
             ]
            ],
            "type": "histogram2dcontour"
           }
          ],
          "mesh3d": [
           {
            "colorbar": {
             "outlinewidth": 0,
             "ticks": ""
            },
            "type": "mesh3d"
           }
          ],
          "parcoords": [
           {
            "line": {
             "colorbar": {
              "outlinewidth": 0,
              "ticks": ""
             }
            },
            "type": "parcoords"
           }
          ],
          "pie": [
           {
            "automargin": true,
            "type": "pie"
           }
          ],
          "scatter": [
           {
            "marker": {
             "colorbar": {
              "outlinewidth": 0,
              "ticks": ""
             }
            },
            "type": "scatter"
           }
          ],
          "scatter3d": [
           {
            "line": {
             "colorbar": {
              "outlinewidth": 0,
              "ticks": ""
             }
            },
            "marker": {
             "colorbar": {
              "outlinewidth": 0,
              "ticks": ""
             }
            },
            "type": "scatter3d"
           }
          ],
          "scattercarpet": [
           {
            "marker": {
             "colorbar": {
              "outlinewidth": 0,
              "ticks": ""
             }
            },
            "type": "scattercarpet"
           }
          ],
          "scattergeo": [
           {
            "marker": {
             "colorbar": {
              "outlinewidth": 0,
              "ticks": ""
             }
            },
            "type": "scattergeo"
           }
          ],
          "scattergl": [
           {
            "marker": {
             "colorbar": {
              "outlinewidth": 0,
              "ticks": ""
             }
            },
            "type": "scattergl"
           }
          ],
          "scattermapbox": [
           {
            "marker": {
             "colorbar": {
              "outlinewidth": 0,
              "ticks": ""
             }
            },
            "type": "scattermapbox"
           }
          ],
          "scatterpolar": [
           {
            "marker": {
             "colorbar": {
              "outlinewidth": 0,
              "ticks": ""
             }
            },
            "type": "scatterpolar"
           }
          ],
          "scatterpolargl": [
           {
            "marker": {
             "colorbar": {
              "outlinewidth": 0,
              "ticks": ""
             }
            },
            "type": "scatterpolargl"
           }
          ],
          "scatterternary": [
           {
            "marker": {
             "colorbar": {
              "outlinewidth": 0,
              "ticks": ""
             }
            },
            "type": "scatterternary"
           }
          ],
          "surface": [
           {
            "colorbar": {
             "outlinewidth": 0,
             "ticks": ""
            },
            "colorscale": [
             [
              0,
              "#0d0887"
             ],
             [
              0.1111111111111111,
              "#46039f"
             ],
             [
              0.2222222222222222,
              "#7201a8"
             ],
             [
              0.3333333333333333,
              "#9c179e"
             ],
             [
              0.4444444444444444,
              "#bd3786"
             ],
             [
              0.5555555555555556,
              "#d8576b"
             ],
             [
              0.6666666666666666,
              "#ed7953"
             ],
             [
              0.7777777777777778,
              "#fb9f3a"
             ],
             [
              0.8888888888888888,
              "#fdca26"
             ],
             [
              1,
              "#f0f921"
             ]
            ],
            "type": "surface"
           }
          ],
          "table": [
           {
            "cells": {
             "fill": {
              "color": "#EBF0F8"
             },
             "line": {
              "color": "white"
             }
            },
            "header": {
             "fill": {
              "color": "#C8D4E3"
             },
             "line": {
              "color": "white"
             }
            },
            "type": "table"
           }
          ]
         },
         "layout": {
          "annotationdefaults": {
           "arrowcolor": "#2a3f5f",
           "arrowhead": 0,
           "arrowwidth": 1
          },
          "autotypenumbers": "strict",
          "coloraxis": {
           "colorbar": {
            "outlinewidth": 0,
            "ticks": ""
           }
          },
          "colorscale": {
           "diverging": [
            [
             0,
             "#8e0152"
            ],
            [
             0.1,
             "#c51b7d"
            ],
            [
             0.2,
             "#de77ae"
            ],
            [
             0.3,
             "#f1b6da"
            ],
            [
             0.4,
             "#fde0ef"
            ],
            [
             0.5,
             "#f7f7f7"
            ],
            [
             0.6,
             "#e6f5d0"
            ],
            [
             0.7,
             "#b8e186"
            ],
            [
             0.8,
             "#7fbc41"
            ],
            [
             0.9,
             "#4d9221"
            ],
            [
             1,
             "#276419"
            ]
           ],
           "sequential": [
            [
             0,
             "#0d0887"
            ],
            [
             0.1111111111111111,
             "#46039f"
            ],
            [
             0.2222222222222222,
             "#7201a8"
            ],
            [
             0.3333333333333333,
             "#9c179e"
            ],
            [
             0.4444444444444444,
             "#bd3786"
            ],
            [
             0.5555555555555556,
             "#d8576b"
            ],
            [
             0.6666666666666666,
             "#ed7953"
            ],
            [
             0.7777777777777778,
             "#fb9f3a"
            ],
            [
             0.8888888888888888,
             "#fdca26"
            ],
            [
             1,
             "#f0f921"
            ]
           ],
           "sequentialminus": [
            [
             0,
             "#0d0887"
            ],
            [
             0.1111111111111111,
             "#46039f"
            ],
            [
             0.2222222222222222,
             "#7201a8"
            ],
            [
             0.3333333333333333,
             "#9c179e"
            ],
            [
             0.4444444444444444,
             "#bd3786"
            ],
            [
             0.5555555555555556,
             "#d8576b"
            ],
            [
             0.6666666666666666,
             "#ed7953"
            ],
            [
             0.7777777777777778,
             "#fb9f3a"
            ],
            [
             0.8888888888888888,
             "#fdca26"
            ],
            [
             1,
             "#f0f921"
            ]
           ]
          },
          "colorway": [
           "#636efa",
           "#EF553B",
           "#00cc96",
           "#ab63fa",
           "#FFA15A",
           "#19d3f3",
           "#FF6692",
           "#B6E880",
           "#FF97FF",
           "#FECB52"
          ],
          "font": {
           "color": "#2a3f5f"
          },
          "geo": {
           "bgcolor": "white",
           "lakecolor": "white",
           "landcolor": "#E5ECF6",
           "showlakes": true,
           "showland": true,
           "subunitcolor": "white"
          },
          "hoverlabel": {
           "align": "left"
          },
          "hovermode": "closest",
          "mapbox": {
           "style": "light"
          },
          "paper_bgcolor": "white",
          "plot_bgcolor": "#E5ECF6",
          "polar": {
           "angularaxis": {
            "gridcolor": "white",
            "linecolor": "white",
            "ticks": ""
           },
           "bgcolor": "#E5ECF6",
           "radialaxis": {
            "gridcolor": "white",
            "linecolor": "white",
            "ticks": ""
           }
          },
          "scene": {
           "xaxis": {
            "backgroundcolor": "#E5ECF6",
            "gridcolor": "white",
            "gridwidth": 2,
            "linecolor": "white",
            "showbackground": true,
            "ticks": "",
            "zerolinecolor": "white"
           },
           "yaxis": {
            "backgroundcolor": "#E5ECF6",
            "gridcolor": "white",
            "gridwidth": 2,
            "linecolor": "white",
            "showbackground": true,
            "ticks": "",
            "zerolinecolor": "white"
           },
           "zaxis": {
            "backgroundcolor": "#E5ECF6",
            "gridcolor": "white",
            "gridwidth": 2,
            "linecolor": "white",
            "showbackground": true,
            "ticks": "",
            "zerolinecolor": "white"
           }
          },
          "shapedefaults": {
           "line": {
            "color": "#2a3f5f"
           }
          },
          "ternary": {
           "aaxis": {
            "gridcolor": "white",
            "linecolor": "white",
            "ticks": ""
           },
           "baxis": {
            "gridcolor": "white",
            "linecolor": "white",
            "ticks": ""
           },
           "bgcolor": "#E5ECF6",
           "caxis": {
            "gridcolor": "white",
            "linecolor": "white",
            "ticks": ""
           }
          },
          "title": {
           "x": 0.05
          },
          "xaxis": {
           "automargin": true,
           "gridcolor": "white",
           "linecolor": "white",
           "ticks": "",
           "title": {
            "standoff": 15
           },
           "zerolinecolor": "white",
           "zerolinewidth": 2
          },
          "yaxis": {
           "automargin": true,
           "gridcolor": "white",
           "linecolor": "white",
           "ticks": "",
           "title": {
            "standoff": 15
           },
           "zerolinecolor": "white",
           "zerolinewidth": 2
          }
         }
        },
        "title": {
         "text": "Valence Index Trend  - 2020"
        },
        "xaxis": {
         "anchor": "y",
         "domain": [
          0,
          1
         ],
         "title": {
          "text": "x"
         }
        },
        "yaxis": {
         "anchor": "x",
         "domain": [
          0,
          1
         ],
         "title": {
          "text": "valence"
         }
        }
       }
      }
     },
     "metadata": {}
    }
   ],
   "source": [
    "months = [\"January\", \"February\", \"March\", \"April\", \"May\",\"June\", \"July\", \"August\", \"September\", \"October\", \"November\", \"December\"]\n",
    "line_plt = px.line(sorted_mood, x=months, y=\"valence\", title='Valence Index Trend  - 2020')\n",
    "line_plt.show()"
   ]
  },
  {
   "cell_type": "code",
   "execution_count": null,
   "metadata": {},
   "outputs": [],
   "source": [
    "# lOOKS LIKE AUGUST WAS ROUGH!"
   ]
  },
  {
   "cell_type": "code",
   "execution_count": 22,
   "metadata": {},
   "outputs": [
    {
     "output_type": "execute_result",
     "data": {
      "text/plain": [
       "          date   ms_played  energy  liveness     tempo  speechiness  \\\n",
       "0   2020-01-01  14435206.0  49.350   16.4975  8641.265      12.9591   \n",
       "1   2020-01-02   3679992.0  21.158    5.6686  3750.518       4.9328   \n",
       "2   2020-01-03   5022925.0  16.387    3.4872  3417.324       4.7715   \n",
       "3   2020-01-04   8833117.0  32.418    7.6806  6452.758       7.3776   \n",
       "4   2020-01-05   7018448.0  28.701    8.6991  5337.383       6.7867   \n",
       "..         ...         ...     ...       ...       ...          ...   \n",
       "346 2020-12-12   3485337.0  11.409    4.3365  1777.071       4.1434   \n",
       "347 2020-12-13   1819662.0   5.373    1.7672  1003.792       2.1438   \n",
       "348 2020-12-14    647625.0   1.870    0.4587   395.233       0.8670   \n",
       "349 2020-12-15   9120419.0  39.221   11.2389  6716.357      11.7750   \n",
       "350 2020-12-16   4593970.0  18.221    6.7171  3082.973       6.3944   \n",
       "\n",
       "     acousticness  instrumentalness  danceability  duration_ms  loudness  \\\n",
       "0       16.677500          1.553568        48.874   17837974.0  -398.711   \n",
       "1        6.517000          0.693159        22.985    7281596.0  -162.403   \n",
       "2        5.967100          0.000211        19.212    5551669.0  -155.961   \n",
       "3        5.924920          0.000713        29.532   10444344.0  -283.990   \n",
       "4        9.179604          0.086149        27.292    8949997.0  -249.237   \n",
       "..            ...               ...           ...          ...       ...   \n",
       "346      3.917635          0.013820        12.057    3855843.0  -102.164   \n",
       "347      1.128400          0.002332         6.092    1936361.0   -51.793   \n",
       "348      1.180300          0.000080         2.435     747568.0   -19.325   \n",
       "349     15.952935          0.114599        41.223   12038257.0  -382.302   \n",
       "350      6.456395          0.000487        21.797    5500384.0  -169.902   \n",
       "\n",
       "     valence  mode    key  loudness_adj  mins_played  \n",
       "0    41.5080  43.0  364.0     61.508230       240.57  \n",
       "1    16.8260  16.0  163.0     26.701165        61.34  \n",
       "2    13.3400  16.0  137.0     21.928763        83.73  \n",
       "3    22.3980  25.0  251.0     39.591869       147.22  \n",
       "4    21.5950  22.0  221.0     35.487054       116.96  \n",
       "..       ...   ...    ...           ...          ...  \n",
       "346   8.3820  11.0   87.0     14.333569        58.08  \n",
       "347   5.7000   2.0   66.0      6.657588        30.32  \n",
       "348   1.8460   3.0    8.0      2.498892        10.79  \n",
       "349  30.6519  36.0  274.0     49.091964       152.00  \n",
       "350  17.6090  17.0  174.0     23.569751        76.57  \n",
       "\n",
       "[351 rows x 16 columns]"
      ],
      "text/html": "<div>\n<style scoped>\n    .dataframe tbody tr th:only-of-type {\n        vertical-align: middle;\n    }\n\n    .dataframe tbody tr th {\n        vertical-align: top;\n    }\n\n    .dataframe thead th {\n        text-align: right;\n    }\n</style>\n<table border=\"1\" class=\"dataframe\">\n  <thead>\n    <tr style=\"text-align: right;\">\n      <th></th>\n      <th>date</th>\n      <th>ms_played</th>\n      <th>energy</th>\n      <th>liveness</th>\n      <th>tempo</th>\n      <th>speechiness</th>\n      <th>acousticness</th>\n      <th>instrumentalness</th>\n      <th>danceability</th>\n      <th>duration_ms</th>\n      <th>loudness</th>\n      <th>valence</th>\n      <th>mode</th>\n      <th>key</th>\n      <th>loudness_adj</th>\n      <th>mins_played</th>\n    </tr>\n  </thead>\n  <tbody>\n    <tr>\n      <th>0</th>\n      <td>2020-01-01</td>\n      <td>14435206.0</td>\n      <td>49.350</td>\n      <td>16.4975</td>\n      <td>8641.265</td>\n      <td>12.9591</td>\n      <td>16.677500</td>\n      <td>1.553568</td>\n      <td>48.874</td>\n      <td>17837974.0</td>\n      <td>-398.711</td>\n      <td>41.5080</td>\n      <td>43.0</td>\n      <td>364.0</td>\n      <td>61.508230</td>\n      <td>240.57</td>\n    </tr>\n    <tr>\n      <th>1</th>\n      <td>2020-01-02</td>\n      <td>3679992.0</td>\n      <td>21.158</td>\n      <td>5.6686</td>\n      <td>3750.518</td>\n      <td>4.9328</td>\n      <td>6.517000</td>\n      <td>0.693159</td>\n      <td>22.985</td>\n      <td>7281596.0</td>\n      <td>-162.403</td>\n      <td>16.8260</td>\n      <td>16.0</td>\n      <td>163.0</td>\n      <td>26.701165</td>\n      <td>61.34</td>\n    </tr>\n    <tr>\n      <th>2</th>\n      <td>2020-01-03</td>\n      <td>5022925.0</td>\n      <td>16.387</td>\n      <td>3.4872</td>\n      <td>3417.324</td>\n      <td>4.7715</td>\n      <td>5.967100</td>\n      <td>0.000211</td>\n      <td>19.212</td>\n      <td>5551669.0</td>\n      <td>-155.961</td>\n      <td>13.3400</td>\n      <td>16.0</td>\n      <td>137.0</td>\n      <td>21.928763</td>\n      <td>83.73</td>\n    </tr>\n    <tr>\n      <th>3</th>\n      <td>2020-01-04</td>\n      <td>8833117.0</td>\n      <td>32.418</td>\n      <td>7.6806</td>\n      <td>6452.758</td>\n      <td>7.3776</td>\n      <td>5.924920</td>\n      <td>0.000713</td>\n      <td>29.532</td>\n      <td>10444344.0</td>\n      <td>-283.990</td>\n      <td>22.3980</td>\n      <td>25.0</td>\n      <td>251.0</td>\n      <td>39.591869</td>\n      <td>147.22</td>\n    </tr>\n    <tr>\n      <th>4</th>\n      <td>2020-01-05</td>\n      <td>7018448.0</td>\n      <td>28.701</td>\n      <td>8.6991</td>\n      <td>5337.383</td>\n      <td>6.7867</td>\n      <td>9.179604</td>\n      <td>0.086149</td>\n      <td>27.292</td>\n      <td>8949997.0</td>\n      <td>-249.237</td>\n      <td>21.5950</td>\n      <td>22.0</td>\n      <td>221.0</td>\n      <td>35.487054</td>\n      <td>116.96</td>\n    </tr>\n    <tr>\n      <th>...</th>\n      <td>...</td>\n      <td>...</td>\n      <td>...</td>\n      <td>...</td>\n      <td>...</td>\n      <td>...</td>\n      <td>...</td>\n      <td>...</td>\n      <td>...</td>\n      <td>...</td>\n      <td>...</td>\n      <td>...</td>\n      <td>...</td>\n      <td>...</td>\n      <td>...</td>\n      <td>...</td>\n    </tr>\n    <tr>\n      <th>346</th>\n      <td>2020-12-12</td>\n      <td>3485337.0</td>\n      <td>11.409</td>\n      <td>4.3365</td>\n      <td>1777.071</td>\n      <td>4.1434</td>\n      <td>3.917635</td>\n      <td>0.013820</td>\n      <td>12.057</td>\n      <td>3855843.0</td>\n      <td>-102.164</td>\n      <td>8.3820</td>\n      <td>11.0</td>\n      <td>87.0</td>\n      <td>14.333569</td>\n      <td>58.08</td>\n    </tr>\n    <tr>\n      <th>347</th>\n      <td>2020-12-13</td>\n      <td>1819662.0</td>\n      <td>5.373</td>\n      <td>1.7672</td>\n      <td>1003.792</td>\n      <td>2.1438</td>\n      <td>1.128400</td>\n      <td>0.002332</td>\n      <td>6.092</td>\n      <td>1936361.0</td>\n      <td>-51.793</td>\n      <td>5.7000</td>\n      <td>2.0</td>\n      <td>66.0</td>\n      <td>6.657588</td>\n      <td>30.32</td>\n    </tr>\n    <tr>\n      <th>348</th>\n      <td>2020-12-14</td>\n      <td>647625.0</td>\n      <td>1.870</td>\n      <td>0.4587</td>\n      <td>395.233</td>\n      <td>0.8670</td>\n      <td>1.180300</td>\n      <td>0.000080</td>\n      <td>2.435</td>\n      <td>747568.0</td>\n      <td>-19.325</td>\n      <td>1.8460</td>\n      <td>3.0</td>\n      <td>8.0</td>\n      <td>2.498892</td>\n      <td>10.79</td>\n    </tr>\n    <tr>\n      <th>349</th>\n      <td>2020-12-15</td>\n      <td>9120419.0</td>\n      <td>39.221</td>\n      <td>11.2389</td>\n      <td>6716.357</td>\n      <td>11.7750</td>\n      <td>15.952935</td>\n      <td>0.114599</td>\n      <td>41.223</td>\n      <td>12038257.0</td>\n      <td>-382.302</td>\n      <td>30.6519</td>\n      <td>36.0</td>\n      <td>274.0</td>\n      <td>49.091964</td>\n      <td>152.00</td>\n    </tr>\n    <tr>\n      <th>350</th>\n      <td>2020-12-16</td>\n      <td>4593970.0</td>\n      <td>18.221</td>\n      <td>6.7171</td>\n      <td>3082.973</td>\n      <td>6.3944</td>\n      <td>6.456395</td>\n      <td>0.000487</td>\n      <td>21.797</td>\n      <td>5500384.0</td>\n      <td>-169.902</td>\n      <td>17.6090</td>\n      <td>17.0</td>\n      <td>174.0</td>\n      <td>23.569751</td>\n      <td>76.57</td>\n    </tr>\n  </tbody>\n</table>\n<p>351 rows × 16 columns</p>\n</div>"
     },
     "metadata": {},
     "execution_count": 22
    }
   ],
   "source": [
    "# Heatmap of listened miutes by day\n",
    "\n",
    "# New dataframe for listened minutes by day\n",
    "idx = pd.DataFrame(pd.date_range(min(my_streaming_data.date), max(my_streaming_data.date)),columns=['date'])\n",
    "idx['date'] = idx.apply(lambda x: pd.to_datetime(x['date'],format='%Y-%m-%d'),axis=1)\n",
    "\n",
    "# Daily Streaming time\n",
    "daily_length = my_streaming_data.groupby('date',as_index=True).sum()\n",
    "\n",
    "# Merge with full data for each day\n",
    "new_daily_length = pd.merge(idx,daily_length,how='left',left_on='date',right_on = 'date',copy=False)\n",
    "new_daily_length"
   ]
  },
  {
   "cell_type": "code",
   "execution_count": 23,
   "metadata": {},
   "outputs": [
    {
     "output_type": "execute_result",
     "data": {
      "text/plain": [
       "date\n",
       "2020-01-01    240.57\n",
       "2020-01-02     61.34\n",
       "2020-01-03     83.73\n",
       "2020-01-04    147.22\n",
       "2020-01-05    116.96\n",
       "               ...  \n",
       "2020-12-12     58.08\n",
       "2020-12-13     30.32\n",
       "2020-12-14     10.79\n",
       "2020-12-15    152.00\n",
       "2020-12-16     76.57\n",
       "Name: mins_played, Length: 351, dtype: float64"
      ]
     },
     "metadata": {},
     "execution_count": 23
    }
   ],
   "source": [
    "data = new_daily_length.groupby('date',as_index=True).sum()['mins_played']\n",
    "data"
   ]
  },
  {
   "cell_type": "code",
   "execution_count": 25,
   "metadata": {},
   "outputs": [
    {
     "output_type": "stream",
     "name": "stderr",
     "text": [
      "findfont: Font family ['Arial'] not found. Falling back to DejaVu Sans.\n"
     ]
    },
    {
     "output_type": "execute_result",
     "data": {
      "text/plain": [
       "<matplotlib.colorbar.Colorbar at 0x7f57d4113390>"
      ]
     },
     "metadata": {},
     "execution_count": 25
    },
    {
     "output_type": "display_data",
     "data": {
      "text/plain": "<Figure size 1224x576 with 2 Axes>",
      "image/svg+xml": "<?xml version=\"1.0\" encoding=\"utf-8\" standalone=\"no\"?>\n<!DOCTYPE svg PUBLIC \"-//W3C//DTD SVG 1.1//EN\"\n  \"http://www.w3.org/Graphics/SVG/1.1/DTD/svg11.dtd\">\n<!-- Created with matplotlib (https://matplotlib.org/) -->\n<svg height=\"320.575625pt\" version=\"1.1\" viewBox=\"0 0 1216.821563 320.575625\" width=\"1216.821563pt\" xmlns=\"http://www.w3.org/2000/svg\" xmlns:xlink=\"http://www.w3.org/1999/xlink\">\n <metadata>\n  <rdf:RDF xmlns:cc=\"http://creativecommons.org/ns#\" xmlns:dc=\"http://purl.org/dc/elements/1.1/\" xmlns:rdf=\"http://www.w3.org/1999/02/22-rdf-syntax-ns#\">\n   <cc:Work>\n    <dc:type rdf:resource=\"http://purl.org/dc/dcmitype/StillImage\"/>\n    <dc:date>2021-05-07T23:49:59.432056</dc:date>\n    <dc:format>image/svg+xml</dc:format>\n    <dc:creator>\n     <cc:Agent>\n      <dc:title>Matplotlib v3.3.4, https://matplotlib.org/</dc:title>\n     </cc:Agent>\n    </dc:creator>\n   </cc:Work>\n  </rdf:RDF>\n </metadata>\n <defs>\n  <style type=\"text/css\">*{stroke-linecap:butt;stroke-linejoin:round;}</style>\n </defs>\n <g id=\"figure_1\">\n  <g id=\"patch_1\">\n   <path d=\"M 0 320.575625 \nL 1216.821563 320.575625 \nL 1216.821563 0 \nL 0 0 \nz\n\" style=\"fill:none;\"/>\n  </g>\n  <g id=\"axes_1\">\n   <g id=\"patch_2\">\n    <path d=\"M 42.17 158.05 \nL 1184.32 158.05 \nL 1184.32 7.2 \nL 42.17 7.2 \nz\n\" style=\"fill:#ffffff;\"/>\n   </g>\n   <g id=\"QuadMesh_1\">\n    <path clip-path=\"url(#pce2af521af)\" d=\"M 42.17 158.05 \nL 63.72 158.05 \nL 63.72 136.5 \nL 42.17 136.5 \nL 42.17 158.05 \n\" style=\"fill:#f5f5f5;\"/>\n    <path clip-path=\"url(#pce2af521af)\" d=\"M 63.72 158.05 \nL 85.27 158.05 \nL 85.27 136.5 \nL 63.72 136.5 \nL 63.72 158.05 \n\" style=\"fill:#f5f5f5;\"/>\n    <path clip-path=\"url(#pce2af521af)\" d=\"M 85.27 158.05 \nL 106.82 158.05 \nL 106.82 136.5 \nL 85.27 136.5 \nL 85.27 158.05 \n\" style=\"fill:#f5f5f5;\"/>\n    <path clip-path=\"url(#pce2af521af)\" d=\"M 106.82 158.05 \nL 128.37 158.05 \nL 128.37 136.5 \nL 106.82 136.5 \nL 106.82 158.05 \n\" style=\"fill:#f5f5f5;\"/>\n    <path clip-path=\"url(#pce2af521af)\" d=\"M 128.37 158.05 \nL 149.92 158.05 \nL 149.92 136.5 \nL 128.37 136.5 \nL 128.37 158.05 \n\" style=\"fill:#f5f5f5;\"/>\n    <path clip-path=\"url(#pce2af521af)\" d=\"M 149.92 158.05 \nL 171.47 158.05 \nL 171.47 136.5 \nL 149.92 136.5 \nL 149.92 158.05 \n\" style=\"fill:#f5f5f5;\"/>\n    <path clip-path=\"url(#pce2af521af)\" d=\"M 171.47 158.05 \nL 193.02 158.05 \nL 193.02 136.5 \nL 171.47 136.5 \nL 171.47 158.05 \n\" style=\"fill:#f5f5f5;\"/>\n    <path clip-path=\"url(#pce2af521af)\" d=\"M 193.02 158.05 \nL 214.57 158.05 \nL 214.57 136.5 \nL 193.02 136.5 \nL 193.02 158.05 \n\" style=\"fill:#f5f5f5;\"/>\n    <path clip-path=\"url(#pce2af521af)\" d=\"M 214.57 158.05 \nL 236.12 158.05 \nL 236.12 136.5 \nL 214.57 136.5 \nL 214.57 158.05 \n\" style=\"fill:#f5f5f5;\"/>\n    <path clip-path=\"url(#pce2af521af)\" d=\"M 236.12 158.05 \nL 257.67 158.05 \nL 257.67 136.5 \nL 236.12 136.5 \nL 236.12 158.05 \n\" style=\"fill:#f5f5f5;\"/>\n    <path clip-path=\"url(#pce2af521af)\" d=\"M 257.67 158.05 \nL 279.22 158.05 \nL 279.22 136.5 \nL 257.67 136.5 \nL 257.67 158.05 \n\" style=\"fill:#f5f5f5;\"/>\n    <path clip-path=\"url(#pce2af521af)\" d=\"M 279.22 158.05 \nL 300.77 158.05 \nL 300.77 136.5 \nL 279.22 136.5 \nL 279.22 158.05 \n\" style=\"fill:#f5f5f5;\"/>\n    <path clip-path=\"url(#pce2af521af)\" d=\"M 300.77 158.05 \nL 322.32 158.05 \nL 322.32 136.5 \nL 300.77 136.5 \nL 300.77 158.05 \n\" style=\"fill:#f5f5f5;\"/>\n    <path clip-path=\"url(#pce2af521af)\" d=\"M 322.32 158.05 \nL 343.87 158.05 \nL 343.87 136.5 \nL 322.32 136.5 \nL 322.32 158.05 \n\" style=\"fill:#f5f5f5;\"/>\n    <path clip-path=\"url(#pce2af521af)\" d=\"M 343.87 158.05 \nL 365.42 158.05 \nL 365.42 136.5 \nL 343.87 136.5 \nL 343.87 158.05 \n\" style=\"fill:#f5f5f5;\"/>\n    <path clip-path=\"url(#pce2af521af)\" d=\"M 365.42 158.05 \nL 386.97 158.05 \nL 386.97 136.5 \nL 365.42 136.5 \nL 365.42 158.05 \n\" style=\"fill:#f5f5f5;\"/>\n    <path clip-path=\"url(#pce2af521af)\" d=\"M 386.97 158.05 \nL 408.52 158.05 \nL 408.52 136.5 \nL 386.97 136.5 \nL 386.97 158.05 \n\" style=\"fill:#f5f5f5;\"/>\n    <path clip-path=\"url(#pce2af521af)\" d=\"M 408.52 158.05 \nL 430.07 158.05 \nL 430.07 136.5 \nL 408.52 136.5 \nL 408.52 158.05 \n\" style=\"fill:#f5f5f5;\"/>\n    <path clip-path=\"url(#pce2af521af)\" d=\"M 430.07 158.05 \nL 451.62 158.05 \nL 451.62 136.5 \nL 430.07 136.5 \nL 430.07 158.05 \n\" style=\"fill:#f5f5f5;\"/>\n    <path clip-path=\"url(#pce2af521af)\" d=\"M 451.62 158.05 \nL 473.17 158.05 \nL 473.17 136.5 \nL 451.62 136.5 \nL 451.62 158.05 \n\" style=\"fill:#f5f5f5;\"/>\n    <path clip-path=\"url(#pce2af521af)\" d=\"M 473.17 158.05 \nL 494.72 158.05 \nL 494.72 136.5 \nL 473.17 136.5 \nL 473.17 158.05 \n\" style=\"fill:#f5f5f5;\"/>\n    <path clip-path=\"url(#pce2af521af)\" d=\"M 494.72 158.05 \nL 516.27 158.05 \nL 516.27 136.5 \nL 494.72 136.5 \nL 494.72 158.05 \n\" style=\"fill:#f5f5f5;\"/>\n    <path clip-path=\"url(#pce2af521af)\" d=\"M 516.27 158.05 \nL 537.82 158.05 \nL 537.82 136.5 \nL 516.27 136.5 \nL 516.27 158.05 \n\" style=\"fill:#f5f5f5;\"/>\n    <path clip-path=\"url(#pce2af521af)\" d=\"M 537.82 158.05 \nL 559.37 158.05 \nL 559.37 136.5 \nL 537.82 136.5 \nL 537.82 158.05 \n\" style=\"fill:#f5f5f5;\"/>\n    <path clip-path=\"url(#pce2af521af)\" d=\"M 559.37 158.05 \nL 580.92 158.05 \nL 580.92 136.5 \nL 559.37 136.5 \nL 559.37 158.05 \n\" style=\"fill:#f5f5f5;\"/>\n    <path clip-path=\"url(#pce2af521af)\" d=\"M 580.92 158.05 \nL 602.47 158.05 \nL 602.47 136.5 \nL 580.92 136.5 \nL 580.92 158.05 \n\" style=\"fill:#f5f5f5;\"/>\n    <path clip-path=\"url(#pce2af521af)\" d=\"M 602.47 158.05 \nL 624.02 158.05 \nL 624.02 136.5 \nL 602.47 136.5 \nL 602.47 158.05 \n\" style=\"fill:#f5f5f5;\"/>\n    <path clip-path=\"url(#pce2af521af)\" d=\"M 624.02 158.05 \nL 645.57 158.05 \nL 645.57 136.5 \nL 624.02 136.5 \nL 624.02 158.05 \n\" style=\"fill:#f5f5f5;\"/>\n    <path clip-path=\"url(#pce2af521af)\" d=\"M 645.57 158.05 \nL 667.12 158.05 \nL 667.12 136.5 \nL 645.57 136.5 \nL 645.57 158.05 \n\" style=\"fill:#f5f5f5;\"/>\n    <path clip-path=\"url(#pce2af521af)\" d=\"M 667.12 158.05 \nL 688.67 158.05 \nL 688.67 136.5 \nL 667.12 136.5 \nL 667.12 158.05 \n\" style=\"fill:#f5f5f5;\"/>\n    <path clip-path=\"url(#pce2af521af)\" d=\"M 688.67 158.05 \nL 710.22 158.05 \nL 710.22 136.5 \nL 688.67 136.5 \nL 688.67 158.05 \n\" style=\"fill:#f5f5f5;\"/>\n    <path clip-path=\"url(#pce2af521af)\" d=\"M 710.22 158.05 \nL 731.77 158.05 \nL 731.77 136.5 \nL 710.22 136.5 \nL 710.22 158.05 \n\" style=\"fill:#f5f5f5;\"/>\n    <path clip-path=\"url(#pce2af521af)\" d=\"M 731.77 158.05 \nL 753.32 158.05 \nL 753.32 136.5 \nL 731.77 136.5 \nL 731.77 158.05 \n\" style=\"fill:#f5f5f5;\"/>\n    <path clip-path=\"url(#pce2af521af)\" d=\"M 753.32 158.05 \nL 774.87 158.05 \nL 774.87 136.5 \nL 753.32 136.5 \nL 753.32 158.05 \n\" style=\"fill:#f5f5f5;\"/>\n    <path clip-path=\"url(#pce2af521af)\" d=\"M 774.87 158.05 \nL 796.42 158.05 \nL 796.42 136.5 \nL 774.87 136.5 \nL 774.87 158.05 \n\" style=\"fill:#f5f5f5;\"/>\n    <path clip-path=\"url(#pce2af521af)\" d=\"M 796.42 158.05 \nL 817.97 158.05 \nL 817.97 136.5 \nL 796.42 136.5 \nL 796.42 158.05 \n\" style=\"fill:#f5f5f5;\"/>\n    <path clip-path=\"url(#pce2af521af)\" d=\"M 817.97 158.05 \nL 839.52 158.05 \nL 839.52 136.5 \nL 817.97 136.5 \nL 817.97 158.05 \n\" style=\"fill:#f5f5f5;\"/>\n    <path clip-path=\"url(#pce2af521af)\" d=\"M 839.52 158.05 \nL 861.07 158.05 \nL 861.07 136.5 \nL 839.52 136.5 \nL 839.52 158.05 \n\" style=\"fill:#f5f5f5;\"/>\n    <path clip-path=\"url(#pce2af521af)\" d=\"M 861.07 158.05 \nL 882.62 158.05 \nL 882.62 136.5 \nL 861.07 136.5 \nL 861.07 158.05 \n\" style=\"fill:#f5f5f5;\"/>\n    <path clip-path=\"url(#pce2af521af)\" d=\"M 882.62 158.05 \nL 904.17 158.05 \nL 904.17 136.5 \nL 882.62 136.5 \nL 882.62 158.05 \n\" style=\"fill:#f5f5f5;\"/>\n    <path clip-path=\"url(#pce2af521af)\" d=\"M 904.17 158.05 \nL 925.72 158.05 \nL 925.72 136.5 \nL 904.17 136.5 \nL 904.17 158.05 \n\" style=\"fill:#f5f5f5;\"/>\n    <path clip-path=\"url(#pce2af521af)\" d=\"M 925.72 158.05 \nL 947.27 158.05 \nL 947.27 136.5 \nL 925.72 136.5 \nL 925.72 158.05 \n\" style=\"fill:#f5f5f5;\"/>\n    <path clip-path=\"url(#pce2af521af)\" d=\"M 947.27 158.05 \nL 968.82 158.05 \nL 968.82 136.5 \nL 947.27 136.5 \nL 947.27 158.05 \n\" style=\"fill:#f5f5f5;\"/>\n    <path clip-path=\"url(#pce2af521af)\" d=\"M 968.82 158.05 \nL 990.37 158.05 \nL 990.37 136.5 \nL 968.82 136.5 \nL 968.82 158.05 \n\" style=\"fill:#f5f5f5;\"/>\n    <path clip-path=\"url(#pce2af521af)\" d=\"M 990.37 158.05 \nL 1011.92 158.05 \nL 1011.92 136.5 \nL 990.37 136.5 \nL 990.37 158.05 \n\" style=\"fill:#f5f5f5;\"/>\n    <path clip-path=\"url(#pce2af521af)\" d=\"M 1011.92 158.05 \nL 1033.47 158.05 \nL 1033.47 136.5 \nL 1011.92 136.5 \nL 1011.92 158.05 \n\" style=\"fill:#f5f5f5;\"/>\n    <path clip-path=\"url(#pce2af521af)\" d=\"M 1033.47 158.05 \nL 1055.02 158.05 \nL 1055.02 136.5 \nL 1033.47 136.5 \nL 1033.47 158.05 \n\" style=\"fill:#f5f5f5;\"/>\n    <path clip-path=\"url(#pce2af521af)\" d=\"M 1055.02 158.05 \nL 1076.57 158.05 \nL 1076.57 136.5 \nL 1055.02 136.5 \nL 1055.02 158.05 \n\" style=\"fill:#f5f5f5;\"/>\n    <path clip-path=\"url(#pce2af521af)\" d=\"M 1076.57 158.05 \nL 1098.12 158.05 \nL 1098.12 136.5 \nL 1076.57 136.5 \nL 1076.57 158.05 \n\" style=\"fill:#f5f5f5;\"/>\n    <path clip-path=\"url(#pce2af521af)\" d=\"M 1098.12 158.05 \nL 1119.67 158.05 \nL 1119.67 136.5 \nL 1098.12 136.5 \nL 1098.12 158.05 \n\" style=\"fill:#f5f5f5;\"/>\n    <path clip-path=\"url(#pce2af521af)\" d=\"M 1119.67 158.05 \nL 1141.22 158.05 \nL 1141.22 136.5 \nL 1119.67 136.5 \nL 1119.67 158.05 \n\" style=\"fill:#f5f5f5;\"/>\n    <path clip-path=\"url(#pce2af521af)\" d=\"M 1141.22 158.05 \nL 1162.77 158.05 \nL 1162.77 136.5 \nL 1141.22 136.5 \nL 1141.22 158.05 \n\" style=\"fill:#f5f5f5;\"/>\n    <path clip-path=\"url(#pce2af521af)\" d=\"M 1162.77 158.05 \nL 1184.32 158.05 \nL 1184.32 136.5 \nL 1162.77 136.5 \nL 1162.77 158.05 \n\" style=\"fill:none;\"/>\n    <path clip-path=\"url(#pce2af521af)\" d=\"M 42.17 136.5 \nL 63.72 136.5 \nL 63.72 114.95 \nL 42.17 114.95 \nL 42.17 136.5 \n\" style=\"fill:#f5f5f5;\"/>\n    <path clip-path=\"url(#pce2af521af)\" d=\"M 63.72 136.5 \nL 85.27 136.5 \nL 85.27 114.95 \nL 63.72 114.95 \nL 63.72 136.5 \n\" style=\"fill:#f5f5f5;\"/>\n    <path clip-path=\"url(#pce2af521af)\" d=\"M 85.27 136.5 \nL 106.82 136.5 \nL 106.82 114.95 \nL 85.27 114.95 \nL 85.27 136.5 \n\" style=\"fill:#f5f5f5;\"/>\n    <path clip-path=\"url(#pce2af521af)\" d=\"M 106.82 136.5 \nL 128.37 136.5 \nL 128.37 114.95 \nL 106.82 114.95 \nL 106.82 136.5 \n\" style=\"fill:#f5f5f5;\"/>\n    <path clip-path=\"url(#pce2af521af)\" d=\"M 128.37 136.5 \nL 149.92 136.5 \nL 149.92 114.95 \nL 128.37 114.95 \nL 128.37 136.5 \n\" style=\"fill:#f5f5f5;\"/>\n    <path clip-path=\"url(#pce2af521af)\" d=\"M 149.92 136.5 \nL 171.47 136.5 \nL 171.47 114.95 \nL 149.92 114.95 \nL 149.92 136.5 \n\" style=\"fill:#f5f5f5;\"/>\n    <path clip-path=\"url(#pce2af521af)\" d=\"M 171.47 136.5 \nL 193.02 136.5 \nL 193.02 114.95 \nL 171.47 114.95 \nL 171.47 136.5 \n\" style=\"fill:#f5f5f5;\"/>\n    <path clip-path=\"url(#pce2af521af)\" d=\"M 193.02 136.5 \nL 214.57 136.5 \nL 214.57 114.95 \nL 193.02 114.95 \nL 193.02 136.5 \n\" style=\"fill:#f5f5f5;\"/>\n    <path clip-path=\"url(#pce2af521af)\" d=\"M 214.57 136.5 \nL 236.12 136.5 \nL 236.12 114.95 \nL 214.57 114.95 \nL 214.57 136.5 \n\" style=\"fill:#f5f5f5;\"/>\n    <path clip-path=\"url(#pce2af521af)\" d=\"M 236.12 136.5 \nL 257.67 136.5 \nL 257.67 114.95 \nL 236.12 114.95 \nL 236.12 136.5 \n\" style=\"fill:#f5f5f5;\"/>\n    <path clip-path=\"url(#pce2af521af)\" d=\"M 257.67 136.5 \nL 279.22 136.5 \nL 279.22 114.95 \nL 257.67 114.95 \nL 257.67 136.5 \n\" style=\"fill:#f5f5f5;\"/>\n    <path clip-path=\"url(#pce2af521af)\" d=\"M 279.22 136.5 \nL 300.77 136.5 \nL 300.77 114.95 \nL 279.22 114.95 \nL 279.22 136.5 \n\" style=\"fill:#f5f5f5;\"/>\n    <path clip-path=\"url(#pce2af521af)\" d=\"M 300.77 136.5 \nL 322.32 136.5 \nL 322.32 114.95 \nL 300.77 114.95 \nL 300.77 136.5 \n\" style=\"fill:#f5f5f5;\"/>\n    <path clip-path=\"url(#pce2af521af)\" d=\"M 322.32 136.5 \nL 343.87 136.5 \nL 343.87 114.95 \nL 322.32 114.95 \nL 322.32 136.5 \n\" style=\"fill:#f5f5f5;\"/>\n    <path clip-path=\"url(#pce2af521af)\" d=\"M 343.87 136.5 \nL 365.42 136.5 \nL 365.42 114.95 \nL 343.87 114.95 \nL 343.87 136.5 \n\" style=\"fill:#f5f5f5;\"/>\n    <path clip-path=\"url(#pce2af521af)\" d=\"M 365.42 136.5 \nL 386.97 136.5 \nL 386.97 114.95 \nL 365.42 114.95 \nL 365.42 136.5 \n\" style=\"fill:#f5f5f5;\"/>\n    <path clip-path=\"url(#pce2af521af)\" d=\"M 386.97 136.5 \nL 408.52 136.5 \nL 408.52 114.95 \nL 386.97 114.95 \nL 386.97 136.5 \n\" style=\"fill:#f5f5f5;\"/>\n    <path clip-path=\"url(#pce2af521af)\" d=\"M 408.52 136.5 \nL 430.07 136.5 \nL 430.07 114.95 \nL 408.52 114.95 \nL 408.52 136.5 \n\" style=\"fill:#f5f5f5;\"/>\n    <path clip-path=\"url(#pce2af521af)\" d=\"M 430.07 136.5 \nL 451.62 136.5 \nL 451.62 114.95 \nL 430.07 114.95 \nL 430.07 136.5 \n\" style=\"fill:#f5f5f5;\"/>\n    <path clip-path=\"url(#pce2af521af)\" d=\"M 451.62 136.5 \nL 473.17 136.5 \nL 473.17 114.95 \nL 451.62 114.95 \nL 451.62 136.5 \n\" style=\"fill:#f5f5f5;\"/>\n    <path clip-path=\"url(#pce2af521af)\" d=\"M 473.17 136.5 \nL 494.72 136.5 \nL 494.72 114.95 \nL 473.17 114.95 \nL 473.17 136.5 \n\" style=\"fill:#f5f5f5;\"/>\n    <path clip-path=\"url(#pce2af521af)\" d=\"M 494.72 136.5 \nL 516.27 136.5 \nL 516.27 114.95 \nL 494.72 114.95 \nL 494.72 136.5 \n\" style=\"fill:#f5f5f5;\"/>\n    <path clip-path=\"url(#pce2af521af)\" d=\"M 516.27 136.5 \nL 537.82 136.5 \nL 537.82 114.95 \nL 516.27 114.95 \nL 516.27 136.5 \n\" style=\"fill:#f5f5f5;\"/>\n    <path clip-path=\"url(#pce2af521af)\" d=\"M 537.82 136.5 \nL 559.37 136.5 \nL 559.37 114.95 \nL 537.82 114.95 \nL 537.82 136.5 \n\" style=\"fill:#f5f5f5;\"/>\n    <path clip-path=\"url(#pce2af521af)\" d=\"M 559.37 136.5 \nL 580.92 136.5 \nL 580.92 114.95 \nL 559.37 114.95 \nL 559.37 136.5 \n\" style=\"fill:#f5f5f5;\"/>\n    <path clip-path=\"url(#pce2af521af)\" d=\"M 580.92 136.5 \nL 602.47 136.5 \nL 602.47 114.95 \nL 580.92 114.95 \nL 580.92 136.5 \n\" style=\"fill:#f5f5f5;\"/>\n    <path clip-path=\"url(#pce2af521af)\" d=\"M 602.47 136.5 \nL 624.02 136.5 \nL 624.02 114.95 \nL 602.47 114.95 \nL 602.47 136.5 \n\" style=\"fill:#f5f5f5;\"/>\n    <path clip-path=\"url(#pce2af521af)\" d=\"M 624.02 136.5 \nL 645.57 136.5 \nL 645.57 114.95 \nL 624.02 114.95 \nL 624.02 136.5 \n\" style=\"fill:#f5f5f5;\"/>\n    <path clip-path=\"url(#pce2af521af)\" d=\"M 645.57 136.5 \nL 667.12 136.5 \nL 667.12 114.95 \nL 645.57 114.95 \nL 645.57 136.5 \n\" style=\"fill:#f5f5f5;\"/>\n    <path clip-path=\"url(#pce2af521af)\" d=\"M 667.12 136.5 \nL 688.67 136.5 \nL 688.67 114.95 \nL 667.12 114.95 \nL 667.12 136.5 \n\" style=\"fill:#f5f5f5;\"/>\n    <path clip-path=\"url(#pce2af521af)\" d=\"M 688.67 136.5 \nL 710.22 136.5 \nL 710.22 114.95 \nL 688.67 114.95 \nL 688.67 136.5 \n\" style=\"fill:#f5f5f5;\"/>\n    <path clip-path=\"url(#pce2af521af)\" d=\"M 710.22 136.5 \nL 731.77 136.5 \nL 731.77 114.95 \nL 710.22 114.95 \nL 710.22 136.5 \n\" style=\"fill:#f5f5f5;\"/>\n    <path clip-path=\"url(#pce2af521af)\" d=\"M 731.77 136.5 \nL 753.32 136.5 \nL 753.32 114.95 \nL 731.77 114.95 \nL 731.77 136.5 \n\" style=\"fill:#f5f5f5;\"/>\n    <path clip-path=\"url(#pce2af521af)\" d=\"M 753.32 136.5 \nL 774.87 136.5 \nL 774.87 114.95 \nL 753.32 114.95 \nL 753.32 136.5 \n\" style=\"fill:#f5f5f5;\"/>\n    <path clip-path=\"url(#pce2af521af)\" d=\"M 774.87 136.5 \nL 796.42 136.5 \nL 796.42 114.95 \nL 774.87 114.95 \nL 774.87 136.5 \n\" style=\"fill:#f5f5f5;\"/>\n    <path clip-path=\"url(#pce2af521af)\" d=\"M 796.42 136.5 \nL 817.97 136.5 \nL 817.97 114.95 \nL 796.42 114.95 \nL 796.42 136.5 \n\" style=\"fill:#f5f5f5;\"/>\n    <path clip-path=\"url(#pce2af521af)\" d=\"M 817.97 136.5 \nL 839.52 136.5 \nL 839.52 114.95 \nL 817.97 114.95 \nL 817.97 136.5 \n\" style=\"fill:#f5f5f5;\"/>\n    <path clip-path=\"url(#pce2af521af)\" d=\"M 839.52 136.5 \nL 861.07 136.5 \nL 861.07 114.95 \nL 839.52 114.95 \nL 839.52 136.5 \n\" style=\"fill:#f5f5f5;\"/>\n    <path clip-path=\"url(#pce2af521af)\" d=\"M 861.07 136.5 \nL 882.62 136.5 \nL 882.62 114.95 \nL 861.07 114.95 \nL 861.07 136.5 \n\" style=\"fill:#f5f5f5;\"/>\n    <path clip-path=\"url(#pce2af521af)\" d=\"M 882.62 136.5 \nL 904.17 136.5 \nL 904.17 114.95 \nL 882.62 114.95 \nL 882.62 136.5 \n\" style=\"fill:#f5f5f5;\"/>\n    <path clip-path=\"url(#pce2af521af)\" d=\"M 904.17 136.5 \nL 925.72 136.5 \nL 925.72 114.95 \nL 904.17 114.95 \nL 904.17 136.5 \n\" style=\"fill:#f5f5f5;\"/>\n    <path clip-path=\"url(#pce2af521af)\" d=\"M 925.72 136.5 \nL 947.27 136.5 \nL 947.27 114.95 \nL 925.72 114.95 \nL 925.72 136.5 \n\" style=\"fill:#f5f5f5;\"/>\n    <path clip-path=\"url(#pce2af521af)\" d=\"M 947.27 136.5 \nL 968.82 136.5 \nL 968.82 114.95 \nL 947.27 114.95 \nL 947.27 136.5 \n\" style=\"fill:#f5f5f5;\"/>\n    <path clip-path=\"url(#pce2af521af)\" d=\"M 968.82 136.5 \nL 990.37 136.5 \nL 990.37 114.95 \nL 968.82 114.95 \nL 968.82 136.5 \n\" style=\"fill:#f5f5f5;\"/>\n    <path clip-path=\"url(#pce2af521af)\" d=\"M 990.37 136.5 \nL 1011.92 136.5 \nL 1011.92 114.95 \nL 990.37 114.95 \nL 990.37 136.5 \n\" style=\"fill:#f5f5f5;\"/>\n    <path clip-path=\"url(#pce2af521af)\" d=\"M 1011.92 136.5 \nL 1033.47 136.5 \nL 1033.47 114.95 \nL 1011.92 114.95 \nL 1011.92 136.5 \n\" style=\"fill:#f5f5f5;\"/>\n    <path clip-path=\"url(#pce2af521af)\" d=\"M 1033.47 136.5 \nL 1055.02 136.5 \nL 1055.02 114.95 \nL 1033.47 114.95 \nL 1033.47 136.5 \n\" style=\"fill:#f5f5f5;\"/>\n    <path clip-path=\"url(#pce2af521af)\" d=\"M 1055.02 136.5 \nL 1076.57 136.5 \nL 1076.57 114.95 \nL 1055.02 114.95 \nL 1055.02 136.5 \n\" style=\"fill:#f5f5f5;\"/>\n    <path clip-path=\"url(#pce2af521af)\" d=\"M 1076.57 136.5 \nL 1098.12 136.5 \nL 1098.12 114.95 \nL 1076.57 114.95 \nL 1076.57 136.5 \n\" style=\"fill:#f5f5f5;\"/>\n    <path clip-path=\"url(#pce2af521af)\" d=\"M 1098.12 136.5 \nL 1119.67 136.5 \nL 1119.67 114.95 \nL 1098.12 114.95 \nL 1098.12 136.5 \n\" style=\"fill:#f5f5f5;\"/>\n    <path clip-path=\"url(#pce2af521af)\" d=\"M 1119.67 136.5 \nL 1141.22 136.5 \nL 1141.22 114.95 \nL 1119.67 114.95 \nL 1119.67 136.5 \n\" style=\"fill:#f5f5f5;\"/>\n    <path clip-path=\"url(#pce2af521af)\" d=\"M 1141.22 136.5 \nL 1162.77 136.5 \nL 1162.77 114.95 \nL 1141.22 114.95 \nL 1141.22 136.5 \n\" style=\"fill:#f5f5f5;\"/>\n    <path clip-path=\"url(#pce2af521af)\" d=\"M 1162.77 136.5 \nL 1184.32 136.5 \nL 1184.32 114.95 \nL 1162.77 114.95 \nL 1162.77 136.5 \n\" style=\"fill:none;\"/>\n    <path clip-path=\"url(#pce2af521af)\" d=\"M 42.17 114.95 \nL 63.72 114.95 \nL 63.72 93.4 \nL 42.17 93.4 \nL 42.17 114.95 \n\" style=\"fill:#f5f5f5;\"/>\n    <path clip-path=\"url(#pce2af521af)\" d=\"M 63.72 114.95 \nL 85.27 114.95 \nL 85.27 93.4 \nL 63.72 93.4 \nL 63.72 114.95 \n\" style=\"fill:#f5f5f5;\"/>\n    <path clip-path=\"url(#pce2af521af)\" d=\"M 85.27 114.95 \nL 106.82 114.95 \nL 106.82 93.4 \nL 85.27 93.4 \nL 85.27 114.95 \n\" style=\"fill:#f5f5f5;\"/>\n    <path clip-path=\"url(#pce2af521af)\" d=\"M 106.82 114.95 \nL 128.37 114.95 \nL 128.37 93.4 \nL 106.82 93.4 \nL 106.82 114.95 \n\" style=\"fill:#f5f5f5;\"/>\n    <path clip-path=\"url(#pce2af521af)\" d=\"M 128.37 114.95 \nL 149.92 114.95 \nL 149.92 93.4 \nL 128.37 93.4 \nL 128.37 114.95 \n\" style=\"fill:#f5f5f5;\"/>\n    <path clip-path=\"url(#pce2af521af)\" d=\"M 149.92 114.95 \nL 171.47 114.95 \nL 171.47 93.4 \nL 149.92 93.4 \nL 149.92 114.95 \n\" style=\"fill:#f5f5f5;\"/>\n    <path clip-path=\"url(#pce2af521af)\" d=\"M 171.47 114.95 \nL 193.02 114.95 \nL 193.02 93.4 \nL 171.47 93.4 \nL 171.47 114.95 \n\" style=\"fill:#f5f5f5;\"/>\n    <path clip-path=\"url(#pce2af521af)\" d=\"M 193.02 114.95 \nL 214.57 114.95 \nL 214.57 93.4 \nL 193.02 93.4 \nL 193.02 114.95 \n\" style=\"fill:#f5f5f5;\"/>\n    <path clip-path=\"url(#pce2af521af)\" d=\"M 214.57 114.95 \nL 236.12 114.95 \nL 236.12 93.4 \nL 214.57 93.4 \nL 214.57 114.95 \n\" style=\"fill:#f5f5f5;\"/>\n    <path clip-path=\"url(#pce2af521af)\" d=\"M 236.12 114.95 \nL 257.67 114.95 \nL 257.67 93.4 \nL 236.12 93.4 \nL 236.12 114.95 \n\" style=\"fill:#f5f5f5;\"/>\n    <path clip-path=\"url(#pce2af521af)\" d=\"M 257.67 114.95 \nL 279.22 114.95 \nL 279.22 93.4 \nL 257.67 93.4 \nL 257.67 114.95 \n\" style=\"fill:#f5f5f5;\"/>\n    <path clip-path=\"url(#pce2af521af)\" d=\"M 279.22 114.95 \nL 300.77 114.95 \nL 300.77 93.4 \nL 279.22 93.4 \nL 279.22 114.95 \n\" style=\"fill:#f5f5f5;\"/>\n    <path clip-path=\"url(#pce2af521af)\" d=\"M 300.77 114.95 \nL 322.32 114.95 \nL 322.32 93.4 \nL 300.77 93.4 \nL 300.77 114.95 \n\" style=\"fill:#f5f5f5;\"/>\n    <path clip-path=\"url(#pce2af521af)\" d=\"M 322.32 114.95 \nL 343.87 114.95 \nL 343.87 93.4 \nL 322.32 93.4 \nL 322.32 114.95 \n\" style=\"fill:#f5f5f5;\"/>\n    <path clip-path=\"url(#pce2af521af)\" d=\"M 343.87 114.95 \nL 365.42 114.95 \nL 365.42 93.4 \nL 343.87 93.4 \nL 343.87 114.95 \n\" style=\"fill:#f5f5f5;\"/>\n    <path clip-path=\"url(#pce2af521af)\" d=\"M 365.42 114.95 \nL 386.97 114.95 \nL 386.97 93.4 \nL 365.42 93.4 \nL 365.42 114.95 \n\" style=\"fill:#f5f5f5;\"/>\n    <path clip-path=\"url(#pce2af521af)\" d=\"M 386.97 114.95 \nL 408.52 114.95 \nL 408.52 93.4 \nL 386.97 93.4 \nL 386.97 114.95 \n\" style=\"fill:#f5f5f5;\"/>\n    <path clip-path=\"url(#pce2af521af)\" d=\"M 408.52 114.95 \nL 430.07 114.95 \nL 430.07 93.4 \nL 408.52 93.4 \nL 408.52 114.95 \n\" style=\"fill:#f5f5f5;\"/>\n    <path clip-path=\"url(#pce2af521af)\" d=\"M 430.07 114.95 \nL 451.62 114.95 \nL 451.62 93.4 \nL 430.07 93.4 \nL 430.07 114.95 \n\" style=\"fill:#f5f5f5;\"/>\n    <path clip-path=\"url(#pce2af521af)\" d=\"M 451.62 114.95 \nL 473.17 114.95 \nL 473.17 93.4 \nL 451.62 93.4 \nL 451.62 114.95 \n\" style=\"fill:#f5f5f5;\"/>\n    <path clip-path=\"url(#pce2af521af)\" d=\"M 473.17 114.95 \nL 494.72 114.95 \nL 494.72 93.4 \nL 473.17 93.4 \nL 473.17 114.95 \n\" style=\"fill:#f5f5f5;\"/>\n    <path clip-path=\"url(#pce2af521af)\" d=\"M 494.72 114.95 \nL 516.27 114.95 \nL 516.27 93.4 \nL 494.72 93.4 \nL 494.72 114.95 \n\" style=\"fill:#f5f5f5;\"/>\n    <path clip-path=\"url(#pce2af521af)\" d=\"M 516.27 114.95 \nL 537.82 114.95 \nL 537.82 93.4 \nL 516.27 93.4 \nL 516.27 114.95 \n\" style=\"fill:#f5f5f5;\"/>\n    <path clip-path=\"url(#pce2af521af)\" d=\"M 537.82 114.95 \nL 559.37 114.95 \nL 559.37 93.4 \nL 537.82 93.4 \nL 537.82 114.95 \n\" style=\"fill:#f5f5f5;\"/>\n    <path clip-path=\"url(#pce2af521af)\" d=\"M 559.37 114.95 \nL 580.92 114.95 \nL 580.92 93.4 \nL 559.37 93.4 \nL 559.37 114.95 \n\" style=\"fill:#f5f5f5;\"/>\n    <path clip-path=\"url(#pce2af521af)\" d=\"M 580.92 114.95 \nL 602.47 114.95 \nL 602.47 93.4 \nL 580.92 93.4 \nL 580.92 114.95 \n\" style=\"fill:#f5f5f5;\"/>\n    <path clip-path=\"url(#pce2af521af)\" d=\"M 602.47 114.95 \nL 624.02 114.95 \nL 624.02 93.4 \nL 602.47 93.4 \nL 602.47 114.95 \n\" style=\"fill:#f5f5f5;\"/>\n    <path clip-path=\"url(#pce2af521af)\" d=\"M 624.02 114.95 \nL 645.57 114.95 \nL 645.57 93.4 \nL 624.02 93.4 \nL 624.02 114.95 \n\" style=\"fill:#f5f5f5;\"/>\n    <path clip-path=\"url(#pce2af521af)\" d=\"M 645.57 114.95 \nL 667.12 114.95 \nL 667.12 93.4 \nL 645.57 93.4 \nL 645.57 114.95 \n\" style=\"fill:#f5f5f5;\"/>\n    <path clip-path=\"url(#pce2af521af)\" d=\"M 667.12 114.95 \nL 688.67 114.95 \nL 688.67 93.4 \nL 667.12 93.4 \nL 667.12 114.95 \n\" style=\"fill:#f5f5f5;\"/>\n    <path clip-path=\"url(#pce2af521af)\" d=\"M 688.67 114.95 \nL 710.22 114.95 \nL 710.22 93.4 \nL 688.67 93.4 \nL 688.67 114.95 \n\" style=\"fill:#f5f5f5;\"/>\n    <path clip-path=\"url(#pce2af521af)\" d=\"M 710.22 114.95 \nL 731.77 114.95 \nL 731.77 93.4 \nL 710.22 93.4 \nL 710.22 114.95 \n\" style=\"fill:#f5f5f5;\"/>\n    <path clip-path=\"url(#pce2af521af)\" d=\"M 731.77 114.95 \nL 753.32 114.95 \nL 753.32 93.4 \nL 731.77 93.4 \nL 731.77 114.95 \n\" style=\"fill:#f5f5f5;\"/>\n    <path clip-path=\"url(#pce2af521af)\" d=\"M 753.32 114.95 \nL 774.87 114.95 \nL 774.87 93.4 \nL 753.32 93.4 \nL 753.32 114.95 \n\" style=\"fill:#f5f5f5;\"/>\n    <path clip-path=\"url(#pce2af521af)\" d=\"M 774.87 114.95 \nL 796.42 114.95 \nL 796.42 93.4 \nL 774.87 93.4 \nL 774.87 114.95 \n\" style=\"fill:#f5f5f5;\"/>\n    <path clip-path=\"url(#pce2af521af)\" d=\"M 796.42 114.95 \nL 817.97 114.95 \nL 817.97 93.4 \nL 796.42 93.4 \nL 796.42 114.95 \n\" style=\"fill:#f5f5f5;\"/>\n    <path clip-path=\"url(#pce2af521af)\" d=\"M 817.97 114.95 \nL 839.52 114.95 \nL 839.52 93.4 \nL 817.97 93.4 \nL 817.97 114.95 \n\" style=\"fill:#f5f5f5;\"/>\n    <path clip-path=\"url(#pce2af521af)\" d=\"M 839.52 114.95 \nL 861.07 114.95 \nL 861.07 93.4 \nL 839.52 93.4 \nL 839.52 114.95 \n\" style=\"fill:#f5f5f5;\"/>\n    <path clip-path=\"url(#pce2af521af)\" d=\"M 861.07 114.95 \nL 882.62 114.95 \nL 882.62 93.4 \nL 861.07 93.4 \nL 861.07 114.95 \n\" style=\"fill:#f5f5f5;\"/>\n    <path clip-path=\"url(#pce2af521af)\" d=\"M 882.62 114.95 \nL 904.17 114.95 \nL 904.17 93.4 \nL 882.62 93.4 \nL 882.62 114.95 \n\" style=\"fill:#f5f5f5;\"/>\n    <path clip-path=\"url(#pce2af521af)\" d=\"M 904.17 114.95 \nL 925.72 114.95 \nL 925.72 93.4 \nL 904.17 93.4 \nL 904.17 114.95 \n\" style=\"fill:#f5f5f5;\"/>\n    <path clip-path=\"url(#pce2af521af)\" d=\"M 925.72 114.95 \nL 947.27 114.95 \nL 947.27 93.4 \nL 925.72 93.4 \nL 925.72 114.95 \n\" style=\"fill:#f5f5f5;\"/>\n    <path clip-path=\"url(#pce2af521af)\" d=\"M 947.27 114.95 \nL 968.82 114.95 \nL 968.82 93.4 \nL 947.27 93.4 \nL 947.27 114.95 \n\" style=\"fill:#f5f5f5;\"/>\n    <path clip-path=\"url(#pce2af521af)\" d=\"M 968.82 114.95 \nL 990.37 114.95 \nL 990.37 93.4 \nL 968.82 93.4 \nL 968.82 114.95 \n\" style=\"fill:#f5f5f5;\"/>\n    <path clip-path=\"url(#pce2af521af)\" d=\"M 990.37 114.95 \nL 1011.92 114.95 \nL 1011.92 93.4 \nL 990.37 93.4 \nL 990.37 114.95 \n\" style=\"fill:#f5f5f5;\"/>\n    <path clip-path=\"url(#pce2af521af)\" d=\"M 1011.92 114.95 \nL 1033.47 114.95 \nL 1033.47 93.4 \nL 1011.92 93.4 \nL 1011.92 114.95 \n\" style=\"fill:#f5f5f5;\"/>\n    <path clip-path=\"url(#pce2af521af)\" d=\"M 1033.47 114.95 \nL 1055.02 114.95 \nL 1055.02 93.4 \nL 1033.47 93.4 \nL 1033.47 114.95 \n\" style=\"fill:#f5f5f5;\"/>\n    <path clip-path=\"url(#pce2af521af)\" d=\"M 1055.02 114.95 \nL 1076.57 114.95 \nL 1076.57 93.4 \nL 1055.02 93.4 \nL 1055.02 114.95 \n\" style=\"fill:#f5f5f5;\"/>\n    <path clip-path=\"url(#pce2af521af)\" d=\"M 1076.57 114.95 \nL 1098.12 114.95 \nL 1098.12 93.4 \nL 1076.57 93.4 \nL 1076.57 114.95 \n\" style=\"fill:#f5f5f5;\"/>\n    <path clip-path=\"url(#pce2af521af)\" d=\"M 1098.12 114.95 \nL 1119.67 114.95 \nL 1119.67 93.4 \nL 1098.12 93.4 \nL 1098.12 114.95 \n\" style=\"fill:#f5f5f5;\"/>\n    <path clip-path=\"url(#pce2af521af)\" d=\"M 1119.67 114.95 \nL 1141.22 114.95 \nL 1141.22 93.4 \nL 1119.67 93.4 \nL 1119.67 114.95 \n\" style=\"fill:#f5f5f5;\"/>\n    <path clip-path=\"url(#pce2af521af)\" d=\"M 1141.22 114.95 \nL 1162.77 114.95 \nL 1162.77 93.4 \nL 1141.22 93.4 \nL 1141.22 114.95 \n\" style=\"fill:#f5f5f5;\"/>\n    <path clip-path=\"url(#pce2af521af)\" d=\"M 1162.77 114.95 \nL 1184.32 114.95 \nL 1184.32 93.4 \nL 1162.77 93.4 \nL 1162.77 114.95 \n\" style=\"fill:none;\"/>\n    <path clip-path=\"url(#pce2af521af)\" d=\"M 42.17 93.4 \nL 63.72 93.4 \nL 63.72 71.85 \nL 42.17 71.85 \nL 42.17 93.4 \n\" style=\"fill:#f5f5f5;\"/>\n    <path clip-path=\"url(#pce2af521af)\" d=\"M 63.72 93.4 \nL 85.27 93.4 \nL 85.27 71.85 \nL 63.72 71.85 \nL 63.72 93.4 \n\" style=\"fill:#f5f5f5;\"/>\n    <path clip-path=\"url(#pce2af521af)\" d=\"M 85.27 93.4 \nL 106.82 93.4 \nL 106.82 71.85 \nL 85.27 71.85 \nL 85.27 93.4 \n\" style=\"fill:#f5f5f5;\"/>\n    <path clip-path=\"url(#pce2af521af)\" d=\"M 106.82 93.4 \nL 128.37 93.4 \nL 128.37 71.85 \nL 106.82 71.85 \nL 106.82 93.4 \n\" style=\"fill:#f5f5f5;\"/>\n    <path clip-path=\"url(#pce2af521af)\" d=\"M 128.37 93.4 \nL 149.92 93.4 \nL 149.92 71.85 \nL 128.37 71.85 \nL 128.37 93.4 \n\" style=\"fill:#f5f5f5;\"/>\n    <path clip-path=\"url(#pce2af521af)\" d=\"M 149.92 93.4 \nL 171.47 93.4 \nL 171.47 71.85 \nL 149.92 71.85 \nL 149.92 93.4 \n\" style=\"fill:#f5f5f5;\"/>\n    <path clip-path=\"url(#pce2af521af)\" d=\"M 171.47 93.4 \nL 193.02 93.4 \nL 193.02 71.85 \nL 171.47 71.85 \nL 171.47 93.4 \n\" style=\"fill:#f5f5f5;\"/>\n    <path clip-path=\"url(#pce2af521af)\" d=\"M 193.02 93.4 \nL 214.57 93.4 \nL 214.57 71.85 \nL 193.02 71.85 \nL 193.02 93.4 \n\" style=\"fill:#f5f5f5;\"/>\n    <path clip-path=\"url(#pce2af521af)\" d=\"M 214.57 93.4 \nL 236.12 93.4 \nL 236.12 71.85 \nL 214.57 71.85 \nL 214.57 93.4 \n\" style=\"fill:#f5f5f5;\"/>\n    <path clip-path=\"url(#pce2af521af)\" d=\"M 236.12 93.4 \nL 257.67 93.4 \nL 257.67 71.85 \nL 236.12 71.85 \nL 236.12 93.4 \n\" style=\"fill:#f5f5f5;\"/>\n    <path clip-path=\"url(#pce2af521af)\" d=\"M 257.67 93.4 \nL 279.22 93.4 \nL 279.22 71.85 \nL 257.67 71.85 \nL 257.67 93.4 \n\" style=\"fill:#f5f5f5;\"/>\n    <path clip-path=\"url(#pce2af521af)\" d=\"M 279.22 93.4 \nL 300.77 93.4 \nL 300.77 71.85 \nL 279.22 71.85 \nL 279.22 93.4 \n\" style=\"fill:#f5f5f5;\"/>\n    <path clip-path=\"url(#pce2af521af)\" d=\"M 300.77 93.4 \nL 322.32 93.4 \nL 322.32 71.85 \nL 300.77 71.85 \nL 300.77 93.4 \n\" style=\"fill:#f5f5f5;\"/>\n    <path clip-path=\"url(#pce2af521af)\" d=\"M 322.32 93.4 \nL 343.87 93.4 \nL 343.87 71.85 \nL 322.32 71.85 \nL 322.32 93.4 \n\" style=\"fill:#f5f5f5;\"/>\n    <path clip-path=\"url(#pce2af521af)\" d=\"M 343.87 93.4 \nL 365.42 93.4 \nL 365.42 71.85 \nL 343.87 71.85 \nL 343.87 93.4 \n\" style=\"fill:#f5f5f5;\"/>\n    <path clip-path=\"url(#pce2af521af)\" d=\"M 365.42 93.4 \nL 386.97 93.4 \nL 386.97 71.85 \nL 365.42 71.85 \nL 365.42 93.4 \n\" style=\"fill:#f5f5f5;\"/>\n    <path clip-path=\"url(#pce2af521af)\" d=\"M 386.97 93.4 \nL 408.52 93.4 \nL 408.52 71.85 \nL 386.97 71.85 \nL 386.97 93.4 \n\" style=\"fill:#f5f5f5;\"/>\n    <path clip-path=\"url(#pce2af521af)\" d=\"M 408.52 93.4 \nL 430.07 93.4 \nL 430.07 71.85 \nL 408.52 71.85 \nL 408.52 93.4 \n\" style=\"fill:#f5f5f5;\"/>\n    <path clip-path=\"url(#pce2af521af)\" d=\"M 430.07 93.4 \nL 451.62 93.4 \nL 451.62 71.85 \nL 430.07 71.85 \nL 430.07 93.4 \n\" style=\"fill:#f5f5f5;\"/>\n    <path clip-path=\"url(#pce2af521af)\" d=\"M 451.62 93.4 \nL 473.17 93.4 \nL 473.17 71.85 \nL 451.62 71.85 \nL 451.62 93.4 \n\" style=\"fill:#f5f5f5;\"/>\n    <path clip-path=\"url(#pce2af521af)\" d=\"M 473.17 93.4 \nL 494.72 93.4 \nL 494.72 71.85 \nL 473.17 71.85 \nL 473.17 93.4 \n\" style=\"fill:#f5f5f5;\"/>\n    <path clip-path=\"url(#pce2af521af)\" d=\"M 494.72 93.4 \nL 516.27 93.4 \nL 516.27 71.85 \nL 494.72 71.85 \nL 494.72 93.4 \n\" style=\"fill:#f5f5f5;\"/>\n    <path clip-path=\"url(#pce2af521af)\" d=\"M 516.27 93.4 \nL 537.82 93.4 \nL 537.82 71.85 \nL 516.27 71.85 \nL 516.27 93.4 \n\" style=\"fill:#f5f5f5;\"/>\n    <path clip-path=\"url(#pce2af521af)\" d=\"M 537.82 93.4 \nL 559.37 93.4 \nL 559.37 71.85 \nL 537.82 71.85 \nL 537.82 93.4 \n\" style=\"fill:#f5f5f5;\"/>\n    <path clip-path=\"url(#pce2af521af)\" d=\"M 559.37 93.4 \nL 580.92 93.4 \nL 580.92 71.85 \nL 559.37 71.85 \nL 559.37 93.4 \n\" style=\"fill:#f5f5f5;\"/>\n    <path clip-path=\"url(#pce2af521af)\" d=\"M 580.92 93.4 \nL 602.47 93.4 \nL 602.47 71.85 \nL 580.92 71.85 \nL 580.92 93.4 \n\" style=\"fill:#f5f5f5;\"/>\n    <path clip-path=\"url(#pce2af521af)\" d=\"M 602.47 93.4 \nL 624.02 93.4 \nL 624.02 71.85 \nL 602.47 71.85 \nL 602.47 93.4 \n\" style=\"fill:#f5f5f5;\"/>\n    <path clip-path=\"url(#pce2af521af)\" d=\"M 624.02 93.4 \nL 645.57 93.4 \nL 645.57 71.85 \nL 624.02 71.85 \nL 624.02 93.4 \n\" style=\"fill:#f5f5f5;\"/>\n    <path clip-path=\"url(#pce2af521af)\" d=\"M 645.57 93.4 \nL 667.12 93.4 \nL 667.12 71.85 \nL 645.57 71.85 \nL 645.57 93.4 \n\" style=\"fill:#f5f5f5;\"/>\n    <path clip-path=\"url(#pce2af521af)\" d=\"M 667.12 93.4 \nL 688.67 93.4 \nL 688.67 71.85 \nL 667.12 71.85 \nL 667.12 93.4 \n\" style=\"fill:#f5f5f5;\"/>\n    <path clip-path=\"url(#pce2af521af)\" d=\"M 688.67 93.4 \nL 710.22 93.4 \nL 710.22 71.85 \nL 688.67 71.85 \nL 688.67 93.4 \n\" style=\"fill:#f5f5f5;\"/>\n    <path clip-path=\"url(#pce2af521af)\" d=\"M 710.22 93.4 \nL 731.77 93.4 \nL 731.77 71.85 \nL 710.22 71.85 \nL 710.22 93.4 \n\" style=\"fill:#f5f5f5;\"/>\n    <path clip-path=\"url(#pce2af521af)\" d=\"M 731.77 93.4 \nL 753.32 93.4 \nL 753.32 71.85 \nL 731.77 71.85 \nL 731.77 93.4 \n\" style=\"fill:#f5f5f5;\"/>\n    <path clip-path=\"url(#pce2af521af)\" d=\"M 753.32 93.4 \nL 774.87 93.4 \nL 774.87 71.85 \nL 753.32 71.85 \nL 753.32 93.4 \n\" style=\"fill:#f5f5f5;\"/>\n    <path clip-path=\"url(#pce2af521af)\" d=\"M 774.87 93.4 \nL 796.42 93.4 \nL 796.42 71.85 \nL 774.87 71.85 \nL 774.87 93.4 \n\" style=\"fill:#f5f5f5;\"/>\n    <path clip-path=\"url(#pce2af521af)\" d=\"M 796.42 93.4 \nL 817.97 93.4 \nL 817.97 71.85 \nL 796.42 71.85 \nL 796.42 93.4 \n\" style=\"fill:#f5f5f5;\"/>\n    <path clip-path=\"url(#pce2af521af)\" d=\"M 817.97 93.4 \nL 839.52 93.4 \nL 839.52 71.85 \nL 817.97 71.85 \nL 817.97 93.4 \n\" style=\"fill:#f5f5f5;\"/>\n    <path clip-path=\"url(#pce2af521af)\" d=\"M 839.52 93.4 \nL 861.07 93.4 \nL 861.07 71.85 \nL 839.52 71.85 \nL 839.52 93.4 \n\" style=\"fill:#f5f5f5;\"/>\n    <path clip-path=\"url(#pce2af521af)\" d=\"M 861.07 93.4 \nL 882.62 93.4 \nL 882.62 71.85 \nL 861.07 71.85 \nL 861.07 93.4 \n\" style=\"fill:#f5f5f5;\"/>\n    <path clip-path=\"url(#pce2af521af)\" d=\"M 882.62 93.4 \nL 904.17 93.4 \nL 904.17 71.85 \nL 882.62 71.85 \nL 882.62 93.4 \n\" style=\"fill:#f5f5f5;\"/>\n    <path clip-path=\"url(#pce2af521af)\" d=\"M 904.17 93.4 \nL 925.72 93.4 \nL 925.72 71.85 \nL 904.17 71.85 \nL 904.17 93.4 \n\" style=\"fill:#f5f5f5;\"/>\n    <path clip-path=\"url(#pce2af521af)\" d=\"M 925.72 93.4 \nL 947.27 93.4 \nL 947.27 71.85 \nL 925.72 71.85 \nL 925.72 93.4 \n\" style=\"fill:#f5f5f5;\"/>\n    <path clip-path=\"url(#pce2af521af)\" d=\"M 947.27 93.4 \nL 968.82 93.4 \nL 968.82 71.85 \nL 947.27 71.85 \nL 947.27 93.4 \n\" style=\"fill:#f5f5f5;\"/>\n    <path clip-path=\"url(#pce2af521af)\" d=\"M 968.82 93.4 \nL 990.37 93.4 \nL 990.37 71.85 \nL 968.82 71.85 \nL 968.82 93.4 \n\" style=\"fill:#f5f5f5;\"/>\n    <path clip-path=\"url(#pce2af521af)\" d=\"M 990.37 93.4 \nL 1011.92 93.4 \nL 1011.92 71.85 \nL 990.37 71.85 \nL 990.37 93.4 \n\" style=\"fill:#f5f5f5;\"/>\n    <path clip-path=\"url(#pce2af521af)\" d=\"M 1011.92 93.4 \nL 1033.47 93.4 \nL 1033.47 71.85 \nL 1011.92 71.85 \nL 1011.92 93.4 \n\" style=\"fill:#f5f5f5;\"/>\n    <path clip-path=\"url(#pce2af521af)\" d=\"M 1033.47 93.4 \nL 1055.02 93.4 \nL 1055.02 71.85 \nL 1033.47 71.85 \nL 1033.47 93.4 \n\" style=\"fill:#f5f5f5;\"/>\n    <path clip-path=\"url(#pce2af521af)\" d=\"M 1055.02 93.4 \nL 1076.57 93.4 \nL 1076.57 71.85 \nL 1055.02 71.85 \nL 1055.02 93.4 \n\" style=\"fill:#f5f5f5;\"/>\n    <path clip-path=\"url(#pce2af521af)\" d=\"M 1076.57 93.4 \nL 1098.12 93.4 \nL 1098.12 71.85 \nL 1076.57 71.85 \nL 1076.57 93.4 \n\" style=\"fill:#f5f5f5;\"/>\n    <path clip-path=\"url(#pce2af521af)\" d=\"M 1098.12 93.4 \nL 1119.67 93.4 \nL 1119.67 71.85 \nL 1098.12 71.85 \nL 1098.12 93.4 \n\" style=\"fill:#f5f5f5;\"/>\n    <path clip-path=\"url(#pce2af521af)\" d=\"M 1119.67 93.4 \nL 1141.22 93.4 \nL 1141.22 71.85 \nL 1119.67 71.85 \nL 1119.67 93.4 \n\" style=\"fill:#f5f5f5;\"/>\n    <path clip-path=\"url(#pce2af521af)\" d=\"M 1141.22 93.4 \nL 1162.77 93.4 \nL 1162.77 71.85 \nL 1141.22 71.85 \nL 1141.22 93.4 \n\" style=\"fill:#f5f5f5;\"/>\n    <path clip-path=\"url(#pce2af521af)\" d=\"M 1162.77 93.4 \nL 1184.32 93.4 \nL 1184.32 71.85 \nL 1162.77 71.85 \nL 1162.77 93.4 \n\" style=\"fill:#f5f5f5;\"/>\n    <path clip-path=\"url(#pce2af521af)\" d=\"M 42.17 71.85 \nL 63.72 71.85 \nL 63.72 50.3 \nL 42.17 50.3 \nL 42.17 71.85 \n\" style=\"fill:#f5f5f5;\"/>\n    <path clip-path=\"url(#pce2af521af)\" d=\"M 63.72 71.85 \nL 85.27 71.85 \nL 85.27 50.3 \nL 63.72 50.3 \nL 63.72 71.85 \n\" style=\"fill:#f5f5f5;\"/>\n    <path clip-path=\"url(#pce2af521af)\" d=\"M 85.27 71.85 \nL 106.82 71.85 \nL 106.82 50.3 \nL 85.27 50.3 \nL 85.27 71.85 \n\" style=\"fill:#f5f5f5;\"/>\n    <path clip-path=\"url(#pce2af521af)\" d=\"M 106.82 71.85 \nL 128.37 71.85 \nL 128.37 50.3 \nL 106.82 50.3 \nL 106.82 71.85 \n\" style=\"fill:#f5f5f5;\"/>\n    <path clip-path=\"url(#pce2af521af)\" d=\"M 128.37 71.85 \nL 149.92 71.85 \nL 149.92 50.3 \nL 128.37 50.3 \nL 128.37 71.85 \n\" style=\"fill:#f5f5f5;\"/>\n    <path clip-path=\"url(#pce2af521af)\" d=\"M 149.92 71.85 \nL 171.47 71.85 \nL 171.47 50.3 \nL 149.92 50.3 \nL 149.92 71.85 \n\" style=\"fill:#f5f5f5;\"/>\n    <path clip-path=\"url(#pce2af521af)\" d=\"M 171.47 71.85 \nL 193.02 71.85 \nL 193.02 50.3 \nL 171.47 50.3 \nL 171.47 71.85 \n\" style=\"fill:#f5f5f5;\"/>\n    <path clip-path=\"url(#pce2af521af)\" d=\"M 193.02 71.85 \nL 214.57 71.85 \nL 214.57 50.3 \nL 193.02 50.3 \nL 193.02 71.85 \n\" style=\"fill:#f5f5f5;\"/>\n    <path clip-path=\"url(#pce2af521af)\" d=\"M 214.57 71.85 \nL 236.12 71.85 \nL 236.12 50.3 \nL 214.57 50.3 \nL 214.57 71.85 \n\" style=\"fill:#f5f5f5;\"/>\n    <path clip-path=\"url(#pce2af521af)\" d=\"M 236.12 71.85 \nL 257.67 71.85 \nL 257.67 50.3 \nL 236.12 50.3 \nL 236.12 71.85 \n\" style=\"fill:#f5f5f5;\"/>\n    <path clip-path=\"url(#pce2af521af)\" d=\"M 257.67 71.85 \nL 279.22 71.85 \nL 279.22 50.3 \nL 257.67 50.3 \nL 257.67 71.85 \n\" style=\"fill:#f5f5f5;\"/>\n    <path clip-path=\"url(#pce2af521af)\" d=\"M 279.22 71.85 \nL 300.77 71.85 \nL 300.77 50.3 \nL 279.22 50.3 \nL 279.22 71.85 \n\" style=\"fill:#f5f5f5;\"/>\n    <path clip-path=\"url(#pce2af521af)\" d=\"M 300.77 71.85 \nL 322.32 71.85 \nL 322.32 50.3 \nL 300.77 50.3 \nL 300.77 71.85 \n\" style=\"fill:#f5f5f5;\"/>\n    <path clip-path=\"url(#pce2af521af)\" d=\"M 322.32 71.85 \nL 343.87 71.85 \nL 343.87 50.3 \nL 322.32 50.3 \nL 322.32 71.85 \n\" style=\"fill:#f5f5f5;\"/>\n    <path clip-path=\"url(#pce2af521af)\" d=\"M 343.87 71.85 \nL 365.42 71.85 \nL 365.42 50.3 \nL 343.87 50.3 \nL 343.87 71.85 \n\" style=\"fill:#f5f5f5;\"/>\n    <path clip-path=\"url(#pce2af521af)\" d=\"M 365.42 71.85 \nL 386.97 71.85 \nL 386.97 50.3 \nL 365.42 50.3 \nL 365.42 71.85 \n\" style=\"fill:#f5f5f5;\"/>\n    <path clip-path=\"url(#pce2af521af)\" d=\"M 386.97 71.85 \nL 408.52 71.85 \nL 408.52 50.3 \nL 386.97 50.3 \nL 386.97 71.85 \n\" style=\"fill:#f5f5f5;\"/>\n    <path clip-path=\"url(#pce2af521af)\" d=\"M 408.52 71.85 \nL 430.07 71.85 \nL 430.07 50.3 \nL 408.52 50.3 \nL 408.52 71.85 \n\" style=\"fill:#f5f5f5;\"/>\n    <path clip-path=\"url(#pce2af521af)\" d=\"M 430.07 71.85 \nL 451.62 71.85 \nL 451.62 50.3 \nL 430.07 50.3 \nL 430.07 71.85 \n\" style=\"fill:#f5f5f5;\"/>\n    <path clip-path=\"url(#pce2af521af)\" d=\"M 451.62 71.85 \nL 473.17 71.85 \nL 473.17 50.3 \nL 451.62 50.3 \nL 451.62 71.85 \n\" style=\"fill:#f5f5f5;\"/>\n    <path clip-path=\"url(#pce2af521af)\" d=\"M 473.17 71.85 \nL 494.72 71.85 \nL 494.72 50.3 \nL 473.17 50.3 \nL 473.17 71.85 \n\" style=\"fill:#f5f5f5;\"/>\n    <path clip-path=\"url(#pce2af521af)\" d=\"M 494.72 71.85 \nL 516.27 71.85 \nL 516.27 50.3 \nL 494.72 50.3 \nL 494.72 71.85 \n\" style=\"fill:#f5f5f5;\"/>\n    <path clip-path=\"url(#pce2af521af)\" d=\"M 516.27 71.85 \nL 537.82 71.85 \nL 537.82 50.3 \nL 516.27 50.3 \nL 516.27 71.85 \n\" style=\"fill:#f5f5f5;\"/>\n    <path clip-path=\"url(#pce2af521af)\" d=\"M 537.82 71.85 \nL 559.37 71.85 \nL 559.37 50.3 \nL 537.82 50.3 \nL 537.82 71.85 \n\" style=\"fill:#f5f5f5;\"/>\n    <path clip-path=\"url(#pce2af521af)\" d=\"M 559.37 71.85 \nL 580.92 71.85 \nL 580.92 50.3 \nL 559.37 50.3 \nL 559.37 71.85 \n\" style=\"fill:#f5f5f5;\"/>\n    <path clip-path=\"url(#pce2af521af)\" d=\"M 580.92 71.85 \nL 602.47 71.85 \nL 602.47 50.3 \nL 580.92 50.3 \nL 580.92 71.85 \n\" style=\"fill:#f5f5f5;\"/>\n    <path clip-path=\"url(#pce2af521af)\" d=\"M 602.47 71.85 \nL 624.02 71.85 \nL 624.02 50.3 \nL 602.47 50.3 \nL 602.47 71.85 \n\" style=\"fill:#f5f5f5;\"/>\n    <path clip-path=\"url(#pce2af521af)\" d=\"M 624.02 71.85 \nL 645.57 71.85 \nL 645.57 50.3 \nL 624.02 50.3 \nL 624.02 71.85 \n\" style=\"fill:#f5f5f5;\"/>\n    <path clip-path=\"url(#pce2af521af)\" d=\"M 645.57 71.85 \nL 667.12 71.85 \nL 667.12 50.3 \nL 645.57 50.3 \nL 645.57 71.85 \n\" style=\"fill:#f5f5f5;\"/>\n    <path clip-path=\"url(#pce2af521af)\" d=\"M 667.12 71.85 \nL 688.67 71.85 \nL 688.67 50.3 \nL 667.12 50.3 \nL 667.12 71.85 \n\" style=\"fill:#f5f5f5;\"/>\n    <path clip-path=\"url(#pce2af521af)\" d=\"M 688.67 71.85 \nL 710.22 71.85 \nL 710.22 50.3 \nL 688.67 50.3 \nL 688.67 71.85 \n\" style=\"fill:#f5f5f5;\"/>\n    <path clip-path=\"url(#pce2af521af)\" d=\"M 710.22 71.85 \nL 731.77 71.85 \nL 731.77 50.3 \nL 710.22 50.3 \nL 710.22 71.85 \n\" style=\"fill:#f5f5f5;\"/>\n    <path clip-path=\"url(#pce2af521af)\" d=\"M 731.77 71.85 \nL 753.32 71.85 \nL 753.32 50.3 \nL 731.77 50.3 \nL 731.77 71.85 \n\" style=\"fill:#f5f5f5;\"/>\n    <path clip-path=\"url(#pce2af521af)\" d=\"M 753.32 71.85 \nL 774.87 71.85 \nL 774.87 50.3 \nL 753.32 50.3 \nL 753.32 71.85 \n\" style=\"fill:#f5f5f5;\"/>\n    <path clip-path=\"url(#pce2af521af)\" d=\"M 774.87 71.85 \nL 796.42 71.85 \nL 796.42 50.3 \nL 774.87 50.3 \nL 774.87 71.85 \n\" style=\"fill:#f5f5f5;\"/>\n    <path clip-path=\"url(#pce2af521af)\" d=\"M 796.42 71.85 \nL 817.97 71.85 \nL 817.97 50.3 \nL 796.42 50.3 \nL 796.42 71.85 \n\" style=\"fill:#f5f5f5;\"/>\n    <path clip-path=\"url(#pce2af521af)\" d=\"M 817.97 71.85 \nL 839.52 71.85 \nL 839.52 50.3 \nL 817.97 50.3 \nL 817.97 71.85 \n\" style=\"fill:#f5f5f5;\"/>\n    <path clip-path=\"url(#pce2af521af)\" d=\"M 839.52 71.85 \nL 861.07 71.85 \nL 861.07 50.3 \nL 839.52 50.3 \nL 839.52 71.85 \n\" style=\"fill:#f5f5f5;\"/>\n    <path clip-path=\"url(#pce2af521af)\" d=\"M 861.07 71.85 \nL 882.62 71.85 \nL 882.62 50.3 \nL 861.07 50.3 \nL 861.07 71.85 \n\" style=\"fill:#f5f5f5;\"/>\n    <path clip-path=\"url(#pce2af521af)\" d=\"M 882.62 71.85 \nL 904.17 71.85 \nL 904.17 50.3 \nL 882.62 50.3 \nL 882.62 71.85 \n\" style=\"fill:#f5f5f5;\"/>\n    <path clip-path=\"url(#pce2af521af)\" d=\"M 904.17 71.85 \nL 925.72 71.85 \nL 925.72 50.3 \nL 904.17 50.3 \nL 904.17 71.85 \n\" style=\"fill:#f5f5f5;\"/>\n    <path clip-path=\"url(#pce2af521af)\" d=\"M 925.72 71.85 \nL 947.27 71.85 \nL 947.27 50.3 \nL 925.72 50.3 \nL 925.72 71.85 \n\" style=\"fill:#f5f5f5;\"/>\n    <path clip-path=\"url(#pce2af521af)\" d=\"M 947.27 71.85 \nL 968.82 71.85 \nL 968.82 50.3 \nL 947.27 50.3 \nL 947.27 71.85 \n\" style=\"fill:#f5f5f5;\"/>\n    <path clip-path=\"url(#pce2af521af)\" d=\"M 968.82 71.85 \nL 990.37 71.85 \nL 990.37 50.3 \nL 968.82 50.3 \nL 968.82 71.85 \n\" style=\"fill:#f5f5f5;\"/>\n    <path clip-path=\"url(#pce2af521af)\" d=\"M 990.37 71.85 \nL 1011.92 71.85 \nL 1011.92 50.3 \nL 990.37 50.3 \nL 990.37 71.85 \n\" style=\"fill:#f5f5f5;\"/>\n    <path clip-path=\"url(#pce2af521af)\" d=\"M 1011.92 71.85 \nL 1033.47 71.85 \nL 1033.47 50.3 \nL 1011.92 50.3 \nL 1011.92 71.85 \n\" style=\"fill:#f5f5f5;\"/>\n    <path clip-path=\"url(#pce2af521af)\" d=\"M 1033.47 71.85 \nL 1055.02 71.85 \nL 1055.02 50.3 \nL 1033.47 50.3 \nL 1033.47 71.85 \n\" style=\"fill:#f5f5f5;\"/>\n    <path clip-path=\"url(#pce2af521af)\" d=\"M 1055.02 71.85 \nL 1076.57 71.85 \nL 1076.57 50.3 \nL 1055.02 50.3 \nL 1055.02 71.85 \n\" style=\"fill:#f5f5f5;\"/>\n    <path clip-path=\"url(#pce2af521af)\" d=\"M 1076.57 71.85 \nL 1098.12 71.85 \nL 1098.12 50.3 \nL 1076.57 50.3 \nL 1076.57 71.85 \n\" style=\"fill:#f5f5f5;\"/>\n    <path clip-path=\"url(#pce2af521af)\" d=\"M 1098.12 71.85 \nL 1119.67 71.85 \nL 1119.67 50.3 \nL 1098.12 50.3 \nL 1098.12 71.85 \n\" style=\"fill:#f5f5f5;\"/>\n    <path clip-path=\"url(#pce2af521af)\" d=\"M 1119.67 71.85 \nL 1141.22 71.85 \nL 1141.22 50.3 \nL 1119.67 50.3 \nL 1119.67 71.85 \n\" style=\"fill:#f5f5f5;\"/>\n    <path clip-path=\"url(#pce2af521af)\" d=\"M 1141.22 71.85 \nL 1162.77 71.85 \nL 1162.77 50.3 \nL 1141.22 50.3 \nL 1141.22 71.85 \n\" style=\"fill:#f5f5f5;\"/>\n    <path clip-path=\"url(#pce2af521af)\" d=\"M 1162.77 71.85 \nL 1184.32 71.85 \nL 1184.32 50.3 \nL 1162.77 50.3 \nL 1162.77 71.85 \n\" style=\"fill:#f5f5f5;\"/>\n    <path clip-path=\"url(#pce2af521af)\" d=\"M 42.17 50.3 \nL 63.72 50.3 \nL 63.72 28.75 \nL 42.17 28.75 \nL 42.17 50.3 \n\" style=\"fill:none;\"/>\n    <path clip-path=\"url(#pce2af521af)\" d=\"M 63.72 50.3 \nL 85.27 50.3 \nL 85.27 28.75 \nL 63.72 28.75 \nL 63.72 50.3 \n\" style=\"fill:#f5f5f5;\"/>\n    <path clip-path=\"url(#pce2af521af)\" d=\"M 85.27 50.3 \nL 106.82 50.3 \nL 106.82 28.75 \nL 85.27 28.75 \nL 85.27 50.3 \n\" style=\"fill:#f5f5f5;\"/>\n    <path clip-path=\"url(#pce2af521af)\" d=\"M 106.82 50.3 \nL 128.37 50.3 \nL 128.37 28.75 \nL 106.82 28.75 \nL 106.82 50.3 \n\" style=\"fill:#f5f5f5;\"/>\n    <path clip-path=\"url(#pce2af521af)\" d=\"M 128.37 50.3 \nL 149.92 50.3 \nL 149.92 28.75 \nL 128.37 28.75 \nL 128.37 50.3 \n\" style=\"fill:#f5f5f5;\"/>\n    <path clip-path=\"url(#pce2af521af)\" d=\"M 149.92 50.3 \nL 171.47 50.3 \nL 171.47 28.75 \nL 149.92 28.75 \nL 149.92 50.3 \n\" style=\"fill:#f5f5f5;\"/>\n    <path clip-path=\"url(#pce2af521af)\" d=\"M 171.47 50.3 \nL 193.02 50.3 \nL 193.02 28.75 \nL 171.47 28.75 \nL 171.47 50.3 \n\" style=\"fill:#f5f5f5;\"/>\n    <path clip-path=\"url(#pce2af521af)\" d=\"M 193.02 50.3 \nL 214.57 50.3 \nL 214.57 28.75 \nL 193.02 28.75 \nL 193.02 50.3 \n\" style=\"fill:#f5f5f5;\"/>\n    <path clip-path=\"url(#pce2af521af)\" d=\"M 214.57 50.3 \nL 236.12 50.3 \nL 236.12 28.75 \nL 214.57 28.75 \nL 214.57 50.3 \n\" style=\"fill:#f5f5f5;\"/>\n    <path clip-path=\"url(#pce2af521af)\" d=\"M 236.12 50.3 \nL 257.67 50.3 \nL 257.67 28.75 \nL 236.12 28.75 \nL 236.12 50.3 \n\" style=\"fill:#f5f5f5;\"/>\n    <path clip-path=\"url(#pce2af521af)\" d=\"M 257.67 50.3 \nL 279.22 50.3 \nL 279.22 28.75 \nL 257.67 28.75 \nL 257.67 50.3 \n\" style=\"fill:#f5f5f5;\"/>\n    <path clip-path=\"url(#pce2af521af)\" d=\"M 279.22 50.3 \nL 300.77 50.3 \nL 300.77 28.75 \nL 279.22 28.75 \nL 279.22 50.3 \n\" style=\"fill:#f5f5f5;\"/>\n    <path clip-path=\"url(#pce2af521af)\" d=\"M 300.77 50.3 \nL 322.32 50.3 \nL 322.32 28.75 \nL 300.77 28.75 \nL 300.77 50.3 \n\" style=\"fill:#f5f5f5;\"/>\n    <path clip-path=\"url(#pce2af521af)\" d=\"M 322.32 50.3 \nL 343.87 50.3 \nL 343.87 28.75 \nL 322.32 28.75 \nL 322.32 50.3 \n\" style=\"fill:#f5f5f5;\"/>\n    <path clip-path=\"url(#pce2af521af)\" d=\"M 343.87 50.3 \nL 365.42 50.3 \nL 365.42 28.75 \nL 343.87 28.75 \nL 343.87 50.3 \n\" style=\"fill:#f5f5f5;\"/>\n    <path clip-path=\"url(#pce2af521af)\" d=\"M 365.42 50.3 \nL 386.97 50.3 \nL 386.97 28.75 \nL 365.42 28.75 \nL 365.42 50.3 \n\" style=\"fill:#f5f5f5;\"/>\n    <path clip-path=\"url(#pce2af521af)\" d=\"M 386.97 50.3 \nL 408.52 50.3 \nL 408.52 28.75 \nL 386.97 28.75 \nL 386.97 50.3 \n\" style=\"fill:#f5f5f5;\"/>\n    <path clip-path=\"url(#pce2af521af)\" d=\"M 408.52 50.3 \nL 430.07 50.3 \nL 430.07 28.75 \nL 408.52 28.75 \nL 408.52 50.3 \n\" style=\"fill:#f5f5f5;\"/>\n    <path clip-path=\"url(#pce2af521af)\" d=\"M 430.07 50.3 \nL 451.62 50.3 \nL 451.62 28.75 \nL 430.07 28.75 \nL 430.07 50.3 \n\" style=\"fill:#f5f5f5;\"/>\n    <path clip-path=\"url(#pce2af521af)\" d=\"M 451.62 50.3 \nL 473.17 50.3 \nL 473.17 28.75 \nL 451.62 28.75 \nL 451.62 50.3 \n\" style=\"fill:#f5f5f5;\"/>\n    <path clip-path=\"url(#pce2af521af)\" d=\"M 473.17 50.3 \nL 494.72 50.3 \nL 494.72 28.75 \nL 473.17 28.75 \nL 473.17 50.3 \n\" style=\"fill:#f5f5f5;\"/>\n    <path clip-path=\"url(#pce2af521af)\" d=\"M 494.72 50.3 \nL 516.27 50.3 \nL 516.27 28.75 \nL 494.72 28.75 \nL 494.72 50.3 \n\" style=\"fill:#f5f5f5;\"/>\n    <path clip-path=\"url(#pce2af521af)\" d=\"M 516.27 50.3 \nL 537.82 50.3 \nL 537.82 28.75 \nL 516.27 28.75 \nL 516.27 50.3 \n\" style=\"fill:#f5f5f5;\"/>\n    <path clip-path=\"url(#pce2af521af)\" d=\"M 537.82 50.3 \nL 559.37 50.3 \nL 559.37 28.75 \nL 537.82 28.75 \nL 537.82 50.3 \n\" style=\"fill:#f5f5f5;\"/>\n    <path clip-path=\"url(#pce2af521af)\" d=\"M 559.37 50.3 \nL 580.92 50.3 \nL 580.92 28.75 \nL 559.37 28.75 \nL 559.37 50.3 \n\" style=\"fill:#f5f5f5;\"/>\n    <path clip-path=\"url(#pce2af521af)\" d=\"M 580.92 50.3 \nL 602.47 50.3 \nL 602.47 28.75 \nL 580.92 28.75 \nL 580.92 50.3 \n\" style=\"fill:#f5f5f5;\"/>\n    <path clip-path=\"url(#pce2af521af)\" d=\"M 602.47 50.3 \nL 624.02 50.3 \nL 624.02 28.75 \nL 602.47 28.75 \nL 602.47 50.3 \n\" style=\"fill:#f5f5f5;\"/>\n    <path clip-path=\"url(#pce2af521af)\" d=\"M 624.02 50.3 \nL 645.57 50.3 \nL 645.57 28.75 \nL 624.02 28.75 \nL 624.02 50.3 \n\" style=\"fill:#f5f5f5;\"/>\n    <path clip-path=\"url(#pce2af521af)\" d=\"M 645.57 50.3 \nL 667.12 50.3 \nL 667.12 28.75 \nL 645.57 28.75 \nL 645.57 50.3 \n\" style=\"fill:#f5f5f5;\"/>\n    <path clip-path=\"url(#pce2af521af)\" d=\"M 667.12 50.3 \nL 688.67 50.3 \nL 688.67 28.75 \nL 667.12 28.75 \nL 667.12 50.3 \n\" style=\"fill:#f5f5f5;\"/>\n    <path clip-path=\"url(#pce2af521af)\" d=\"M 688.67 50.3 \nL 710.22 50.3 \nL 710.22 28.75 \nL 688.67 28.75 \nL 688.67 50.3 \n\" style=\"fill:#f5f5f5;\"/>\n    <path clip-path=\"url(#pce2af521af)\" d=\"M 710.22 50.3 \nL 731.77 50.3 \nL 731.77 28.75 \nL 710.22 28.75 \nL 710.22 50.3 \n\" style=\"fill:#f5f5f5;\"/>\n    <path clip-path=\"url(#pce2af521af)\" d=\"M 731.77 50.3 \nL 753.32 50.3 \nL 753.32 28.75 \nL 731.77 28.75 \nL 731.77 50.3 \n\" style=\"fill:#f5f5f5;\"/>\n    <path clip-path=\"url(#pce2af521af)\" d=\"M 753.32 50.3 \nL 774.87 50.3 \nL 774.87 28.75 \nL 753.32 28.75 \nL 753.32 50.3 \n\" style=\"fill:#f5f5f5;\"/>\n    <path clip-path=\"url(#pce2af521af)\" d=\"M 774.87 50.3 \nL 796.42 50.3 \nL 796.42 28.75 \nL 774.87 28.75 \nL 774.87 50.3 \n\" style=\"fill:#f5f5f5;\"/>\n    <path clip-path=\"url(#pce2af521af)\" d=\"M 796.42 50.3 \nL 817.97 50.3 \nL 817.97 28.75 \nL 796.42 28.75 \nL 796.42 50.3 \n\" style=\"fill:#f5f5f5;\"/>\n    <path clip-path=\"url(#pce2af521af)\" d=\"M 817.97 50.3 \nL 839.52 50.3 \nL 839.52 28.75 \nL 817.97 28.75 \nL 817.97 50.3 \n\" style=\"fill:#f5f5f5;\"/>\n    <path clip-path=\"url(#pce2af521af)\" d=\"M 839.52 50.3 \nL 861.07 50.3 \nL 861.07 28.75 \nL 839.52 28.75 \nL 839.52 50.3 \n\" style=\"fill:#f5f5f5;\"/>\n    <path clip-path=\"url(#pce2af521af)\" d=\"M 861.07 50.3 \nL 882.62 50.3 \nL 882.62 28.75 \nL 861.07 28.75 \nL 861.07 50.3 \n\" style=\"fill:#f5f5f5;\"/>\n    <path clip-path=\"url(#pce2af521af)\" d=\"M 882.62 50.3 \nL 904.17 50.3 \nL 904.17 28.75 \nL 882.62 28.75 \nL 882.62 50.3 \n\" style=\"fill:#f5f5f5;\"/>\n    <path clip-path=\"url(#pce2af521af)\" d=\"M 904.17 50.3 \nL 925.72 50.3 \nL 925.72 28.75 \nL 904.17 28.75 \nL 904.17 50.3 \n\" style=\"fill:#f5f5f5;\"/>\n    <path clip-path=\"url(#pce2af521af)\" d=\"M 925.72 50.3 \nL 947.27 50.3 \nL 947.27 28.75 \nL 925.72 28.75 \nL 925.72 50.3 \n\" style=\"fill:#f5f5f5;\"/>\n    <path clip-path=\"url(#pce2af521af)\" d=\"M 947.27 50.3 \nL 968.82 50.3 \nL 968.82 28.75 \nL 947.27 28.75 \nL 947.27 50.3 \n\" style=\"fill:#f5f5f5;\"/>\n    <path clip-path=\"url(#pce2af521af)\" d=\"M 968.82 50.3 \nL 990.37 50.3 \nL 990.37 28.75 \nL 968.82 28.75 \nL 968.82 50.3 \n\" style=\"fill:#f5f5f5;\"/>\n    <path clip-path=\"url(#pce2af521af)\" d=\"M 990.37 50.3 \nL 1011.92 50.3 \nL 1011.92 28.75 \nL 990.37 28.75 \nL 990.37 50.3 \n\" style=\"fill:#f5f5f5;\"/>\n    <path clip-path=\"url(#pce2af521af)\" d=\"M 1011.92 50.3 \nL 1033.47 50.3 \nL 1033.47 28.75 \nL 1011.92 28.75 \nL 1011.92 50.3 \n\" style=\"fill:#f5f5f5;\"/>\n    <path clip-path=\"url(#pce2af521af)\" d=\"M 1033.47 50.3 \nL 1055.02 50.3 \nL 1055.02 28.75 \nL 1033.47 28.75 \nL 1033.47 50.3 \n\" style=\"fill:#f5f5f5;\"/>\n    <path clip-path=\"url(#pce2af521af)\" d=\"M 1055.02 50.3 \nL 1076.57 50.3 \nL 1076.57 28.75 \nL 1055.02 28.75 \nL 1055.02 50.3 \n\" style=\"fill:#f5f5f5;\"/>\n    <path clip-path=\"url(#pce2af521af)\" d=\"M 1076.57 50.3 \nL 1098.12 50.3 \nL 1098.12 28.75 \nL 1076.57 28.75 \nL 1076.57 50.3 \n\" style=\"fill:#f5f5f5;\"/>\n    <path clip-path=\"url(#pce2af521af)\" d=\"M 1098.12 50.3 \nL 1119.67 50.3 \nL 1119.67 28.75 \nL 1098.12 28.75 \nL 1098.12 50.3 \n\" style=\"fill:#f5f5f5;\"/>\n    <path clip-path=\"url(#pce2af521af)\" d=\"M 1119.67 50.3 \nL 1141.22 50.3 \nL 1141.22 28.75 \nL 1119.67 28.75 \nL 1119.67 50.3 \n\" style=\"fill:#f5f5f5;\"/>\n    <path clip-path=\"url(#pce2af521af)\" d=\"M 1141.22 50.3 \nL 1162.77 50.3 \nL 1162.77 28.75 \nL 1141.22 28.75 \nL 1141.22 50.3 \n\" style=\"fill:#f5f5f5;\"/>\n    <path clip-path=\"url(#pce2af521af)\" d=\"M 1162.77 50.3 \nL 1184.32 50.3 \nL 1184.32 28.75 \nL 1162.77 28.75 \nL 1162.77 50.3 \n\" style=\"fill:#f5f5f5;\"/>\n    <path clip-path=\"url(#pce2af521af)\" d=\"M 42.17 28.75 \nL 63.72 28.75 \nL 63.72 7.2 \nL 42.17 7.2 \nL 42.17 28.75 \n\" style=\"fill:none;\"/>\n    <path clip-path=\"url(#pce2af521af)\" d=\"M 63.72 28.75 \nL 85.27 28.75 \nL 85.27 7.2 \nL 63.72 7.2 \nL 63.72 28.75 \n\" style=\"fill:#f5f5f5;\"/>\n    <path clip-path=\"url(#pce2af521af)\" d=\"M 85.27 28.75 \nL 106.82 28.75 \nL 106.82 7.2 \nL 85.27 7.2 \nL 85.27 28.75 \n\" style=\"fill:#f5f5f5;\"/>\n    <path clip-path=\"url(#pce2af521af)\" d=\"M 106.82 28.75 \nL 128.37 28.75 \nL 128.37 7.2 \nL 106.82 7.2 \nL 106.82 28.75 \n\" style=\"fill:#f5f5f5;\"/>\n    <path clip-path=\"url(#pce2af521af)\" d=\"M 128.37 28.75 \nL 149.92 28.75 \nL 149.92 7.2 \nL 128.37 7.2 \nL 128.37 28.75 \n\" style=\"fill:#f5f5f5;\"/>\n    <path clip-path=\"url(#pce2af521af)\" d=\"M 149.92 28.75 \nL 171.47 28.75 \nL 171.47 7.2 \nL 149.92 7.2 \nL 149.92 28.75 \n\" style=\"fill:#f5f5f5;\"/>\n    <path clip-path=\"url(#pce2af521af)\" d=\"M 171.47 28.75 \nL 193.02 28.75 \nL 193.02 7.2 \nL 171.47 7.2 \nL 171.47 28.75 \n\" style=\"fill:#f5f5f5;\"/>\n    <path clip-path=\"url(#pce2af521af)\" d=\"M 193.02 28.75 \nL 214.57 28.75 \nL 214.57 7.2 \nL 193.02 7.2 \nL 193.02 28.75 \n\" style=\"fill:#f5f5f5;\"/>\n    <path clip-path=\"url(#pce2af521af)\" d=\"M 214.57 28.75 \nL 236.12 28.75 \nL 236.12 7.2 \nL 214.57 7.2 \nL 214.57 28.75 \n\" style=\"fill:#f5f5f5;\"/>\n    <path clip-path=\"url(#pce2af521af)\" d=\"M 236.12 28.75 \nL 257.67 28.75 \nL 257.67 7.2 \nL 236.12 7.2 \nL 236.12 28.75 \n\" style=\"fill:#f5f5f5;\"/>\n    <path clip-path=\"url(#pce2af521af)\" d=\"M 257.67 28.75 \nL 279.22 28.75 \nL 279.22 7.2 \nL 257.67 7.2 \nL 257.67 28.75 \n\" style=\"fill:#f5f5f5;\"/>\n    <path clip-path=\"url(#pce2af521af)\" d=\"M 279.22 28.75 \nL 300.77 28.75 \nL 300.77 7.2 \nL 279.22 7.2 \nL 279.22 28.75 \n\" style=\"fill:#f5f5f5;\"/>\n    <path clip-path=\"url(#pce2af521af)\" d=\"M 300.77 28.75 \nL 322.32 28.75 \nL 322.32 7.2 \nL 300.77 7.2 \nL 300.77 28.75 \n\" style=\"fill:#f5f5f5;\"/>\n    <path clip-path=\"url(#pce2af521af)\" d=\"M 322.32 28.75 \nL 343.87 28.75 \nL 343.87 7.2 \nL 322.32 7.2 \nL 322.32 28.75 \n\" style=\"fill:#f5f5f5;\"/>\n    <path clip-path=\"url(#pce2af521af)\" d=\"M 343.87 28.75 \nL 365.42 28.75 \nL 365.42 7.2 \nL 343.87 7.2 \nL 343.87 28.75 \n\" style=\"fill:#f5f5f5;\"/>\n    <path clip-path=\"url(#pce2af521af)\" d=\"M 365.42 28.75 \nL 386.97 28.75 \nL 386.97 7.2 \nL 365.42 7.2 \nL 365.42 28.75 \n\" style=\"fill:#f5f5f5;\"/>\n    <path clip-path=\"url(#pce2af521af)\" d=\"M 386.97 28.75 \nL 408.52 28.75 \nL 408.52 7.2 \nL 386.97 7.2 \nL 386.97 28.75 \n\" style=\"fill:#f5f5f5;\"/>\n    <path clip-path=\"url(#pce2af521af)\" d=\"M 408.52 28.75 \nL 430.07 28.75 \nL 430.07 7.2 \nL 408.52 7.2 \nL 408.52 28.75 \n\" style=\"fill:#f5f5f5;\"/>\n    <path clip-path=\"url(#pce2af521af)\" d=\"M 430.07 28.75 \nL 451.62 28.75 \nL 451.62 7.2 \nL 430.07 7.2 \nL 430.07 28.75 \n\" style=\"fill:#f5f5f5;\"/>\n    <path clip-path=\"url(#pce2af521af)\" d=\"M 451.62 28.75 \nL 473.17 28.75 \nL 473.17 7.2 \nL 451.62 7.2 \nL 451.62 28.75 \n\" style=\"fill:#f5f5f5;\"/>\n    <path clip-path=\"url(#pce2af521af)\" d=\"M 473.17 28.75 \nL 494.72 28.75 \nL 494.72 7.2 \nL 473.17 7.2 \nL 473.17 28.75 \n\" style=\"fill:#f5f5f5;\"/>\n    <path clip-path=\"url(#pce2af521af)\" d=\"M 494.72 28.75 \nL 516.27 28.75 \nL 516.27 7.2 \nL 494.72 7.2 \nL 494.72 28.75 \n\" style=\"fill:#f5f5f5;\"/>\n    <path clip-path=\"url(#pce2af521af)\" d=\"M 516.27 28.75 \nL 537.82 28.75 \nL 537.82 7.2 \nL 516.27 7.2 \nL 516.27 28.75 \n\" style=\"fill:#f5f5f5;\"/>\n    <path clip-path=\"url(#pce2af521af)\" d=\"M 537.82 28.75 \nL 559.37 28.75 \nL 559.37 7.2 \nL 537.82 7.2 \nL 537.82 28.75 \n\" style=\"fill:#f5f5f5;\"/>\n    <path clip-path=\"url(#pce2af521af)\" d=\"M 559.37 28.75 \nL 580.92 28.75 \nL 580.92 7.2 \nL 559.37 7.2 \nL 559.37 28.75 \n\" style=\"fill:#f5f5f5;\"/>\n    <path clip-path=\"url(#pce2af521af)\" d=\"M 580.92 28.75 \nL 602.47 28.75 \nL 602.47 7.2 \nL 580.92 7.2 \nL 580.92 28.75 \n\" style=\"fill:#f5f5f5;\"/>\n    <path clip-path=\"url(#pce2af521af)\" d=\"M 602.47 28.75 \nL 624.02 28.75 \nL 624.02 7.2 \nL 602.47 7.2 \nL 602.47 28.75 \n\" style=\"fill:#f5f5f5;\"/>\n    <path clip-path=\"url(#pce2af521af)\" d=\"M 624.02 28.75 \nL 645.57 28.75 \nL 645.57 7.2 \nL 624.02 7.2 \nL 624.02 28.75 \n\" style=\"fill:#f5f5f5;\"/>\n    <path clip-path=\"url(#pce2af521af)\" d=\"M 645.57 28.75 \nL 667.12 28.75 \nL 667.12 7.2 \nL 645.57 7.2 \nL 645.57 28.75 \n\" style=\"fill:#f5f5f5;\"/>\n    <path clip-path=\"url(#pce2af521af)\" d=\"M 667.12 28.75 \nL 688.67 28.75 \nL 688.67 7.2 \nL 667.12 7.2 \nL 667.12 28.75 \n\" style=\"fill:#f5f5f5;\"/>\n    <path clip-path=\"url(#pce2af521af)\" d=\"M 688.67 28.75 \nL 710.22 28.75 \nL 710.22 7.2 \nL 688.67 7.2 \nL 688.67 28.75 \n\" style=\"fill:#f5f5f5;\"/>\n    <path clip-path=\"url(#pce2af521af)\" d=\"M 710.22 28.75 \nL 731.77 28.75 \nL 731.77 7.2 \nL 710.22 7.2 \nL 710.22 28.75 \n\" style=\"fill:#f5f5f5;\"/>\n    <path clip-path=\"url(#pce2af521af)\" d=\"M 731.77 28.75 \nL 753.32 28.75 \nL 753.32 7.2 \nL 731.77 7.2 \nL 731.77 28.75 \n\" style=\"fill:#f5f5f5;\"/>\n    <path clip-path=\"url(#pce2af521af)\" d=\"M 753.32 28.75 \nL 774.87 28.75 \nL 774.87 7.2 \nL 753.32 7.2 \nL 753.32 28.75 \n\" style=\"fill:#f5f5f5;\"/>\n    <path clip-path=\"url(#pce2af521af)\" d=\"M 774.87 28.75 \nL 796.42 28.75 \nL 796.42 7.2 \nL 774.87 7.2 \nL 774.87 28.75 \n\" style=\"fill:#f5f5f5;\"/>\n    <path clip-path=\"url(#pce2af521af)\" d=\"M 796.42 28.75 \nL 817.97 28.75 \nL 817.97 7.2 \nL 796.42 7.2 \nL 796.42 28.75 \n\" style=\"fill:#f5f5f5;\"/>\n    <path clip-path=\"url(#pce2af521af)\" d=\"M 817.97 28.75 \nL 839.52 28.75 \nL 839.52 7.2 \nL 817.97 7.2 \nL 817.97 28.75 \n\" style=\"fill:#f5f5f5;\"/>\n    <path clip-path=\"url(#pce2af521af)\" d=\"M 839.52 28.75 \nL 861.07 28.75 \nL 861.07 7.2 \nL 839.52 7.2 \nL 839.52 28.75 \n\" style=\"fill:#f5f5f5;\"/>\n    <path clip-path=\"url(#pce2af521af)\" d=\"M 861.07 28.75 \nL 882.62 28.75 \nL 882.62 7.2 \nL 861.07 7.2 \nL 861.07 28.75 \n\" style=\"fill:#f5f5f5;\"/>\n    <path clip-path=\"url(#pce2af521af)\" d=\"M 882.62 28.75 \nL 904.17 28.75 \nL 904.17 7.2 \nL 882.62 7.2 \nL 882.62 28.75 \n\" style=\"fill:#f5f5f5;\"/>\n    <path clip-path=\"url(#pce2af521af)\" d=\"M 904.17 28.75 \nL 925.72 28.75 \nL 925.72 7.2 \nL 904.17 7.2 \nL 904.17 28.75 \n\" style=\"fill:#f5f5f5;\"/>\n    <path clip-path=\"url(#pce2af521af)\" d=\"M 925.72 28.75 \nL 947.27 28.75 \nL 947.27 7.2 \nL 925.72 7.2 \nL 925.72 28.75 \n\" style=\"fill:#f5f5f5;\"/>\n    <path clip-path=\"url(#pce2af521af)\" d=\"M 947.27 28.75 \nL 968.82 28.75 \nL 968.82 7.2 \nL 947.27 7.2 \nL 947.27 28.75 \n\" style=\"fill:#f5f5f5;\"/>\n    <path clip-path=\"url(#pce2af521af)\" d=\"M 968.82 28.75 \nL 990.37 28.75 \nL 990.37 7.2 \nL 968.82 7.2 \nL 968.82 28.75 \n\" style=\"fill:#f5f5f5;\"/>\n    <path clip-path=\"url(#pce2af521af)\" d=\"M 990.37 28.75 \nL 1011.92 28.75 \nL 1011.92 7.2 \nL 990.37 7.2 \nL 990.37 28.75 \n\" style=\"fill:#f5f5f5;\"/>\n    <path clip-path=\"url(#pce2af521af)\" d=\"M 1011.92 28.75 \nL 1033.47 28.75 \nL 1033.47 7.2 \nL 1011.92 7.2 \nL 1011.92 28.75 \n\" style=\"fill:#f5f5f5;\"/>\n    <path clip-path=\"url(#pce2af521af)\" d=\"M 1033.47 28.75 \nL 1055.02 28.75 \nL 1055.02 7.2 \nL 1033.47 7.2 \nL 1033.47 28.75 \n\" style=\"fill:#f5f5f5;\"/>\n    <path clip-path=\"url(#pce2af521af)\" d=\"M 1055.02 28.75 \nL 1076.57 28.75 \nL 1076.57 7.2 \nL 1055.02 7.2 \nL 1055.02 28.75 \n\" style=\"fill:#f5f5f5;\"/>\n    <path clip-path=\"url(#pce2af521af)\" d=\"M 1076.57 28.75 \nL 1098.12 28.75 \nL 1098.12 7.2 \nL 1076.57 7.2 \nL 1076.57 28.75 \n\" style=\"fill:#f5f5f5;\"/>\n    <path clip-path=\"url(#pce2af521af)\" d=\"M 1098.12 28.75 \nL 1119.67 28.75 \nL 1119.67 7.2 \nL 1098.12 7.2 \nL 1098.12 28.75 \n\" style=\"fill:#f5f5f5;\"/>\n    <path clip-path=\"url(#pce2af521af)\" d=\"M 1119.67 28.75 \nL 1141.22 28.75 \nL 1141.22 7.2 \nL 1119.67 7.2 \nL 1119.67 28.75 \n\" style=\"fill:#f5f5f5;\"/>\n    <path clip-path=\"url(#pce2af521af)\" d=\"M 1141.22 28.75 \nL 1162.77 28.75 \nL 1162.77 7.2 \nL 1141.22 7.2 \nL 1141.22 28.75 \n\" style=\"fill:#f5f5f5;\"/>\n    <path clip-path=\"url(#pce2af521af)\" d=\"M 1162.77 28.75 \nL 1184.32 28.75 \nL 1184.32 7.2 \nL 1162.77 7.2 \nL 1162.77 28.75 \n\" style=\"fill:#f5f5f5;\"/>\n   </g>\n   <g id=\"QuadMesh_2\">\n    <path clip-path=\"url(#pce2af521af)\" d=\"M 42.17 158.05 \nL 63.72 158.05 \nL 63.72 136.5 \nL 42.17 136.5 \nL 42.17 158.05 \n\" style=\"fill:#c6e9b4;\"/>\n    <path clip-path=\"url(#pce2af521af)\" d=\"M 63.72 158.05 \nL 85.27 158.05 \nL 85.27 136.5 \nL 63.72 136.5 \nL 63.72 158.05 \n\" style=\"fill:#8cd2ba;\"/>\n    <path clip-path=\"url(#pce2af521af)\" d=\"M 85.27 158.05 \nL 106.82 158.05 \nL 106.82 136.5 \nL 85.27 136.5 \nL 85.27 158.05 \n\" style=\"fill:#69c5be;\"/>\n    <path clip-path=\"url(#pce2af521af)\" d=\"M 106.82 158.05 \nL 128.37 158.05 \nL 128.37 136.5 \nL 106.82 136.5 \nL 106.82 158.05 \n\" style=\"fill:#cdebb4;\"/>\n    <path clip-path=\"url(#pce2af521af)\" d=\"M 128.37 158.05 \nL 149.92 158.05 \nL 149.92 136.5 \nL 128.37 136.5 \nL 128.37 158.05 \n\" style=\"fill:#081d58;\"/>\n    <path clip-path=\"url(#pce2af521af)\" d=\"M 149.92 158.05 \nL 171.47 158.05 \nL 171.47 136.5 \nL 149.92 136.5 \nL 149.92 158.05 \n\" style=\"fill:#1f78b4;\"/>\n    <path clip-path=\"url(#pce2af521af)\" d=\"M 171.47 158.05 \nL 193.02 158.05 \nL 193.02 136.5 \nL 171.47 136.5 \nL 171.47 158.05 \n\" style=\"fill:#73c8bd;\"/>\n    <path clip-path=\"url(#pce2af521af)\" d=\"M 193.02 158.05 \nL 214.57 158.05 \nL 214.57 136.5 \nL 193.02 136.5 \nL 193.02 158.05 \n\" style=\"fill:#f2fabc;\"/>\n    <path clip-path=\"url(#pce2af521af)\" d=\"M 214.57 158.05 \nL 236.12 158.05 \nL 236.12 136.5 \nL 214.57 136.5 \nL 214.57 158.05 \n\" style=\"fill:#9ed9b8;\"/>\n    <path clip-path=\"url(#pce2af521af)\" d=\"M 236.12 158.05 \nL 257.67 158.05 \nL 257.67 136.5 \nL 236.12 136.5 \nL 236.12 158.05 \n\" style=\"fill:#cbebb4;\"/>\n    <path clip-path=\"url(#pce2af521af)\" d=\"M 257.67 158.05 \nL 279.22 158.05 \nL 279.22 136.5 \nL 257.67 136.5 \nL 257.67 158.05 \n\" style=\"fill:#f1faba;\"/>\n    <path clip-path=\"url(#pce2af521af)\" d=\"M 279.22 158.05 \nL 300.77 158.05 \nL 300.77 136.5 \nL 279.22 136.5 \nL 279.22 158.05 \n\" style=\"fill:#a2dbb8;\"/>\n    <path clip-path=\"url(#pce2af521af)\" d=\"M 300.77 158.05 \nL 322.32 158.05 \nL 322.32 136.5 \nL 300.77 136.5 \nL 300.77 158.05 \n\" style=\"fill:#e0f3b2;\"/>\n    <path clip-path=\"url(#pce2af521af)\" d=\"M 322.32 158.05 \nL 343.87 158.05 \nL 343.87 136.5 \nL 322.32 136.5 \nL 322.32 158.05 \n\" style=\"fill:#73c8bd;\"/>\n    <path clip-path=\"url(#pce2af521af)\" d=\"M 343.87 158.05 \nL 365.42 158.05 \nL 365.42 136.5 \nL 343.87 136.5 \nL 343.87 158.05 \n\" style=\"fill:#8cd2ba;\"/>\n    <path clip-path=\"url(#pce2af521af)\" d=\"M 365.42 158.05 \nL 386.97 158.05 \nL 386.97 136.5 \nL 365.42 136.5 \nL 365.42 158.05 \n\" style=\"fill:#d6efb3;\"/>\n    <path clip-path=\"url(#pce2af521af)\" d=\"M 386.97 158.05 \nL 408.52 158.05 \nL 408.52 136.5 \nL 386.97 136.5 \nL 386.97 158.05 \n\" style=\"fill:#e1f3b2;\"/>\n    <path clip-path=\"url(#pce2af521af)\" d=\"M 408.52 158.05 \nL 430.07 158.05 \nL 430.07 136.5 \nL 408.52 136.5 \nL 408.52 158.05 \n\" style=\"fill:#b2e1b6;\"/>\n    <path clip-path=\"url(#pce2af521af)\" d=\"M 430.07 158.05 \nL 451.62 158.05 \nL 451.62 136.5 \nL 430.07 136.5 \nL 430.07 158.05 \n\" style=\"fill:#90d4b9;\"/>\n    <path clip-path=\"url(#pce2af521af)\" d=\"M 451.62 158.05 \nL 473.17 158.05 \nL 473.17 136.5 \nL 451.62 136.5 \nL 451.62 158.05 \n\" style=\"fill:#e1f3b2;\"/>\n    <path clip-path=\"url(#pce2af521af)\" d=\"M 473.17 158.05 \nL 494.72 158.05 \nL 494.72 136.5 \nL 473.17 136.5 \nL 473.17 158.05 \n\" style=\"fill:#e3f4b2;\"/>\n    <path clip-path=\"url(#pce2af521af)\" d=\"M 494.72 158.05 \nL 516.27 158.05 \nL 516.27 136.5 \nL 494.72 136.5 \nL 494.72 158.05 \n\" style=\"fill:#89d1ba;\"/>\n    <path clip-path=\"url(#pce2af521af)\" d=\"M 516.27 158.05 \nL 537.82 158.05 \nL 537.82 136.5 \nL 516.27 136.5 \nL 516.27 158.05 \n\" style=\"fill:#edf8b1;\"/>\n    <path clip-path=\"url(#pce2af521af)\" d=\"M 537.82 158.05 \nL 559.37 158.05 \nL 559.37 136.5 \nL 537.82 136.5 \nL 537.82 158.05 \n\" style=\"fill:#f1fabb;\"/>\n    <path clip-path=\"url(#pce2af521af)\" d=\"M 559.37 158.05 \nL 580.92 158.05 \nL 580.92 136.5 \nL 559.37 136.5 \nL 559.37 158.05 \n\" style=\"fill:#f2fabc;\"/>\n    <path clip-path=\"url(#pce2af521af)\" d=\"M 580.92 158.05 \nL 602.47 158.05 \nL 602.47 136.5 \nL 580.92 136.5 \nL 580.92 158.05 \n\" style=\"fill:#f7fcc7;\"/>\n    <path clip-path=\"url(#pce2af521af)\" d=\"M 602.47 158.05 \nL 624.02 158.05 \nL 624.02 136.5 \nL 602.47 136.5 \nL 602.47 158.05 \n\" style=\"fill:#eef8b3;\"/>\n    <path clip-path=\"url(#pce2af521af)\" d=\"M 624.02 158.05 \nL 645.57 158.05 \nL 645.57 136.5 \nL 624.02 136.5 \nL 624.02 158.05 \n\" style=\"fill:#d9f0b3;\"/>\n    <path clip-path=\"url(#pce2af521af)\" d=\"M 645.57 158.05 \nL 667.12 158.05 \nL 667.12 136.5 \nL 645.57 136.5 \nL 645.57 158.05 \n\" style=\"fill:#f4fbc0;\"/>\n    <path clip-path=\"url(#pce2af521af)\" d=\"M 667.12 158.05 \nL 688.67 158.05 \nL 688.67 136.5 \nL 667.12 136.5 \nL 667.12 158.05 \n\" style=\"fill:#92d5b9;\"/>\n    <path clip-path=\"url(#pce2af521af)\" d=\"M 688.67 158.05 \nL 710.22 158.05 \nL 710.22 136.5 \nL 688.67 136.5 \nL 688.67 158.05 \n\" style=\"fill:#daf0b3;\"/>\n    <path clip-path=\"url(#pce2af521af)\" d=\"M 710.22 158.05 \nL 731.77 158.05 \nL 731.77 136.5 \nL 710.22 136.5 \nL 710.22 158.05 \n\" style=\"fill:#c9eab4;\"/>\n    <path clip-path=\"url(#pce2af521af)\" d=\"M 731.77 158.05 \nL 753.32 158.05 \nL 753.32 136.5 \nL 731.77 136.5 \nL 731.77 158.05 \n\" style=\"fill:#e2f4b2;\"/>\n    <path clip-path=\"url(#pce2af521af)\" d=\"M 753.32 158.05 \nL 774.87 158.05 \nL 774.87 136.5 \nL 753.32 136.5 \nL 753.32 158.05 \n\" style=\"fill:#d9f0b3;\"/>\n    <path clip-path=\"url(#pce2af521af)\" d=\"M 774.87 158.05 \nL 796.42 158.05 \nL 796.42 136.5 \nL 774.87 136.5 \nL 774.87 158.05 \n\" style=\"fill:#edf8b1;\"/>\n    <path clip-path=\"url(#pce2af521af)\" d=\"M 796.42 158.05 \nL 817.97 158.05 \nL 817.97 136.5 \nL 796.42 136.5 \nL 796.42 158.05 \n\" style=\"fill:#fcfed3;\"/>\n    <path clip-path=\"url(#pce2af521af)\" d=\"M 817.97 158.05 \nL 839.52 158.05 \nL 839.52 136.5 \nL 817.97 136.5 \nL 817.97 158.05 \n\" style=\"fill:#61c2bf;\"/>\n    <path clip-path=\"url(#pce2af521af)\" d=\"M 839.52 158.05 \nL 861.07 158.05 \nL 861.07 136.5 \nL 839.52 136.5 \nL 839.52 158.05 \n\" style=\"fill:#ddf2b2;\"/>\n    <path clip-path=\"url(#pce2af521af)\" d=\"M 861.07 158.05 \nL 882.62 158.05 \nL 882.62 136.5 \nL 861.07 136.5 \nL 861.07 158.05 \n\" style=\"fill:#ddf2b2;\"/>\n    <path clip-path=\"url(#pce2af521af)\" d=\"M 882.62 158.05 \nL 904.17 158.05 \nL 904.17 136.5 \nL 882.62 136.5 \nL 882.62 158.05 \n\" style=\"fill:#fafdce;\"/>\n    <path clip-path=\"url(#pce2af521af)\" d=\"M 904.17 158.05 \nL 925.72 158.05 \nL 925.72 136.5 \nL 904.17 136.5 \nL 904.17 158.05 \n\" style=\"fill:#e0f3b2;\"/>\n    <path clip-path=\"url(#pce2af521af)\" d=\"M 925.72 158.05 \nL 947.27 158.05 \nL 947.27 136.5 \nL 925.72 136.5 \nL 925.72 158.05 \n\" style=\"fill:#e5f5b2;\"/>\n    <path clip-path=\"url(#pce2af521af)\" d=\"M 947.27 158.05 \nL 968.82 158.05 \nL 968.82 136.5 \nL 947.27 136.5 \nL 947.27 158.05 \n\" style=\"fill:#87d0ba;\"/>\n    <path clip-path=\"url(#pce2af521af)\" d=\"M 968.82 158.05 \nL 990.37 158.05 \nL 990.37 136.5 \nL 968.82 136.5 \nL 968.82 158.05 \n\" style=\"fill:#c6e9b4;\"/>\n    <path clip-path=\"url(#pce2af521af)\" d=\"M 990.37 158.05 \nL 1011.92 158.05 \nL 1011.92 136.5 \nL 990.37 136.5 \nL 990.37 158.05 \n\" style=\"fill:#3aaec3;\"/>\n    <path clip-path=\"url(#pce2af521af)\" d=\"M 1011.92 158.05 \nL 1033.47 158.05 \nL 1033.47 136.5 \nL 1011.92 136.5 \nL 1011.92 158.05 \n\" style=\"fill:#cdebb4;\"/>\n    <path clip-path=\"url(#pce2af521af)\" d=\"M 1033.47 158.05 \nL 1055.02 158.05 \nL 1055.02 136.5 \nL 1033.47 136.5 \nL 1033.47 158.05 \n\" style=\"fill:#f8fcca;\"/>\n    <path clip-path=\"url(#pce2af521af)\" d=\"M 1055.02 158.05 \nL 1076.57 158.05 \nL 1076.57 136.5 \nL 1055.02 136.5 \nL 1055.02 158.05 \n\" style=\"fill:#b7e3b6;\"/>\n    <path clip-path=\"url(#pce2af521af)\" d=\"M 1076.57 158.05 \nL 1098.12 158.05 \nL 1098.12 136.5 \nL 1076.57 136.5 \nL 1076.57 158.05 \n\" style=\"fill:#85cfba;\"/>\n    <path clip-path=\"url(#pce2af521af)\" d=\"M 1098.12 158.05 \nL 1119.67 158.05 \nL 1119.67 136.5 \nL 1098.12 136.5 \nL 1098.12 158.05 \n\" style=\"fill:#f6fbc5;\"/>\n    <path clip-path=\"url(#pce2af521af)\" d=\"M 1119.67 158.05 \nL 1141.22 158.05 \nL 1141.22 136.5 \nL 1119.67 136.5 \nL 1119.67 158.05 \n\" style=\"fill:none;\"/>\n    <path clip-path=\"url(#pce2af521af)\" d=\"M 1141.22 158.05 \nL 1162.77 158.05 \nL 1162.77 136.5 \nL 1141.22 136.5 \nL 1141.22 158.05 \n\" style=\"fill:none;\"/>\n    <path clip-path=\"url(#pce2af521af)\" d=\"M 1162.77 158.05 \nL 1184.32 158.05 \nL 1184.32 136.5 \nL 1162.77 136.5 \nL 1162.77 158.05 \n\" style=\"fill:none;\"/>\n    <path clip-path=\"url(#pce2af521af)\" d=\"M 42.17 136.5 \nL 63.72 136.5 \nL 63.72 114.95 \nL 42.17 114.95 \nL 42.17 136.5 \n\" style=\"fill:#a0dab8;\"/>\n    <path clip-path=\"url(#pce2af521af)\" d=\"M 63.72 136.5 \nL 85.27 136.5 \nL 85.27 114.95 \nL 63.72 114.95 \nL 63.72 136.5 \n\" style=\"fill:#c8e9b4;\"/>\n    <path clip-path=\"url(#pce2af521af)\" d=\"M 85.27 136.5 \nL 106.82 136.5 \nL 106.82 114.95 \nL 85.27 114.95 \nL 85.27 136.5 \n\" style=\"fill:#55bec1;\"/>\n    <path clip-path=\"url(#pce2af521af)\" d=\"M 106.82 136.5 \nL 128.37 136.5 \nL 128.37 114.95 \nL 106.82 114.95 \nL 106.82 136.5 \n\" style=\"fill:#a5dcb7;\"/>\n    <path clip-path=\"url(#pce2af521af)\" d=\"M 128.37 136.5 \nL 149.92 136.5 \nL 149.92 114.95 \nL 128.37 114.95 \nL 128.37 136.5 \n\" style=\"fill:#d7efb3;\"/>\n    <path clip-path=\"url(#pce2af521af)\" d=\"M 149.92 136.5 \nL 171.47 136.5 \nL 171.47 114.95 \nL 149.92 114.95 \nL 149.92 136.5 \n\" style=\"fill:#8ed3ba;\"/>\n    <path clip-path=\"url(#pce2af521af)\" d=\"M 171.47 136.5 \nL 193.02 136.5 \nL 193.02 114.95 \nL 171.47 114.95 \nL 171.47 136.5 \n\" style=\"fill:#5dc0c0;\"/>\n    <path clip-path=\"url(#pce2af521af)\" d=\"M 193.02 136.5 \nL 214.57 136.5 \nL 214.57 114.95 \nL 193.02 114.95 \nL 193.02 136.5 \n\" style=\"fill:#d4eeb3;\"/>\n    <path clip-path=\"url(#pce2af521af)\" d=\"M 214.57 136.5 \nL 236.12 136.5 \nL 236.12 114.95 \nL 214.57 114.95 \nL 214.57 136.5 \n\" style=\"fill:#83cebb;\"/>\n    <path clip-path=\"url(#pce2af521af)\" d=\"M 236.12 136.5 \nL 257.67 136.5 \nL 257.67 114.95 \nL 236.12 114.95 \nL 236.12 136.5 \n\" style=\"fill:#b7e3b6;\"/>\n    <path clip-path=\"url(#pce2af521af)\" d=\"M 257.67 136.5 \nL 279.22 136.5 \nL 279.22 114.95 \nL 257.67 114.95 \nL 257.67 136.5 \n\" style=\"fill:#ddf2b2;\"/>\n    <path clip-path=\"url(#pce2af521af)\" d=\"M 279.22 136.5 \nL 300.77 136.5 \nL 300.77 114.95 \nL 279.22 114.95 \nL 279.22 136.5 \n\" style=\"fill:#eaf7b1;\"/>\n    <path clip-path=\"url(#pce2af521af)\" d=\"M 300.77 136.5 \nL 322.32 136.5 \nL 322.32 114.95 \nL 300.77 114.95 \nL 300.77 136.5 \n\" style=\"fill:#f3fabf;\"/>\n    <path clip-path=\"url(#pce2af521af)\" d=\"M 322.32 136.5 \nL 343.87 136.5 \nL 343.87 114.95 \nL 322.32 114.95 \nL 322.32 136.5 \n\" style=\"fill:#ceecb3;\"/>\n    <path clip-path=\"url(#pce2af521af)\" d=\"M 343.87 136.5 \nL 365.42 136.5 \nL 365.42 114.95 \nL 343.87 114.95 \nL 343.87 136.5 \n\" style=\"fill:#d4eeb3;\"/>\n    <path clip-path=\"url(#pce2af521af)\" d=\"M 365.42 136.5 \nL 386.97 136.5 \nL 386.97 114.95 \nL 365.42 114.95 \nL 365.42 136.5 \n\" style=\"fill:#cfecb3;\"/>\n    <path clip-path=\"url(#pce2af521af)\" d=\"M 386.97 136.5 \nL 408.52 136.5 \nL 408.52 114.95 \nL 386.97 114.95 \nL 386.97 136.5 \n\" style=\"fill:#c4e8b4;\"/>\n    <path clip-path=\"url(#pce2af521af)\" d=\"M 408.52 136.5 \nL 430.07 136.5 \nL 430.07 114.95 \nL 408.52 114.95 \nL 408.52 136.5 \n\" style=\"fill:#7ecdbb;\"/>\n    <path clip-path=\"url(#pce2af521af)\" d=\"M 430.07 136.5 \nL 451.62 136.5 \nL 451.62 114.95 \nL 430.07 114.95 \nL 430.07 136.5 \n\" style=\"fill:#7ecdbb;\"/>\n    <path clip-path=\"url(#pce2af521af)\" d=\"M 451.62 136.5 \nL 473.17 136.5 \nL 473.17 114.95 \nL 451.62 114.95 \nL 451.62 136.5 \n\" style=\"fill:#5fc1c0;\"/>\n    <path clip-path=\"url(#pce2af521af)\" d=\"M 473.17 136.5 \nL 494.72 136.5 \nL 494.72 114.95 \nL 473.17 114.95 \nL 473.17 136.5 \n\" style=\"fill:#daf0b3;\"/>\n    <path clip-path=\"url(#pce2af521af)\" d=\"M 494.72 136.5 \nL 516.27 136.5 \nL 516.27 114.95 \nL 494.72 114.95 \nL 494.72 136.5 \n\" style=\"fill:#cfecb3;\"/>\n    <path clip-path=\"url(#pce2af521af)\" d=\"M 516.27 136.5 \nL 537.82 136.5 \nL 537.82 114.95 \nL 516.27 114.95 \nL 516.27 136.5 \n\" style=\"fill:#e1f3b2;\"/>\n    <path clip-path=\"url(#pce2af521af)\" d=\"M 537.82 136.5 \nL 559.37 136.5 \nL 559.37 114.95 \nL 537.82 114.95 \nL 537.82 136.5 \n\" style=\"fill:#eff9b6;\"/>\n    <path clip-path=\"url(#pce2af521af)\" d=\"M 559.37 136.5 \nL 580.92 136.5 \nL 580.92 114.95 \nL 559.37 114.95 \nL 559.37 136.5 \n\" style=\"fill:#f0f9b8;\"/>\n    <path clip-path=\"url(#pce2af521af)\" d=\"M 580.92 136.5 \nL 602.47 136.5 \nL 602.47 114.95 \nL 580.92 114.95 \nL 580.92 136.5 \n\" style=\"fill:#b7e3b6;\"/>\n    <path clip-path=\"url(#pce2af521af)\" d=\"M 602.47 136.5 \nL 624.02 136.5 \nL 624.02 114.95 \nL 602.47 114.95 \nL 602.47 136.5 \n\" style=\"fill:#89d1ba;\"/>\n    <path clip-path=\"url(#pce2af521af)\" d=\"M 624.02 136.5 \nL 645.57 136.5 \nL 645.57 114.95 \nL 624.02 114.95 \nL 624.02 136.5 \n\" style=\"fill:#d1edb3;\"/>\n    <path clip-path=\"url(#pce2af521af)\" d=\"M 645.57 136.5 \nL 667.12 136.5 \nL 667.12 114.95 \nL 645.57 114.95 \nL 645.57 136.5 \n\" style=\"fill:#eff9b6;\"/>\n    <path clip-path=\"url(#pce2af521af)\" d=\"M 667.12 136.5 \nL 688.67 136.5 \nL 688.67 114.95 \nL 667.12 114.95 \nL 667.12 136.5 \n\" style=\"fill:#e3f4b2;\"/>\n    <path clip-path=\"url(#pce2af521af)\" d=\"M 688.67 136.5 \nL 710.22 136.5 \nL 710.22 114.95 \nL 688.67 114.95 \nL 688.67 136.5 \n\" style=\"fill:#ddf2b2;\"/>\n    <path clip-path=\"url(#pce2af521af)\" d=\"M 710.22 136.5 \nL 731.77 136.5 \nL 731.77 114.95 \nL 710.22 114.95 \nL 710.22 136.5 \n\" style=\"fill:#e2f4b2;\"/>\n    <path clip-path=\"url(#pce2af521af)\" d=\"M 731.77 136.5 \nL 753.32 136.5 \nL 753.32 114.95 \nL 731.77 114.95 \nL 731.77 136.5 \n\" style=\"fill:#46b8c3;\"/>\n    <path clip-path=\"url(#pce2af521af)\" d=\"M 753.32 136.5 \nL 774.87 136.5 \nL 774.87 114.95 \nL 753.32 114.95 \nL 753.32 136.5 \n\" style=\"fill:#a0dab8;\"/>\n    <path clip-path=\"url(#pce2af521af)\" d=\"M 774.87 136.5 \nL 796.42 136.5 \nL 796.42 114.95 \nL 774.87 114.95 \nL 774.87 136.5 \n\" style=\"fill:#c6e9b4;\"/>\n    <path clip-path=\"url(#pce2af521af)\" d=\"M 796.42 136.5 \nL 817.97 136.5 \nL 817.97 114.95 \nL 796.42 114.95 \nL 796.42 136.5 \n\" style=\"fill:#e3f4b2;\"/>\n    <path clip-path=\"url(#pce2af521af)\" d=\"M 817.97 136.5 \nL 839.52 136.5 \nL 839.52 114.95 \nL 817.97 114.95 \nL 817.97 136.5 \n\" style=\"fill:#a7dcb7;\"/>\n    <path clip-path=\"url(#pce2af521af)\" d=\"M 839.52 136.5 \nL 861.07 136.5 \nL 861.07 114.95 \nL 839.52 114.95 \nL 839.52 136.5 \n\" style=\"fill:#e2f4b2;\"/>\n    <path clip-path=\"url(#pce2af521af)\" d=\"M 861.07 136.5 \nL 882.62 136.5 \nL 882.62 114.95 \nL 861.07 114.95 \nL 861.07 136.5 \n\" style=\"fill:#b2e1b6;\"/>\n    <path clip-path=\"url(#pce2af521af)\" d=\"M 882.62 136.5 \nL 904.17 136.5 \nL 904.17 114.95 \nL 882.62 114.95 \nL 882.62 136.5 \n\" style=\"fill:#cfecb3;\"/>\n    <path clip-path=\"url(#pce2af521af)\" d=\"M 904.17 136.5 \nL 925.72 136.5 \nL 925.72 114.95 \nL 904.17 114.95 \nL 904.17 136.5 \n\" style=\"fill:#f4fbc0;\"/>\n    <path clip-path=\"url(#pce2af521af)\" d=\"M 925.72 136.5 \nL 947.27 136.5 \nL 947.27 114.95 \nL 925.72 114.95 \nL 925.72 136.5 \n\" style=\"fill:#dff2b2;\"/>\n    <path clip-path=\"url(#pce2af521af)\" d=\"M 947.27 136.5 \nL 968.82 136.5 \nL 968.82 114.95 \nL 947.27 114.95 \nL 947.27 136.5 \n\" style=\"fill:#d3eeb3;\"/>\n    <path clip-path=\"url(#pce2af521af)\" d=\"M 968.82 136.5 \nL 990.37 136.5 \nL 990.37 114.95 \nL 968.82 114.95 \nL 968.82 136.5 \n\" style=\"fill:#e1f3b2;\"/>\n    <path clip-path=\"url(#pce2af521af)\" d=\"M 990.37 136.5 \nL 1011.92 136.5 \nL 1011.92 114.95 \nL 990.37 114.95 \nL 990.37 136.5 \n\" style=\"fill:#f7fcc6;\"/>\n    <path clip-path=\"url(#pce2af521af)\" d=\"M 1011.92 136.5 \nL 1033.47 136.5 \nL 1033.47 114.95 \nL 1011.92 114.95 \nL 1011.92 136.5 \n\" style=\"fill:#5dc0c0;\"/>\n    <path clip-path=\"url(#pce2af521af)\" d=\"M 1033.47 136.5 \nL 1055.02 136.5 \nL 1055.02 114.95 \nL 1033.47 114.95 \nL 1033.47 136.5 \n\" style=\"fill:#eff9b5;\"/>\n    <path clip-path=\"url(#pce2af521af)\" d=\"M 1055.02 136.5 \nL 1076.57 136.5 \nL 1076.57 114.95 \nL 1055.02 114.95 \nL 1055.02 136.5 \n\" style=\"fill:#f9fdcb;\"/>\n    <path clip-path=\"url(#pce2af521af)\" d=\"M 1076.57 136.5 \nL 1098.12 136.5 \nL 1098.12 114.95 \nL 1076.57 114.95 \nL 1076.57 136.5 \n\" style=\"fill:#f4fbc0;\"/>\n    <path clip-path=\"url(#pce2af521af)\" d=\"M 1098.12 136.5 \nL 1119.67 136.5 \nL 1119.67 114.95 \nL 1098.12 114.95 \nL 1098.12 136.5 \n\" style=\"fill:#edf8b2;\"/>\n    <path clip-path=\"url(#pce2af521af)\" d=\"M 1119.67 136.5 \nL 1141.22 136.5 \nL 1141.22 114.95 \nL 1119.67 114.95 \nL 1119.67 136.5 \n\" style=\"fill:none;\"/>\n    <path clip-path=\"url(#pce2af521af)\" d=\"M 1141.22 136.5 \nL 1162.77 136.5 \nL 1162.77 114.95 \nL 1141.22 114.95 \nL 1141.22 136.5 \n\" style=\"fill:none;\"/>\n    <path clip-path=\"url(#pce2af521af)\" d=\"M 1162.77 136.5 \nL 1184.32 136.5 \nL 1184.32 114.95 \nL 1162.77 114.95 \nL 1162.77 136.5 \n\" style=\"fill:none;\"/>\n    <path clip-path=\"url(#pce2af521af)\" d=\"M 42.17 114.95 \nL 63.72 114.95 \nL 63.72 93.4 \nL 42.17 93.4 \nL 42.17 114.95 \n\" style=\"fill:#dcf1b2;\"/>\n    <path clip-path=\"url(#pce2af521af)\" d=\"M 63.72 114.95 \nL 85.27 114.95 \nL 85.27 93.4 \nL 63.72 93.4 \nL 63.72 114.95 \n\" style=\"fill:#c4e8b4;\"/>\n    <path clip-path=\"url(#pce2af521af)\" d=\"M 85.27 114.95 \nL 106.82 114.95 \nL 106.82 93.4 \nL 85.27 93.4 \nL 85.27 114.95 \n\" style=\"fill:#1e86bb;\"/>\n    <path clip-path=\"url(#pce2af521af)\" d=\"M 106.82 114.95 \nL 128.37 114.95 \nL 128.37 93.4 \nL 106.82 93.4 \nL 106.82 114.95 \n\" style=\"fill:#73c8bd;\"/>\n    <path clip-path=\"url(#pce2af521af)\" d=\"M 128.37 114.95 \nL 149.92 114.95 \nL 149.92 93.4 \nL 128.37 93.4 \nL 128.37 114.95 \n\" style=\"fill:#6dc6be;\"/>\n    <path clip-path=\"url(#pce2af521af)\" d=\"M 149.92 114.95 \nL 171.47 114.95 \nL 171.47 93.4 \nL 149.92 93.4 \nL 149.92 114.95 \n\" style=\"fill:#d5efb3;\"/>\n    <path clip-path=\"url(#pce2af521af)\" d=\"M 171.47 114.95 \nL 193.02 114.95 \nL 193.02 93.4 \nL 171.47 93.4 \nL 171.47 114.95 \n\" style=\"fill:#aedfb6;\"/>\n    <path clip-path=\"url(#pce2af521af)\" d=\"M 193.02 114.95 \nL 214.57 114.95 \nL 214.57 93.4 \nL 193.02 93.4 \nL 193.02 114.95 \n\" style=\"fill:#4ab9c3;\"/>\n    <path clip-path=\"url(#pce2af521af)\" d=\"M 214.57 114.95 \nL 236.12 114.95 \nL 236.12 93.4 \nL 214.57 93.4 \nL 214.57 114.95 \n\" style=\"fill:#4cbac2;\"/>\n    <path clip-path=\"url(#pce2af521af)\" d=\"M 236.12 114.95 \nL 257.67 114.95 \nL 257.67 93.4 \nL 236.12 93.4 \nL 236.12 114.95 \n\" style=\"fill:#6fc7bd;\"/>\n    <path clip-path=\"url(#pce2af521af)\" d=\"M 257.67 114.95 \nL 279.22 114.95 \nL 279.22 93.4 \nL 257.67 93.4 \nL 257.67 114.95 \n\" style=\"fill:#95d5b9;\"/>\n    <path clip-path=\"url(#pce2af521af)\" d=\"M 279.22 114.95 \nL 300.77 114.95 \nL 300.77 93.4 \nL 279.22 93.4 \nL 279.22 114.95 \n\" style=\"fill:#cfecb3;\"/>\n    <path clip-path=\"url(#pce2af521af)\" d=\"M 300.77 114.95 \nL 322.32 114.95 \nL 322.32 93.4 \nL 300.77 93.4 \nL 300.77 114.95 \n\" style=\"fill:#bbe4b5;\"/>\n    <path clip-path=\"url(#pce2af521af)\" d=\"M 322.32 114.95 \nL 343.87 114.95 \nL 343.87 93.4 \nL 322.32 93.4 \nL 322.32 114.95 \n\" style=\"fill:#50bbc2;\"/>\n    <path clip-path=\"url(#pce2af521af)\" d=\"M 343.87 114.95 \nL 365.42 114.95 \nL 365.42 93.4 \nL 343.87 93.4 \nL 343.87 114.95 \n\" style=\"fill:#1f7bb6;\"/>\n    <path clip-path=\"url(#pce2af521af)\" d=\"M 365.42 114.95 \nL 386.97 114.95 \nL 386.97 93.4 \nL 365.42 93.4 \nL 365.42 114.95 \n\" style=\"fill:#65c3bf;\"/>\n    <path clip-path=\"url(#pce2af521af)\" d=\"M 386.97 114.95 \nL 408.52 114.95 \nL 408.52 93.4 \nL 386.97 93.4 \nL 386.97 114.95 \n\" style=\"fill:#1e83ba;\"/>\n    <path clip-path=\"url(#pce2af521af)\" d=\"M 408.52 114.95 \nL 430.07 114.95 \nL 430.07 93.4 \nL 408.52 93.4 \nL 408.52 114.95 \n\" style=\"fill:#2ea3c2;\"/>\n    <path clip-path=\"url(#pce2af521af)\" d=\"M 430.07 114.95 \nL 451.62 114.95 \nL 451.62 93.4 \nL 430.07 93.4 \nL 430.07 114.95 \n\" style=\"fill:#2072b1;\"/>\n    <path clip-path=\"url(#pce2af521af)\" d=\"M 451.62 114.95 \nL 473.17 114.95 \nL 473.17 93.4 \nL 451.62 93.4 \nL 451.62 114.95 \n\" style=\"fill:#a5dcb7;\"/>\n    <path clip-path=\"url(#pce2af521af)\" d=\"M 473.17 114.95 \nL 494.72 114.95 \nL 494.72 93.4 \nL 473.17 93.4 \nL 473.17 114.95 \n\" style=\"fill:#c4e8b4;\"/>\n    <path clip-path=\"url(#pce2af521af)\" d=\"M 494.72 114.95 \nL 516.27 114.95 \nL 516.27 93.4 \nL 494.72 93.4 \nL 494.72 114.95 \n\" style=\"fill:#83cebb;\"/>\n    <path clip-path=\"url(#pce2af521af)\" d=\"M 516.27 114.95 \nL 537.82 114.95 \nL 537.82 93.4 \nL 516.27 93.4 \nL 516.27 114.95 \n\" style=\"fill:#edf8b1;\"/>\n    <path clip-path=\"url(#pce2af521af)\" d=\"M 537.82 114.95 \nL 559.37 114.95 \nL 559.37 93.4 \nL 537.82 93.4 \nL 537.82 114.95 \n\" style=\"fill:#95d5b9;\"/>\n    <path clip-path=\"url(#pce2af521af)\" d=\"M 559.37 114.95 \nL 580.92 114.95 \nL 580.92 93.4 \nL 559.37 93.4 \nL 559.37 114.95 \n\" style=\"fill:#f1faba;\"/>\n    <path clip-path=\"url(#pce2af521af)\" d=\"M 580.92 114.95 \nL 602.47 114.95 \nL 602.47 93.4 \nL 580.92 93.4 \nL 580.92 114.95 \n\" style=\"fill:#35aac3;\"/>\n    <path clip-path=\"url(#pce2af521af)\" d=\"M 602.47 114.95 \nL 624.02 114.95 \nL 624.02 93.4 \nL 602.47 93.4 \nL 602.47 114.95 \n\" style=\"fill:#8cd2ba;\"/>\n    <path clip-path=\"url(#pce2af521af)\" d=\"M 624.02 114.95 \nL 645.57 114.95 \nL 645.57 93.4 \nL 624.02 93.4 \nL 624.02 114.95 \n\" style=\"fill:#e7f6b1;\"/>\n    <path clip-path=\"url(#pce2af521af)\" d=\"M 645.57 114.95 \nL 667.12 114.95 \nL 667.12 93.4 \nL 645.57 93.4 \nL 645.57 114.95 \n\" style=\"fill:#97d6b9;\"/>\n    <path clip-path=\"url(#pce2af521af)\" d=\"M 667.12 114.95 \nL 688.67 114.95 \nL 688.67 93.4 \nL 667.12 93.4 \nL 667.12 114.95 \n\" style=\"fill:#7acbbc;\"/>\n    <path clip-path=\"url(#pce2af521af)\" d=\"M 688.67 114.95 \nL 710.22 114.95 \nL 710.22 93.4 \nL 688.67 93.4 \nL 688.67 114.95 \n\" style=\"fill:#e3f4b2;\"/>\n    <path clip-path=\"url(#pce2af521af)\" d=\"M 710.22 114.95 \nL 731.77 114.95 \nL 731.77 93.4 \nL 710.22 93.4 \nL 710.22 114.95 \n\" style=\"fill:#87d0ba;\"/>\n    <path clip-path=\"url(#pce2af521af)\" d=\"M 731.77 114.95 \nL 753.32 114.95 \nL 753.32 93.4 \nL 731.77 93.4 \nL 731.77 114.95 \n\" style=\"fill:#c0e6b5;\"/>\n    <path clip-path=\"url(#pce2af521af)\" d=\"M 753.32 114.95 \nL 774.87 114.95 \nL 774.87 93.4 \nL 753.32 93.4 \nL 753.32 114.95 \n\" style=\"fill:#f0f9b7;\"/>\n    <path clip-path=\"url(#pce2af521af)\" d=\"M 774.87 114.95 \nL 796.42 114.95 \nL 796.42 93.4 \nL 774.87 93.4 \nL 774.87 114.95 \n\" style=\"fill:#e7f6b1;\"/>\n    <path clip-path=\"url(#pce2af521af)\" d=\"M 796.42 114.95 \nL 817.97 114.95 \nL 817.97 93.4 \nL 796.42 93.4 \nL 796.42 114.95 \n\" style=\"fill:#f2fabc;\"/>\n    <path clip-path=\"url(#pce2af521af)\" d=\"M 817.97 114.95 \nL 839.52 114.95 \nL 839.52 93.4 \nL 817.97 93.4 \nL 817.97 114.95 \n\" style=\"fill:#f1faba;\"/>\n    <path clip-path=\"url(#pce2af521af)\" d=\"M 839.52 114.95 \nL 861.07 114.95 \nL 861.07 93.4 \nL 839.52 93.4 \nL 839.52 114.95 \n\" style=\"fill:#f1faba;\"/>\n    <path clip-path=\"url(#pce2af521af)\" d=\"M 861.07 114.95 \nL 882.62 114.95 \nL 882.62 93.4 \nL 861.07 93.4 \nL 861.07 114.95 \n\" style=\"fill:#dbf1b2;\"/>\n    <path clip-path=\"url(#pce2af521af)\" d=\"M 882.62 114.95 \nL 904.17 114.95 \nL 904.17 93.4 \nL 882.62 93.4 \nL 882.62 114.95 \n\" style=\"fill:#f0f9b7;\"/>\n    <path clip-path=\"url(#pce2af521af)\" d=\"M 904.17 114.95 \nL 925.72 114.95 \nL 925.72 93.4 \nL 904.17 93.4 \nL 904.17 114.95 \n\" style=\"fill:#caeab4;\"/>\n    <path clip-path=\"url(#pce2af521af)\" d=\"M 925.72 114.95 \nL 947.27 114.95 \nL 947.27 93.4 \nL 925.72 93.4 \nL 925.72 114.95 \n\" style=\"fill:#9cd8b8;\"/>\n    <path clip-path=\"url(#pce2af521af)\" d=\"M 947.27 114.95 \nL 968.82 114.95 \nL 968.82 93.4 \nL 947.27 93.4 \nL 947.27 114.95 \n\" style=\"fill:#d6efb3;\"/>\n    <path clip-path=\"url(#pce2af521af)\" d=\"M 968.82 114.95 \nL 990.37 114.95 \nL 990.37 93.4 \nL 968.82 93.4 \nL 968.82 114.95 \n\" style=\"fill:#edf8b2;\"/>\n    <path clip-path=\"url(#pce2af521af)\" d=\"M 990.37 114.95 \nL 1011.92 114.95 \nL 1011.92 93.4 \nL 990.37 93.4 \nL 990.37 114.95 \n\" style=\"fill:#6bc6be;\"/>\n    <path clip-path=\"url(#pce2af521af)\" d=\"M 1011.92 114.95 \nL 1033.47 114.95 \nL 1033.47 93.4 \nL 1011.92 93.4 \nL 1011.92 114.95 \n\" style=\"fill:#f0f9b8;\"/>\n    <path clip-path=\"url(#pce2af521af)\" d=\"M 1033.47 114.95 \nL 1055.02 114.95 \nL 1055.02 93.4 \nL 1033.47 93.4 \nL 1033.47 114.95 \n\" style=\"fill:#f3fabf;\"/>\n    <path clip-path=\"url(#pce2af521af)\" d=\"M 1055.02 114.95 \nL 1076.57 114.95 \nL 1076.57 93.4 \nL 1055.02 93.4 \nL 1055.02 114.95 \n\" style=\"fill:#f1fabb;\"/>\n    <path clip-path=\"url(#pce2af521af)\" d=\"M 1076.57 114.95 \nL 1098.12 114.95 \nL 1098.12 93.4 \nL 1076.57 93.4 \nL 1076.57 114.95 \n\" style=\"fill:#cbebb4;\"/>\n    <path clip-path=\"url(#pce2af521af)\" d=\"M 1098.12 114.95 \nL 1119.67 114.95 \nL 1119.67 93.4 \nL 1098.12 93.4 \nL 1098.12 114.95 \n\" style=\"fill:#b7e3b6;\"/>\n    <path clip-path=\"url(#pce2af521af)\" d=\"M 1119.67 114.95 \nL 1141.22 114.95 \nL 1141.22 93.4 \nL 1119.67 93.4 \nL 1119.67 114.95 \n\" style=\"fill:none;\"/>\n    <path clip-path=\"url(#pce2af521af)\" d=\"M 1141.22 114.95 \nL 1162.77 114.95 \nL 1162.77 93.4 \nL 1141.22 93.4 \nL 1141.22 114.95 \n\" style=\"fill:none;\"/>\n    <path clip-path=\"url(#pce2af521af)\" d=\"M 1162.77 114.95 \nL 1184.32 114.95 \nL 1184.32 93.4 \nL 1162.77 93.4 \nL 1162.77 114.95 \n\" style=\"fill:none;\"/>\n    <path clip-path=\"url(#pce2af521af)\" d=\"M 42.17 93.4 \nL 63.72 93.4 \nL 63.72 71.85 \nL 42.17 71.85 \nL 42.17 93.4 \n\" style=\"fill:#ecf7b1;\"/>\n    <path clip-path=\"url(#pce2af521af)\" d=\"M 63.72 93.4 \nL 85.27 93.4 \nL 85.27 71.85 \nL 63.72 71.85 \nL 63.72 93.4 \n\" style=\"fill:#f1faba;\"/>\n    <path clip-path=\"url(#pce2af521af)\" d=\"M 85.27 93.4 \nL 106.82 93.4 \nL 106.82 71.85 \nL 85.27 71.85 \nL 85.27 93.4 \n\" style=\"fill:#97d6b9;\"/>\n    <path clip-path=\"url(#pce2af521af)\" d=\"M 106.82 93.4 \nL 128.37 93.4 \nL 128.37 71.85 \nL 106.82 71.85 \nL 106.82 93.4 \n\" style=\"fill:#6fc7bd;\"/>\n    <path clip-path=\"url(#pce2af521af)\" d=\"M 128.37 93.4 \nL 149.92 93.4 \nL 149.92 71.85 \nL 128.37 71.85 \nL 128.37 93.4 \n\" style=\"fill:#e6f5b2;\"/>\n    <path clip-path=\"url(#pce2af521af)\" d=\"M 149.92 93.4 \nL 171.47 93.4 \nL 171.47 71.85 \nL 149.92 71.85 \nL 149.92 93.4 \n\" style=\"fill:#99d7b8;\"/>\n    <path clip-path=\"url(#pce2af521af)\" d=\"M 171.47 93.4 \nL 193.02 93.4 \nL 193.02 71.85 \nL 171.47 71.85 \nL 171.47 93.4 \n\" style=\"fill:#97d6b9;\"/>\n    <path clip-path=\"url(#pce2af521af)\" d=\"M 193.02 93.4 \nL 214.57 93.4 \nL 214.57 71.85 \nL 193.02 71.85 \nL 193.02 93.4 \n\" style=\"fill:#b0e0b6;\"/>\n    <path clip-path=\"url(#pce2af521af)\" d=\"M 214.57 93.4 \nL 236.12 93.4 \nL 236.12 71.85 \nL 214.57 71.85 \nL 214.57 93.4 \n\" style=\"fill:#ceecb3;\"/>\n    <path clip-path=\"url(#pce2af521af)\" d=\"M 236.12 93.4 \nL 257.67 93.4 \nL 257.67 71.85 \nL 236.12 71.85 \nL 236.12 93.4 \n\" style=\"fill:#d7efb3;\"/>\n    <path clip-path=\"url(#pce2af521af)\" d=\"M 257.67 93.4 \nL 279.22 93.4 \nL 279.22 71.85 \nL 257.67 71.85 \nL 257.67 93.4 \n\" style=\"fill:#f6fbc5;\"/>\n    <path clip-path=\"url(#pce2af521af)\" d=\"M 279.22 93.4 \nL 300.77 93.4 \nL 300.77 71.85 \nL 279.22 71.85 \nL 279.22 93.4 \n\" style=\"fill:#299dc1;\"/>\n    <path clip-path=\"url(#pce2af521af)\" d=\"M 300.77 93.4 \nL 322.32 93.4 \nL 322.32 71.85 \nL 300.77 71.85 \nL 300.77 93.4 \n\" style=\"fill:#f1fabb;\"/>\n    <path clip-path=\"url(#pce2af521af)\" d=\"M 322.32 93.4 \nL 343.87 93.4 \nL 343.87 71.85 \nL 322.32 71.85 \nL 322.32 93.4 \n\" style=\"fill:#2296c1;\"/>\n    <path clip-path=\"url(#pce2af521af)\" d=\"M 343.87 93.4 \nL 365.42 93.4 \nL 365.42 71.85 \nL 343.87 71.85 \nL 343.87 93.4 \n\" style=\"fill:#31a5c2;\"/>\n    <path clip-path=\"url(#pce2af521af)\" d=\"M 365.42 93.4 \nL 386.97 93.4 \nL 386.97 71.85 \nL 365.42 71.85 \nL 365.42 93.4 \n\" style=\"fill:#e3f4b2;\"/>\n    <path clip-path=\"url(#pce2af521af)\" d=\"M 386.97 93.4 \nL 408.52 93.4 \nL 408.52 71.85 \nL 386.97 71.85 \nL 386.97 93.4 \n\" style=\"fill:#31a5c2;\"/>\n    <path clip-path=\"url(#pce2af521af)\" d=\"M 408.52 93.4 \nL 430.07 93.4 \nL 430.07 71.85 \nL 408.52 71.85 \nL 408.52 93.4 \n\" style=\"fill:#d4eeb3;\"/>\n    <path clip-path=\"url(#pce2af521af)\" d=\"M 430.07 93.4 \nL 451.62 93.4 \nL 451.62 71.85 \nL 430.07 71.85 \nL 430.07 93.4 \n\" style=\"fill:#dcf1b2;\"/>\n    <path clip-path=\"url(#pce2af521af)\" d=\"M 451.62 93.4 \nL 473.17 93.4 \nL 473.17 71.85 \nL 451.62 71.85 \nL 451.62 93.4 \n\" style=\"fill:#78cbbc;\"/>\n    <path clip-path=\"url(#pce2af521af)\" d=\"M 473.17 93.4 \nL 494.72 93.4 \nL 494.72 71.85 \nL 473.17 71.85 \nL 473.17 93.4 \n\" style=\"fill:#e6f5b2;\"/>\n    <path clip-path=\"url(#pce2af521af)\" d=\"M 494.72 93.4 \nL 516.27 93.4 \nL 516.27 71.85 \nL 494.72 71.85 \nL 494.72 93.4 \n\" style=\"fill:#d5efb3;\"/>\n    <path clip-path=\"url(#pce2af521af)\" d=\"M 516.27 93.4 \nL 537.82 93.4 \nL 537.82 71.85 \nL 516.27 71.85 \nL 516.27 93.4 \n\" style=\"fill:#f1faba;\"/>\n    <path clip-path=\"url(#pce2af521af)\" d=\"M 537.82 93.4 \nL 559.37 93.4 \nL 559.37 71.85 \nL 537.82 71.85 \nL 537.82 93.4 \n\" style=\"fill:#edf8b2;\"/>\n    <path clip-path=\"url(#pce2af521af)\" d=\"M 559.37 93.4 \nL 580.92 93.4 \nL 580.92 71.85 \nL 559.37 71.85 \nL 559.37 93.4 \n\" style=\"fill:#eff9b5;\"/>\n    <path clip-path=\"url(#pce2af521af)\" d=\"M 580.92 93.4 \nL 602.47 93.4 \nL 602.47 71.85 \nL 580.92 71.85 \nL 580.92 93.4 \n\" style=\"fill:#e0f3b2;\"/>\n    <path clip-path=\"url(#pce2af521af)\" d=\"M 602.47 93.4 \nL 624.02 93.4 \nL 624.02 71.85 \nL 602.47 71.85 \nL 602.47 93.4 \n\" style=\"fill:#5dc0c0;\"/>\n    <path clip-path=\"url(#pce2af521af)\" d=\"M 624.02 93.4 \nL 645.57 93.4 \nL 645.57 71.85 \nL 624.02 71.85 \nL 624.02 93.4 \n\" style=\"fill:#83cebb;\"/>\n    <path clip-path=\"url(#pce2af521af)\" d=\"M 645.57 93.4 \nL 667.12 93.4 \nL 667.12 71.85 \nL 645.57 71.85 \nL 645.57 93.4 \n\" style=\"fill:#5bc0c0;\"/>\n    <path clip-path=\"url(#pce2af521af)\" d=\"M 667.12 93.4 \nL 688.67 93.4 \nL 688.67 71.85 \nL 667.12 71.85 \nL 667.12 93.4 \n\" style=\"fill:#85cfba;\"/>\n    <path clip-path=\"url(#pce2af521af)\" d=\"M 688.67 93.4 \nL 710.22 93.4 \nL 710.22 71.85 \nL 688.67 71.85 \nL 688.67 93.4 \n\" style=\"fill:#f4fbc0;\"/>\n    <path clip-path=\"url(#pce2af521af)\" d=\"M 710.22 93.4 \nL 731.77 93.4 \nL 731.77 71.85 \nL 710.22 71.85 \nL 710.22 93.4 \n\" style=\"fill:#ecf7b1;\"/>\n    <path clip-path=\"url(#pce2af521af)\" d=\"M 731.77 93.4 \nL 753.32 93.4 \nL 753.32 71.85 \nL 731.77 71.85 \nL 731.77 93.4 \n\" style=\"fill:#8cd2ba;\"/>\n    <path clip-path=\"url(#pce2af521af)\" d=\"M 753.32 93.4 \nL 774.87 93.4 \nL 774.87 71.85 \nL 753.32 71.85 \nL 753.32 93.4 \n\" style=\"fill:#f0f9b7;\"/>\n    <path clip-path=\"url(#pce2af521af)\" d=\"M 774.87 93.4 \nL 796.42 93.4 \nL 796.42 71.85 \nL 774.87 71.85 \nL 774.87 93.4 \n\" style=\"fill:#89d1ba;\"/>\n    <path clip-path=\"url(#pce2af521af)\" d=\"M 796.42 93.4 \nL 817.97 93.4 \nL 817.97 71.85 \nL 796.42 71.85 \nL 796.42 93.4 \n\" style=\"fill:#eff9b6;\"/>\n    <path clip-path=\"url(#pce2af521af)\" d=\"M 817.97 93.4 \nL 839.52 93.4 \nL 839.52 71.85 \nL 817.97 71.85 \nL 817.97 93.4 \n\" style=\"fill:#9cd8b8;\"/>\n    <path clip-path=\"url(#pce2af521af)\" d=\"M 839.52 93.4 \nL 861.07 93.4 \nL 861.07 71.85 \nL 839.52 71.85 \nL 839.52 93.4 \n\" style=\"fill:#c6e9b4;\"/>\n    <path clip-path=\"url(#pce2af521af)\" d=\"M 861.07 93.4 \nL 882.62 93.4 \nL 882.62 71.85 \nL 861.07 71.85 \nL 861.07 93.4 \n\" style=\"fill:#ffffd9;\"/>\n    <path clip-path=\"url(#pce2af521af)\" d=\"M 882.62 93.4 \nL 904.17 93.4 \nL 904.17 71.85 \nL 882.62 71.85 \nL 882.62 93.4 \n\" style=\"fill:#dff2b2;\"/>\n    <path clip-path=\"url(#pce2af521af)\" d=\"M 904.17 93.4 \nL 925.72 93.4 \nL 925.72 71.85 \nL 904.17 71.85 \nL 904.17 93.4 \n\" style=\"fill:#e7f6b1;\"/>\n    <path clip-path=\"url(#pce2af521af)\" d=\"M 925.72 93.4 \nL 947.27 93.4 \nL 947.27 71.85 \nL 925.72 71.85 \nL 925.72 93.4 \n\" style=\"fill:#fbfdd0;\"/>\n    <path clip-path=\"url(#pce2af521af)\" d=\"M 947.27 93.4 \nL 968.82 93.4 \nL 968.82 71.85 \nL 947.27 71.85 \nL 947.27 93.4 \n\" style=\"fill:#a5dcb7;\"/>\n    <path clip-path=\"url(#pce2af521af)\" d=\"M 968.82 93.4 \nL 990.37 93.4 \nL 990.37 71.85 \nL 968.82 71.85 \nL 968.82 93.4 \n\" style=\"fill:#80cebb;\"/>\n    <path clip-path=\"url(#pce2af521af)\" d=\"M 990.37 93.4 \nL 1011.92 93.4 \nL 1011.92 71.85 \nL 990.37 71.85 \nL 990.37 93.4 \n\" style=\"fill:#ceecb3;\"/>\n    <path clip-path=\"url(#pce2af521af)\" d=\"M 1011.92 93.4 \nL 1033.47 93.4 \nL 1033.47 71.85 \nL 1011.92 71.85 \nL 1011.92 93.4 \n\" style=\"fill:#d4eeb3;\"/>\n    <path clip-path=\"url(#pce2af521af)\" d=\"M 1033.47 93.4 \nL 1055.02 93.4 \nL 1055.02 71.85 \nL 1033.47 71.85 \nL 1033.47 93.4 \n\" style=\"fill:#feffd8;\"/>\n    <path clip-path=\"url(#pce2af521af)\" d=\"M 1055.02 93.4 \nL 1076.57 93.4 \nL 1076.57 71.85 \nL 1055.02 71.85 \nL 1055.02 93.4 \n\" style=\"fill:#f8fcc9;\"/>\n    <path clip-path=\"url(#pce2af521af)\" d=\"M 1076.57 93.4 \nL 1098.12 93.4 \nL 1098.12 71.85 \nL 1076.57 71.85 \nL 1076.57 93.4 \n\" style=\"fill:#f1fabb;\"/>\n    <path clip-path=\"url(#pce2af521af)\" d=\"M 1098.12 93.4 \nL 1119.67 93.4 \nL 1119.67 71.85 \nL 1098.12 71.85 \nL 1098.12 93.4 \n\" style=\"fill:#c8e9b4;\"/>\n    <path clip-path=\"url(#pce2af521af)\" d=\"M 1119.67 93.4 \nL 1141.22 93.4 \nL 1141.22 71.85 \nL 1119.67 71.85 \nL 1119.67 93.4 \n\" style=\"fill:none;\"/>\n    <path clip-path=\"url(#pce2af521af)\" d=\"M 1141.22 93.4 \nL 1162.77 93.4 \nL 1162.77 71.85 \nL 1141.22 71.85 \nL 1141.22 93.4 \n\" style=\"fill:none;\"/>\n    <path clip-path=\"url(#pce2af521af)\" d=\"M 1162.77 93.4 \nL 1184.32 93.4 \nL 1184.32 71.85 \nL 1162.77 71.85 \nL 1162.77 93.4 \n\" style=\"fill:none;\"/>\n    <path clip-path=\"url(#pce2af521af)\" d=\"M 42.17 71.85 \nL 63.72 71.85 \nL 63.72 50.3 \nL 42.17 50.3 \nL 42.17 71.85 \n\" style=\"fill:#3cb1c3;\"/>\n    <path clip-path=\"url(#pce2af521af)\" d=\"M 63.72 71.85 \nL 85.27 71.85 \nL 85.27 50.3 \nL 63.72 50.3 \nL 63.72 71.85 \n\" style=\"fill:#52bcc2;\"/>\n    <path clip-path=\"url(#pce2af521af)\" d=\"M 85.27 71.85 \nL 106.82 71.85 \nL 106.82 50.3 \nL 85.27 50.3 \nL 85.27 71.85 \n\" style=\"fill:#6bc6be;\"/>\n    <path clip-path=\"url(#pce2af521af)\" d=\"M 106.82 71.85 \nL 128.37 71.85 \nL 128.37 50.3 \nL 106.82 50.3 \nL 106.82 71.85 \n\" style=\"fill:#2a9ec1;\"/>\n    <path clip-path=\"url(#pce2af521af)\" d=\"M 128.37 71.85 \nL 149.92 71.85 \nL 149.92 50.3 \nL 128.37 50.3 \nL 128.37 71.85 \n\" style=\"fill:#3fb4c4;\"/>\n    <path clip-path=\"url(#pce2af521af)\" d=\"M 149.92 71.85 \nL 171.47 71.85 \nL 171.47 50.3 \nL 149.92 50.3 \nL 149.92 71.85 \n\" style=\"fill:#b4e2b6;\"/>\n    <path clip-path=\"url(#pce2af521af)\" d=\"M 171.47 71.85 \nL 193.02 71.85 \nL 193.02 50.3 \nL 171.47 50.3 \nL 171.47 71.85 \n\" style=\"fill:#1f7ab5;\"/>\n    <path clip-path=\"url(#pce2af521af)\" d=\"M 193.02 71.85 \nL 214.57 71.85 \nL 214.57 50.3 \nL 193.02 50.3 \nL 193.02 71.85 \n\" style=\"fill:#1d8dbe;\"/>\n    <path clip-path=\"url(#pce2af521af)\" d=\"M 214.57 71.85 \nL 236.12 71.85 \nL 236.12 50.3 \nL 214.57 50.3 \nL 214.57 71.85 \n\" style=\"fill:#3eb3c4;\"/>\n    <path clip-path=\"url(#pce2af521af)\" d=\"M 236.12 71.85 \nL 257.67 71.85 \nL 257.67 50.3 \nL 236.12 50.3 \nL 236.12 71.85 \n\" style=\"fill:#2166ac;\"/>\n    <path clip-path=\"url(#pce2af521af)\" d=\"M 257.67 71.85 \nL 279.22 71.85 \nL 279.22 50.3 \nL 257.67 50.3 \nL 257.67 71.85 \n\" style=\"fill:#35aac3;\"/>\n    <path clip-path=\"url(#pce2af521af)\" d=\"M 279.22 71.85 \nL 300.77 71.85 \nL 300.77 50.3 \nL 279.22 50.3 \nL 279.22 71.85 \n\" style=\"fill:#75c9bd;\"/>\n    <path clip-path=\"url(#pce2af521af)\" d=\"M 300.77 71.85 \nL 322.32 71.85 \nL 322.32 50.3 \nL 300.77 50.3 \nL 300.77 71.85 \n\" style=\"fill:#d1edb3;\"/>\n    <path clip-path=\"url(#pce2af521af)\" d=\"M 322.32 71.85 \nL 343.87 71.85 \nL 343.87 50.3 \nL 322.32 50.3 \nL 322.32 71.85 \n\" style=\"fill:#4ebbc2;\"/>\n    <path clip-path=\"url(#pce2af521af)\" d=\"M 343.87 71.85 \nL 365.42 71.85 \nL 365.42 50.3 \nL 343.87 50.3 \nL 343.87 71.85 \n\" style=\"fill:#c6e9b4;\"/>\n    <path clip-path=\"url(#pce2af521af)\" d=\"M 365.42 71.85 \nL 386.97 71.85 \nL 386.97 50.3 \nL 365.42 50.3 \nL 365.42 71.85 \n\" style=\"fill:#2195c0;\"/>\n    <path clip-path=\"url(#pce2af521af)\" d=\"M 386.97 71.85 \nL 408.52 71.85 \nL 408.52 50.3 \nL 386.97 50.3 \nL 386.97 71.85 \n\" style=\"fill:#5dc0c0;\"/>\n    <path clip-path=\"url(#pce2af521af)\" d=\"M 408.52 71.85 \nL 430.07 71.85 \nL 430.07 50.3 \nL 408.52 50.3 \nL 408.52 71.85 \n\" style=\"fill:#1e8abd;\"/>\n    <path clip-path=\"url(#pce2af521af)\" d=\"M 430.07 71.85 \nL 451.62 71.85 \nL 451.62 50.3 \nL 430.07 50.3 \nL 430.07 71.85 \n\" style=\"fill:#87d0ba;\"/>\n    <path clip-path=\"url(#pce2af521af)\" d=\"M 451.62 71.85 \nL 473.17 71.85 \nL 473.17 50.3 \nL 451.62 50.3 \nL 451.62 71.85 \n\" style=\"fill:#78cbbc;\"/>\n    <path clip-path=\"url(#pce2af521af)\" d=\"M 473.17 71.85 \nL 494.72 71.85 \nL 494.72 50.3 \nL 473.17 50.3 \nL 473.17 71.85 \n\" style=\"fill:#edf8b2;\"/>\n    <path clip-path=\"url(#pce2af521af)\" d=\"M 494.72 71.85 \nL 516.27 71.85 \nL 516.27 50.3 \nL 494.72 50.3 \nL 494.72 71.85 \n\" style=\"fill:#bde5b5;\"/>\n    <path clip-path=\"url(#pce2af521af)\" d=\"M 516.27 71.85 \nL 537.82 71.85 \nL 537.82 50.3 \nL 516.27 50.3 \nL 516.27 71.85 \n\" style=\"fill:#42b6c4;\"/>\n    <path clip-path=\"url(#pce2af521af)\" d=\"M 537.82 71.85 \nL 559.37 71.85 \nL 559.37 50.3 \nL 537.82 50.3 \nL 537.82 71.85 \n\" style=\"fill:#e0f3b2;\"/>\n    <path clip-path=\"url(#pce2af521af)\" d=\"M 559.37 71.85 \nL 580.92 71.85 \nL 580.92 50.3 \nL 559.37 50.3 \nL 559.37 71.85 \n\" style=\"fill:#cfecb3;\"/>\n    <path clip-path=\"url(#pce2af521af)\" d=\"M 580.92 71.85 \nL 602.47 71.85 \nL 602.47 50.3 \nL 580.92 50.3 \nL 580.92 71.85 \n\" style=\"fill:#63c3bf;\"/>\n    <path clip-path=\"url(#pce2af521af)\" d=\"M 602.47 71.85 \nL 624.02 71.85 \nL 624.02 50.3 \nL 602.47 50.3 \nL 602.47 71.85 \n\" style=\"fill:#d9f0b3;\"/>\n    <path clip-path=\"url(#pce2af521af)\" d=\"M 624.02 71.85 \nL 645.57 71.85 \nL 645.57 50.3 \nL 624.02 50.3 \nL 624.02 71.85 \n\" style=\"fill:#eff9b5;\"/>\n    <path clip-path=\"url(#pce2af521af)\" d=\"M 645.57 71.85 \nL 667.12 71.85 \nL 667.12 50.3 \nL 645.57 50.3 \nL 645.57 71.85 \n\" style=\"fill:#edf8b1;\"/>\n    <path clip-path=\"url(#pce2af521af)\" d=\"M 667.12 71.85 \nL 688.67 71.85 \nL 688.67 50.3 \nL 667.12 50.3 \nL 667.12 71.85 \n\" style=\"fill:#f3fabf;\"/>\n    <path clip-path=\"url(#pce2af521af)\" d=\"M 688.67 71.85 \nL 710.22 71.85 \nL 710.22 50.3 \nL 688.67 50.3 \nL 688.67 71.85 \n\" style=\"fill:#cdebb4;\"/>\n    <path clip-path=\"url(#pce2af521af)\" d=\"M 710.22 71.85 \nL 731.77 71.85 \nL 731.77 50.3 \nL 710.22 50.3 \nL 710.22 71.85 \n\" style=\"fill:#bbe4b5;\"/>\n    <path clip-path=\"url(#pce2af521af)\" d=\"M 731.77 71.85 \nL 753.32 71.85 \nL 753.32 50.3 \nL 731.77 50.3 \nL 731.77 71.85 \n\" style=\"fill:#e6f5b2;\"/>\n    <path clip-path=\"url(#pce2af521af)\" d=\"M 753.32 71.85 \nL 774.87 71.85 \nL 774.87 50.3 \nL 753.32 50.3 \nL 753.32 71.85 \n\" style=\"fill:#d6efb3;\"/>\n    <path clip-path=\"url(#pce2af521af)\" d=\"M 774.87 71.85 \nL 796.42 71.85 \nL 796.42 50.3 \nL 774.87 50.3 \nL 774.87 71.85 \n\" style=\"fill:#65c3bf;\"/>\n    <path clip-path=\"url(#pce2af521af)\" d=\"M 796.42 71.85 \nL 817.97 71.85 \nL 817.97 50.3 \nL 796.42 50.3 \nL 796.42 71.85 \n\" style=\"fill:#ceecb3;\"/>\n    <path clip-path=\"url(#pce2af521af)\" d=\"M 817.97 71.85 \nL 839.52 71.85 \nL 839.52 50.3 \nL 817.97 50.3 \nL 817.97 71.85 \n\" style=\"fill:#f9fdcb;\"/>\n    <path clip-path=\"url(#pce2af521af)\" d=\"M 839.52 71.85 \nL 861.07 71.85 \nL 861.07 50.3 \nL 839.52 50.3 \nL 839.52 71.85 \n\" style=\"fill:#5dc0c0;\"/>\n    <path clip-path=\"url(#pce2af521af)\" d=\"M 861.07 71.85 \nL 882.62 71.85 \nL 882.62 50.3 \nL 861.07 50.3 \nL 861.07 71.85 \n\" style=\"fill:#f4fbc0;\"/>\n    <path clip-path=\"url(#pce2af521af)\" d=\"M 882.62 71.85 \nL 904.17 71.85 \nL 904.17 50.3 \nL 882.62 50.3 \nL 882.62 71.85 \n\" style=\"fill:#e3f4b2;\"/>\n    <path clip-path=\"url(#pce2af521af)\" d=\"M 904.17 71.85 \nL 925.72 71.85 \nL 925.72 50.3 \nL 904.17 50.3 \nL 904.17 71.85 \n\" style=\"fill:#c0e6b5;\"/>\n    <path clip-path=\"url(#pce2af521af)\" d=\"M 925.72 71.85 \nL 947.27 71.85 \nL 947.27 50.3 \nL 925.72 50.3 \nL 925.72 71.85 \n\" style=\"fill:#f0f9b7;\"/>\n    <path clip-path=\"url(#pce2af521af)\" d=\"M 947.27 71.85 \nL 968.82 71.85 \nL 968.82 50.3 \nL 947.27 50.3 \nL 947.27 71.85 \n\" style=\"fill:#c8e9b4;\"/>\n    <path clip-path=\"url(#pce2af521af)\" d=\"M 968.82 71.85 \nL 990.37 71.85 \nL 990.37 50.3 \nL 968.82 50.3 \nL 968.82 71.85 \n\" style=\"fill:#daf0b3;\"/>\n    <path clip-path=\"url(#pce2af521af)\" d=\"M 990.37 71.85 \nL 1011.92 71.85 \nL 1011.92 50.3 \nL 990.37 50.3 \nL 990.37 71.85 \n\" style=\"fill:#f3fabd;\"/>\n    <path clip-path=\"url(#pce2af521af)\" d=\"M 1011.92 71.85 \nL 1033.47 71.85 \nL 1033.47 50.3 \nL 1011.92 50.3 \nL 1011.92 71.85 \n\" style=\"fill:#cdebb4;\"/>\n    <path clip-path=\"url(#pce2af521af)\" d=\"M 1033.47 71.85 \nL 1055.02 71.85 \nL 1055.02 50.3 \nL 1033.47 50.3 \nL 1033.47 71.85 \n\" style=\"fill:#daf0b3;\"/>\n    <path clip-path=\"url(#pce2af521af)\" d=\"M 1055.02 71.85 \nL 1076.57 71.85 \nL 1076.57 50.3 \nL 1055.02 50.3 \nL 1055.02 71.85 \n\" style=\"fill:#aedfb6;\"/>\n    <path clip-path=\"url(#pce2af521af)\" d=\"M 1076.57 71.85 \nL 1098.12 71.85 \nL 1098.12 50.3 \nL 1076.57 50.3 \nL 1076.57 71.85 \n\" style=\"fill:#ecf7b1;\"/>\n    <path clip-path=\"url(#pce2af521af)\" d=\"M 1098.12 71.85 \nL 1119.67 71.85 \nL 1119.67 50.3 \nL 1098.12 50.3 \nL 1098.12 71.85 \n\" style=\"fill:#1f7db6;\"/>\n    <path clip-path=\"url(#pce2af521af)\" d=\"M 1119.67 71.85 \nL 1141.22 71.85 \nL 1141.22 50.3 \nL 1119.67 50.3 \nL 1119.67 71.85 \n\" style=\"fill:#e1f3b2;\"/>\n    <path clip-path=\"url(#pce2af521af)\" d=\"M 1141.22 71.85 \nL 1162.77 71.85 \nL 1162.77 50.3 \nL 1141.22 50.3 \nL 1141.22 71.85 \n\" style=\"fill:none;\"/>\n    <path clip-path=\"url(#pce2af521af)\" d=\"M 1162.77 71.85 \nL 1184.32 71.85 \nL 1184.32 50.3 \nL 1162.77 50.3 \nL 1162.77 71.85 \n\" style=\"fill:none;\"/>\n    <path clip-path=\"url(#pce2af521af)\" d=\"M 42.17 50.3 \nL 63.72 50.3 \nL 63.72 28.75 \nL 42.17 28.75 \nL 42.17 50.3 \n\" style=\"fill:none;\"/>\n    <path clip-path=\"url(#pce2af521af)\" d=\"M 63.72 50.3 \nL 85.27 50.3 \nL 85.27 28.75 \nL 63.72 28.75 \nL 63.72 50.3 \n\" style=\"fill:#a2dbb8;\"/>\n    <path clip-path=\"url(#pce2af521af)\" d=\"M 85.27 50.3 \nL 106.82 50.3 \nL 106.82 28.75 \nL 85.27 28.75 \nL 85.27 50.3 \n\" style=\"fill:#73c8bd;\"/>\n    <path clip-path=\"url(#pce2af521af)\" d=\"M 106.82 50.3 \nL 128.37 50.3 \nL 128.37 28.75 \nL 106.82 28.75 \nL 106.82 50.3 \n\" style=\"fill:#c4e8b4;\"/>\n    <path clip-path=\"url(#pce2af521af)\" d=\"M 128.37 50.3 \nL 149.92 50.3 \nL 149.92 28.75 \nL 128.37 28.75 \nL 128.37 50.3 \n\" style=\"fill:#ddf2b2;\"/>\n    <path clip-path=\"url(#pce2af521af)\" d=\"M 149.92 50.3 \nL 171.47 50.3 \nL 171.47 28.75 \nL 149.92 28.75 \nL 149.92 50.3 \n\" style=\"fill:#99d7b8;\"/>\n    <path clip-path=\"url(#pce2af521af)\" d=\"M 171.47 50.3 \nL 193.02 50.3 \nL 193.02 28.75 \nL 171.47 28.75 \nL 171.47 50.3 \n\" style=\"fill:#c8e9b4;\"/>\n    <path clip-path=\"url(#pce2af521af)\" d=\"M 193.02 50.3 \nL 214.57 50.3 \nL 214.57 28.75 \nL 193.02 28.75 \nL 193.02 50.3 \n\" style=\"fill:#78cbbc;\"/>\n    <path clip-path=\"url(#pce2af521af)\" d=\"M 214.57 50.3 \nL 236.12 50.3 \nL 236.12 28.75 \nL 214.57 28.75 \nL 214.57 50.3 \n\" style=\"fill:#b4e2b6;\"/>\n    <path clip-path=\"url(#pce2af521af)\" d=\"M 236.12 50.3 \nL 257.67 50.3 \nL 257.67 28.75 \nL 236.12 28.75 \nL 236.12 50.3 \n\" style=\"fill:#caeab4;\"/>\n    <path clip-path=\"url(#pce2af521af)\" d=\"M 257.67 50.3 \nL 279.22 50.3 \nL 279.22 28.75 \nL 257.67 28.75 \nL 257.67 50.3 \n\" style=\"fill:#6bc6be;\"/>\n    <path clip-path=\"url(#pce2af521af)\" d=\"M 279.22 50.3 \nL 300.77 50.3 \nL 300.77 28.75 \nL 279.22 28.75 \nL 279.22 50.3 \n\" style=\"fill:#abdeb7;\"/>\n    <path clip-path=\"url(#pce2af521af)\" d=\"M 300.77 50.3 \nL 322.32 50.3 \nL 322.32 28.75 \nL 300.77 28.75 \nL 300.77 50.3 \n\" style=\"fill:#5fc1c0;\"/>\n    <path clip-path=\"url(#pce2af521af)\" d=\"M 322.32 50.3 \nL 343.87 50.3 \nL 343.87 28.75 \nL 322.32 28.75 \nL 322.32 50.3 \n\" style=\"fill:#f9fdcb;\"/>\n    <path clip-path=\"url(#pce2af521af)\" d=\"M 343.87 50.3 \nL 365.42 50.3 \nL 365.42 28.75 \nL 343.87 28.75 \nL 343.87 50.3 \n\" style=\"fill:#f5fbc4;\"/>\n    <path clip-path=\"url(#pce2af521af)\" d=\"M 365.42 50.3 \nL 386.97 50.3 \nL 386.97 28.75 \nL 365.42 28.75 \nL 365.42 50.3 \n\" style=\"fill:#2195c0;\"/>\n    <path clip-path=\"url(#pce2af521af)\" d=\"M 386.97 50.3 \nL 408.52 50.3 \nL 408.52 28.75 \nL 386.97 28.75 \nL 386.97 50.3 \n\" style=\"fill:#1e88bc;\"/>\n    <path clip-path=\"url(#pce2af521af)\" d=\"M 408.52 50.3 \nL 430.07 50.3 \nL 430.07 28.75 \nL 408.52 28.75 \nL 408.52 50.3 \n\" style=\"fill:#95d5b9;\"/>\n    <path clip-path=\"url(#pce2af521af)\" d=\"M 430.07 50.3 \nL 451.62 50.3 \nL 451.62 28.75 \nL 430.07 28.75 \nL 430.07 50.3 \n\" style=\"fill:#78cbbc;\"/>\n    <path clip-path=\"url(#pce2af521af)\" d=\"M 451.62 50.3 \nL 473.17 50.3 \nL 473.17 28.75 \nL 451.62 28.75 \nL 451.62 50.3 \n\" style=\"fill:#3fb4c4;\"/>\n    <path clip-path=\"url(#pce2af521af)\" d=\"M 473.17 50.3 \nL 494.72 50.3 \nL 494.72 28.75 \nL 473.17 28.75 \nL 473.17 50.3 \n\" style=\"fill:#95d5b9;\"/>\n    <path clip-path=\"url(#pce2af521af)\" d=\"M 494.72 50.3 \nL 516.27 50.3 \nL 516.27 28.75 \nL 494.72 28.75 \nL 494.72 50.3 \n\" style=\"fill:#4ebbc2;\"/>\n    <path clip-path=\"url(#pce2af521af)\" d=\"M 516.27 50.3 \nL 537.82 50.3 \nL 537.82 28.75 \nL 516.27 28.75 \nL 516.27 50.3 \n\" style=\"fill:#f7fcc6;\"/>\n    <path clip-path=\"url(#pce2af521af)\" d=\"M 537.82 50.3 \nL 559.37 50.3 \nL 559.37 28.75 \nL 537.82 28.75 \nL 537.82 50.3 \n\" style=\"fill:#f2fabc;\"/>\n    <path clip-path=\"url(#pce2af521af)\" d=\"M 559.37 50.3 \nL 580.92 50.3 \nL 580.92 28.75 \nL 559.37 28.75 \nL 559.37 50.3 \n\" style=\"fill:#e5f5b2;\"/>\n    <path clip-path=\"url(#pce2af521af)\" d=\"M 580.92 50.3 \nL 602.47 50.3 \nL 602.47 28.75 \nL 580.92 28.75 \nL 580.92 50.3 \n\" style=\"fill:#c6e9b4;\"/>\n    <path clip-path=\"url(#pce2af521af)\" d=\"M 602.47 50.3 \nL 624.02 50.3 \nL 624.02 28.75 \nL 602.47 28.75 \nL 602.47 50.3 \n\" style=\"fill:#dcf1b2;\"/>\n    <path clip-path=\"url(#pce2af521af)\" d=\"M 624.02 50.3 \nL 645.57 50.3 \nL 645.57 28.75 \nL 624.02 28.75 \nL 624.02 50.3 \n\" style=\"fill:#f6fbc5;\"/>\n    <path clip-path=\"url(#pce2af521af)\" d=\"M 645.57 50.3 \nL 667.12 50.3 \nL 667.12 28.75 \nL 645.57 28.75 \nL 645.57 50.3 \n\" style=\"fill:#eff9b6;\"/>\n    <path clip-path=\"url(#pce2af521af)\" d=\"M 667.12 50.3 \nL 688.67 50.3 \nL 688.67 28.75 \nL 667.12 28.75 \nL 667.12 50.3 \n\" style=\"fill:#f5fbc4;\"/>\n    <path clip-path=\"url(#pce2af521af)\" d=\"M 688.67 50.3 \nL 710.22 50.3 \nL 710.22 28.75 \nL 688.67 28.75 \nL 688.67 50.3 \n\" style=\"fill:#d7efb3;\"/>\n    <path clip-path=\"url(#pce2af521af)\" d=\"M 710.22 50.3 \nL 731.77 50.3 \nL 731.77 28.75 \nL 710.22 28.75 \nL 710.22 50.3 \n\" style=\"fill:#e9f7b1;\"/>\n    <path clip-path=\"url(#pce2af521af)\" d=\"M 731.77 50.3 \nL 753.32 50.3 \nL 753.32 28.75 \nL 731.77 28.75 \nL 731.77 50.3 \n\" style=\"fill:#d5efb3;\"/>\n    <path clip-path=\"url(#pce2af521af)\" d=\"M 753.32 50.3 \nL 774.87 50.3 \nL 774.87 28.75 \nL 753.32 28.75 \nL 753.32 50.3 \n\" style=\"fill:#e8f6b1;\"/>\n    <path clip-path=\"url(#pce2af521af)\" d=\"M 774.87 50.3 \nL 796.42 50.3 \nL 796.42 28.75 \nL 774.87 28.75 \nL 774.87 50.3 \n\" style=\"fill:#e6f5b2;\"/>\n    <path clip-path=\"url(#pce2af521af)\" d=\"M 796.42 50.3 \nL 817.97 50.3 \nL 817.97 28.75 \nL 796.42 28.75 \nL 796.42 50.3 \n\" style=\"fill:#a7dcb7;\"/>\n    <path clip-path=\"url(#pce2af521af)\" d=\"M 817.97 50.3 \nL 839.52 50.3 \nL 839.52 28.75 \nL 817.97 28.75 \nL 817.97 50.3 \n\" style=\"fill:#e8f6b1;\"/>\n    <path clip-path=\"url(#pce2af521af)\" d=\"M 839.52 50.3 \nL 861.07 50.3 \nL 861.07 28.75 \nL 839.52 28.75 \nL 839.52 50.3 \n\" style=\"fill:#e2f4b2;\"/>\n    <path clip-path=\"url(#pce2af521af)\" d=\"M 861.07 50.3 \nL 882.62 50.3 \nL 882.62 28.75 \nL 861.07 28.75 \nL 861.07 50.3 \n\" style=\"fill:#fafdce;\"/>\n    <path clip-path=\"url(#pce2af521af)\" d=\"M 882.62 50.3 \nL 904.17 50.3 \nL 904.17 28.75 \nL 882.62 28.75 \nL 882.62 50.3 \n\" style=\"fill:#cbebb4;\"/>\n    <path clip-path=\"url(#pce2af521af)\" d=\"M 904.17 50.3 \nL 925.72 50.3 \nL 925.72 28.75 \nL 904.17 28.75 \nL 904.17 50.3 \n\" style=\"fill:#d4eeb3;\"/>\n    <path clip-path=\"url(#pce2af521af)\" d=\"M 925.72 50.3 \nL 947.27 50.3 \nL 947.27 28.75 \nL 925.72 28.75 \nL 925.72 50.3 \n\" style=\"fill:#4ebbc2;\"/>\n    <path clip-path=\"url(#pce2af521af)\" d=\"M 947.27 50.3 \nL 968.82 50.3 \nL 968.82 28.75 \nL 947.27 28.75 \nL 947.27 50.3 \n\" style=\"fill:#f1fabb;\"/>\n    <path clip-path=\"url(#pce2af521af)\" d=\"M 968.82 50.3 \nL 990.37 50.3 \nL 990.37 28.75 \nL 968.82 28.75 \nL 968.82 50.3 \n\" style=\"fill:#feffd8;\"/>\n    <path clip-path=\"url(#pce2af521af)\" d=\"M 990.37 50.3 \nL 1011.92 50.3 \nL 1011.92 28.75 \nL 990.37 28.75 \nL 990.37 50.3 \n\" style=\"fill:#b9e4b5;\"/>\n    <path clip-path=\"url(#pce2af521af)\" d=\"M 1011.92 50.3 \nL 1033.47 50.3 \nL 1033.47 28.75 \nL 1011.92 28.75 \nL 1011.92 50.3 \n\" style=\"fill:#53bdc1;\"/>\n    <path clip-path=\"url(#pce2af521af)\" d=\"M 1033.47 50.3 \nL 1055.02 50.3 \nL 1055.02 28.75 \nL 1033.47 28.75 \nL 1033.47 50.3 \n\" style=\"fill:#f2fabc;\"/>\n    <path clip-path=\"url(#pce2af521af)\" d=\"M 1055.02 50.3 \nL 1076.57 50.3 \nL 1076.57 28.75 \nL 1055.02 28.75 \nL 1055.02 50.3 \n\" style=\"fill:#f7fcc7;\"/>\n    <path clip-path=\"url(#pce2af521af)\" d=\"M 1076.57 50.3 \nL 1098.12 50.3 \nL 1098.12 28.75 \nL 1076.57 28.75 \nL 1076.57 50.3 \n\" style=\"fill:#fafdce;\"/>\n    <path clip-path=\"url(#pce2af521af)\" d=\"M 1098.12 50.3 \nL 1119.67 50.3 \nL 1119.67 28.75 \nL 1098.12 28.75 \nL 1098.12 50.3 \n\" style=\"fill:#2296c1;\"/>\n    <path clip-path=\"url(#pce2af521af)\" d=\"M 1119.67 50.3 \nL 1141.22 50.3 \nL 1141.22 28.75 \nL 1119.67 28.75 \nL 1119.67 50.3 \n\" style=\"fill:#9cd8b8;\"/>\n    <path clip-path=\"url(#pce2af521af)\" d=\"M 1141.22 50.3 \nL 1162.77 50.3 \nL 1162.77 28.75 \nL 1141.22 28.75 \nL 1141.22 50.3 \n\" style=\"fill:none;\"/>\n    <path clip-path=\"url(#pce2af521af)\" d=\"M 1162.77 50.3 \nL 1184.32 50.3 \nL 1184.32 28.75 \nL 1162.77 28.75 \nL 1162.77 50.3 \n\" style=\"fill:none;\"/>\n    <path clip-path=\"url(#pce2af521af)\" d=\"M 42.17 28.75 \nL 63.72 28.75 \nL 63.72 7.2 \nL 42.17 7.2 \nL 42.17 28.75 \n\" style=\"fill:none;\"/>\n    <path clip-path=\"url(#pce2af521af)\" d=\"M 63.72 28.75 \nL 85.27 28.75 \nL 85.27 7.2 \nL 63.72 7.2 \nL 63.72 28.75 \n\" style=\"fill:#65c3bf;\"/>\n    <path clip-path=\"url(#pce2af521af)\" d=\"M 85.27 28.75 \nL 106.82 28.75 \nL 106.82 7.2 \nL 85.27 7.2 \nL 85.27 28.75 \n\" style=\"fill:#e6f5b2;\"/>\n    <path clip-path=\"url(#pce2af521af)\" d=\"M 106.82 28.75 \nL 128.37 28.75 \nL 128.37 7.2 \nL 106.82 7.2 \nL 106.82 28.75 \n\" style=\"fill:#1d91c0;\"/>\n    <path clip-path=\"url(#pce2af521af)\" d=\"M 128.37 28.75 \nL 149.92 28.75 \nL 149.92 7.2 \nL 128.37 7.2 \nL 128.37 28.75 \n\" style=\"fill:#2094c0;\"/>\n    <path clip-path=\"url(#pce2af521af)\" d=\"M 149.92 28.75 \nL 171.47 28.75 \nL 171.47 7.2 \nL 149.92 7.2 \nL 149.92 28.75 \n\" style=\"fill:#3bb0c3;\"/>\n    <path clip-path=\"url(#pce2af521af)\" d=\"M 171.47 28.75 \nL 193.02 28.75 \nL 193.02 7.2 \nL 171.47 7.2 \nL 171.47 28.75 \n\" style=\"fill:#75c9bd;\"/>\n    <path clip-path=\"url(#pce2af521af)\" d=\"M 193.02 28.75 \nL 214.57 28.75 \nL 214.57 7.2 \nL 193.02 7.2 \nL 193.02 28.75 \n\" style=\"fill:#59bfc0;\"/>\n    <path clip-path=\"url(#pce2af521af)\" d=\"M 214.57 28.75 \nL 236.12 28.75 \nL 236.12 7.2 \nL 214.57 7.2 \nL 214.57 28.75 \n\" style=\"fill:#b0e0b6;\"/>\n    <path clip-path=\"url(#pce2af521af)\" d=\"M 236.12 28.75 \nL 257.67 28.75 \nL 257.67 7.2 \nL 236.12 7.2 \nL 236.12 28.75 \n\" style=\"fill:#dbf1b2;\"/>\n    <path clip-path=\"url(#pce2af521af)\" d=\"M 257.67 28.75 \nL 279.22 28.75 \nL 279.22 7.2 \nL 257.67 7.2 \nL 257.67 28.75 \n\" style=\"fill:#95d5b9;\"/>\n    <path clip-path=\"url(#pce2af521af)\" d=\"M 279.22 28.75 \nL 300.77 28.75 \nL 300.77 7.2 \nL 279.22 7.2 \nL 279.22 28.75 \n\" style=\"fill:#d4eeb3;\"/>\n    <path clip-path=\"url(#pce2af521af)\" d=\"M 300.77 28.75 \nL 322.32 28.75 \nL 322.32 7.2 \nL 300.77 7.2 \nL 300.77 28.75 \n\" style=\"fill:#269bc1;\"/>\n    <path clip-path=\"url(#pce2af521af)\" d=\"M 322.32 28.75 \nL 343.87 28.75 \nL 343.87 7.2 \nL 322.32 7.2 \nL 322.32 28.75 \n\" style=\"fill:#33a7c2;\"/>\n    <path clip-path=\"url(#pce2af521af)\" d=\"M 343.87 28.75 \nL 365.42 28.75 \nL 365.42 7.2 \nL 343.87 7.2 \nL 343.87 28.75 \n\" style=\"fill:#e3f4b2;\"/>\n    <path clip-path=\"url(#pce2af521af)\" d=\"M 365.42 28.75 \nL 386.97 28.75 \nL 386.97 7.2 \nL 365.42 7.2 \nL 365.42 28.75 \n\" style=\"fill:#3aaec3;\"/>\n    <path clip-path=\"url(#pce2af521af)\" d=\"M 386.97 28.75 \nL 408.52 28.75 \nL 408.52 7.2 \nL 386.97 7.2 \nL 386.97 28.75 \n\" style=\"fill:#cfecb3;\"/>\n    <path clip-path=\"url(#pce2af521af)\" d=\"M 408.52 28.75 \nL 430.07 28.75 \nL 430.07 7.2 \nL 408.52 7.2 \nL 408.52 28.75 \n\" style=\"fill:#2296c1;\"/>\n    <path clip-path=\"url(#pce2af521af)\" d=\"M 430.07 28.75 \nL 451.62 28.75 \nL 451.62 7.2 \nL 430.07 7.2 \nL 430.07 28.75 \n\" style=\"fill:#2498c1;\"/>\n    <path clip-path=\"url(#pce2af521af)\" d=\"M 451.62 28.75 \nL 473.17 28.75 \nL 473.17 7.2 \nL 451.62 7.2 \nL 451.62 28.75 \n\" style=\"fill:#1f7ab5;\"/>\n    <path clip-path=\"url(#pce2af521af)\" d=\"M 473.17 28.75 \nL 494.72 28.75 \nL 494.72 7.2 \nL 473.17 7.2 \nL 473.17 28.75 \n\" style=\"fill:#d1edb3;\"/>\n    <path clip-path=\"url(#pce2af521af)\" d=\"M 494.72 28.75 \nL 516.27 28.75 \nL 516.27 7.2 \nL 494.72 7.2 \nL 494.72 28.75 \n\" style=\"fill:#d0edb3;\"/>\n    <path clip-path=\"url(#pce2af521af)\" d=\"M 516.27 28.75 \nL 537.82 28.75 \nL 537.82 7.2 \nL 516.27 7.2 \nL 516.27 28.75 \n\" style=\"fill:#caeab4;\"/>\n    <path clip-path=\"url(#pce2af521af)\" d=\"M 537.82 28.75 \nL 559.37 28.75 \nL 559.37 7.2 \nL 537.82 7.2 \nL 537.82 28.75 \n\" style=\"fill:#ddf2b2;\"/>\n    <path clip-path=\"url(#pce2af521af)\" d=\"M 559.37 28.75 \nL 580.92 28.75 \nL 580.92 7.2 \nL 559.37 7.2 \nL 559.37 28.75 \n\" style=\"fill:#cfecb3;\"/>\n    <path clip-path=\"url(#pce2af521af)\" d=\"M 580.92 28.75 \nL 602.47 28.75 \nL 602.47 7.2 \nL 580.92 7.2 \nL 580.92 28.75 \n\" style=\"fill:#e5f5b2;\"/>\n    <path clip-path=\"url(#pce2af521af)\" d=\"M 602.47 28.75 \nL 624.02 28.75 \nL 624.02 7.2 \nL 602.47 7.2 \nL 602.47 28.75 \n\" style=\"fill:#d7efb3;\"/>\n    <path clip-path=\"url(#pce2af521af)\" d=\"M 624.02 28.75 \nL 645.57 28.75 \nL 645.57 7.2 \nL 624.02 7.2 \nL 624.02 28.75 \n\" style=\"fill:#edf8b2;\"/>\n    <path clip-path=\"url(#pce2af521af)\" d=\"M 645.57 28.75 \nL 667.12 28.75 \nL 667.12 7.2 \nL 645.57 7.2 \nL 645.57 28.75 \n\" style=\"fill:#e0f3b2;\"/>\n    <path clip-path=\"url(#pce2af521af)\" d=\"M 667.12 28.75 \nL 688.67 28.75 \nL 688.67 7.2 \nL 667.12 7.2 \nL 667.12 28.75 \n\" style=\"fill:#d7efb3;\"/>\n    <path clip-path=\"url(#pce2af521af)\" d=\"M 688.67 28.75 \nL 710.22 28.75 \nL 710.22 7.2 \nL 688.67 7.2 \nL 688.67 28.75 \n\" style=\"fill:#9cd8b8;\"/>\n    <path clip-path=\"url(#pce2af521af)\" d=\"M 710.22 28.75 \nL 731.77 28.75 \nL 731.77 7.2 \nL 710.22 7.2 \nL 710.22 28.75 \n\" style=\"fill:#f4fbc1;\"/>\n    <path clip-path=\"url(#pce2af521af)\" d=\"M 731.77 28.75 \nL 753.32 28.75 \nL 753.32 7.2 \nL 731.77 7.2 \nL 731.77 28.75 \n\" style=\"fill:#a7dcb7;\"/>\n    <path clip-path=\"url(#pce2af521af)\" d=\"M 753.32 28.75 \nL 774.87 28.75 \nL 774.87 7.2 \nL 753.32 7.2 \nL 753.32 28.75 \n\" style=\"fill:#eaf7b1;\"/>\n    <path clip-path=\"url(#pce2af521af)\" d=\"M 774.87 28.75 \nL 796.42 28.75 \nL 796.42 7.2 \nL 774.87 7.2 \nL 774.87 28.75 \n\" style=\"fill:#b2e1b6;\"/>\n    <path clip-path=\"url(#pce2af521af)\" d=\"M 796.42 28.75 \nL 817.97 28.75 \nL 817.97 7.2 \nL 796.42 7.2 \nL 796.42 28.75 \n\" style=\"fill:#e6f5b2;\"/>\n    <path clip-path=\"url(#pce2af521af)\" d=\"M 817.97 28.75 \nL 839.52 28.75 \nL 839.52 7.2 \nL 817.97 7.2 \nL 817.97 28.75 \n\" style=\"fill:#6fc7bd;\"/>\n    <path clip-path=\"url(#pce2af521af)\" d=\"M 839.52 28.75 \nL 861.07 28.75 \nL 861.07 7.2 \nL 839.52 7.2 \nL 839.52 28.75 \n\" style=\"fill:#e9f7b1;\"/>\n    <path clip-path=\"url(#pce2af521af)\" d=\"M 861.07 28.75 \nL 882.62 28.75 \nL 882.62 7.2 \nL 861.07 7.2 \nL 861.07 28.75 \n\" style=\"fill:#edf8b1;\"/>\n    <path clip-path=\"url(#pce2af521af)\" d=\"M 882.62 28.75 \nL 904.17 28.75 \nL 904.17 7.2 \nL 882.62 7.2 \nL 882.62 28.75 \n\" style=\"fill:#caeab4;\"/>\n    <path clip-path=\"url(#pce2af521af)\" d=\"M 904.17 28.75 \nL 925.72 28.75 \nL 925.72 7.2 \nL 904.17 7.2 \nL 904.17 28.75 \n\" style=\"fill:#aedfb6;\"/>\n    <path clip-path=\"url(#pce2af521af)\" d=\"M 925.72 28.75 \nL 947.27 28.75 \nL 947.27 7.2 \nL 925.72 7.2 \nL 925.72 28.75 \n\" style=\"fill:#9cd8b8;\"/>\n    <path clip-path=\"url(#pce2af521af)\" d=\"M 947.27 28.75 \nL 968.82 28.75 \nL 968.82 7.2 \nL 947.27 7.2 \nL 947.27 28.75 \n\" style=\"fill:#97d6b9;\"/>\n    <path clip-path=\"url(#pce2af521af)\" d=\"M 968.82 28.75 \nL 990.37 28.75 \nL 990.37 7.2 \nL 968.82 7.2 \nL 968.82 28.75 \n\" style=\"fill:#e6f5b2;\"/>\n    <path clip-path=\"url(#pce2af521af)\" d=\"M 990.37 28.75 \nL 1011.92 28.75 \nL 1011.92 7.2 \nL 990.37 7.2 \nL 990.37 28.75 \n\" style=\"fill:#d7efb3;\"/>\n    <path clip-path=\"url(#pce2af521af)\" d=\"M 1011.92 28.75 \nL 1033.47 28.75 \nL 1033.47 7.2 \nL 1011.92 7.2 \nL 1011.92 28.75 \n\" style=\"fill:#dff2b2;\"/>\n    <path clip-path=\"url(#pce2af521af)\" d=\"M 1033.47 28.75 \nL 1055.02 28.75 \nL 1055.02 7.2 \nL 1033.47 7.2 \nL 1033.47 28.75 \n\" style=\"fill:#d9f0b3;\"/>\n    <path clip-path=\"url(#pce2af521af)\" d=\"M 1055.02 28.75 \nL 1076.57 28.75 \nL 1076.57 7.2 \nL 1055.02 7.2 \nL 1055.02 28.75 \n\" style=\"fill:#7cccbb;\"/>\n    <path clip-path=\"url(#pce2af521af)\" d=\"M 1076.57 28.75 \nL 1098.12 28.75 \nL 1098.12 7.2 \nL 1076.57 7.2 \nL 1076.57 28.75 \n\" style=\"fill:#f8fcc9;\"/>\n    <path clip-path=\"url(#pce2af521af)\" d=\"M 1098.12 28.75 \nL 1119.67 28.75 \nL 1119.67 7.2 \nL 1098.12 7.2 \nL 1098.12 28.75 \n\" style=\"fill:#f8fcc9;\"/>\n    <path clip-path=\"url(#pce2af521af)\" d=\"M 1119.67 28.75 \nL 1141.22 28.75 \nL 1141.22 7.2 \nL 1119.67 7.2 \nL 1119.67 28.75 \n\" style=\"fill:#fcfed3;\"/>\n    <path clip-path=\"url(#pce2af521af)\" d=\"M 1141.22 28.75 \nL 1162.77 28.75 \nL 1162.77 7.2 \nL 1141.22 7.2 \nL 1141.22 28.75 \n\" style=\"fill:none;\"/>\n    <path clip-path=\"url(#pce2af521af)\" d=\"M 1162.77 28.75 \nL 1184.32 28.75 \nL 1184.32 7.2 \nL 1162.77 7.2 \nL 1162.77 28.75 \n\" style=\"fill:none;\"/>\n   </g>\n   <g id=\"matplotlib.axis_1\">\n    <g id=\"xtick_1\">\n     <g id=\"line2d_1\"/>\n     <g id=\"text_1\">\n      <!-- Jan -->\n      <g transform=\"translate(88.337187 169.148438)scale(0.1 -0.1)\">\n       <defs>\n        <path d=\"M 9.8125 72.90625 \nL 19.671875 72.90625 \nL 19.671875 5.078125 \nQ 19.671875 -8.109375 14.671875 -14.0625 \nQ 9.671875 -20.015625 -1.421875 -20.015625 \nL -5.171875 -20.015625 \nL -5.171875 -11.71875 \nL -2.09375 -11.71875 \nQ 4.4375 -11.71875 7.125 -8.046875 \nQ 9.8125 -4.390625 9.8125 5.078125 \nz\n\" id=\"DejaVuSans-74\"/>\n        <path d=\"M 34.28125 27.484375 \nQ 23.390625 27.484375 19.1875 25 \nQ 14.984375 22.515625 14.984375 16.5 \nQ 14.984375 11.71875 18.140625 8.90625 \nQ 21.296875 6.109375 26.703125 6.109375 \nQ 34.1875 6.109375 38.703125 11.40625 \nQ 43.21875 16.703125 43.21875 25.484375 \nL 43.21875 27.484375 \nz\nM 52.203125 31.203125 \nL 52.203125 0 \nL 43.21875 0 \nL 43.21875 8.296875 \nQ 40.140625 3.328125 35.546875 0.953125 \nQ 30.953125 -1.421875 24.3125 -1.421875 \nQ 15.921875 -1.421875 10.953125 3.296875 \nQ 6 8.015625 6 15.921875 \nQ 6 25.140625 12.171875 29.828125 \nQ 18.359375 34.515625 30.609375 34.515625 \nL 43.21875 34.515625 \nL 43.21875 35.40625 \nQ 43.21875 41.609375 39.140625 45 \nQ 35.0625 48.390625 27.6875 48.390625 \nQ 23 48.390625 18.546875 47.265625 \nQ 14.109375 46.140625 10.015625 43.890625 \nL 10.015625 52.203125 \nQ 14.9375 54.109375 19.578125 55.046875 \nQ 24.21875 56 28.609375 56 \nQ 40.484375 56 46.34375 49.84375 \nQ 52.203125 43.703125 52.203125 31.203125 \nz\n\" id=\"DejaVuSans-97\"/>\n        <path d=\"M 54.890625 33.015625 \nL 54.890625 0 \nL 45.90625 0 \nL 45.90625 32.71875 \nQ 45.90625 40.484375 42.875 44.328125 \nQ 39.84375 48.1875 33.796875 48.1875 \nQ 26.515625 48.1875 22.3125 43.546875 \nQ 18.109375 38.921875 18.109375 30.90625 \nL 18.109375 0 \nL 9.078125 0 \nL 9.078125 54.6875 \nL 18.109375 54.6875 \nL 18.109375 46.1875 \nQ 21.34375 51.125 25.703125 53.5625 \nQ 30.078125 56 35.796875 56 \nQ 45.21875 56 50.046875 50.171875 \nQ 54.890625 44.34375 54.890625 33.015625 \nz\n\" id=\"DejaVuSans-110\"/>\n       </defs>\n       <use xlink:href=\"#DejaVuSans-74\"/>\n       <use x=\"29.492188\" xlink:href=\"#DejaVuSans-97\"/>\n       <use x=\"90.771484\" xlink:href=\"#DejaVuSans-110\"/>\n      </g>\n     </g>\n    </g>\n    <g id=\"xtick_2\">\n     <g id=\"line2d_2\"/>\n     <g id=\"text_2\">\n      <!-- Feb -->\n      <g transform=\"translate(173.393438 169.148438)scale(0.1 -0.1)\">\n       <defs>\n        <path d=\"M 9.8125 72.90625 \nL 51.703125 72.90625 \nL 51.703125 64.59375 \nL 19.671875 64.59375 \nL 19.671875 43.109375 \nL 48.578125 43.109375 \nL 48.578125 34.8125 \nL 19.671875 34.8125 \nL 19.671875 0 \nL 9.8125 0 \nz\n\" id=\"DejaVuSans-70\"/>\n        <path d=\"M 56.203125 29.59375 \nL 56.203125 25.203125 \nL 14.890625 25.203125 \nQ 15.484375 15.921875 20.484375 11.0625 \nQ 25.484375 6.203125 34.421875 6.203125 \nQ 39.59375 6.203125 44.453125 7.46875 \nQ 49.3125 8.734375 54.109375 11.28125 \nL 54.109375 2.78125 \nQ 49.265625 0.734375 44.1875 -0.34375 \nQ 39.109375 -1.421875 33.890625 -1.421875 \nQ 20.796875 -1.421875 13.15625 6.1875 \nQ 5.515625 13.8125 5.515625 26.8125 \nQ 5.515625 40.234375 12.765625 48.109375 \nQ 20.015625 56 32.328125 56 \nQ 43.359375 56 49.78125 48.890625 \nQ 56.203125 41.796875 56.203125 29.59375 \nz\nM 47.21875 32.234375 \nQ 47.125 39.59375 43.09375 43.984375 \nQ 39.0625 48.390625 32.421875 48.390625 \nQ 24.90625 48.390625 20.390625 44.140625 \nQ 15.875 39.890625 15.1875 32.171875 \nz\n\" id=\"DejaVuSans-101\"/>\n        <path d=\"M 48.6875 27.296875 \nQ 48.6875 37.203125 44.609375 42.84375 \nQ 40.53125 48.484375 33.40625 48.484375 \nQ 26.265625 48.484375 22.1875 42.84375 \nQ 18.109375 37.203125 18.109375 27.296875 \nQ 18.109375 17.390625 22.1875 11.75 \nQ 26.265625 6.109375 33.40625 6.109375 \nQ 40.53125 6.109375 44.609375 11.75 \nQ 48.6875 17.390625 48.6875 27.296875 \nz\nM 18.109375 46.390625 \nQ 20.953125 51.265625 25.265625 53.625 \nQ 29.59375 56 35.59375 56 \nQ 45.5625 56 51.78125 48.09375 \nQ 58.015625 40.1875 58.015625 27.296875 \nQ 58.015625 14.40625 51.78125 6.484375 \nQ 45.5625 -1.421875 35.59375 -1.421875 \nQ 29.59375 -1.421875 25.265625 0.953125 \nQ 20.953125 3.328125 18.109375 8.203125 \nL 18.109375 0 \nL 9.078125 0 \nL 9.078125 75.984375 \nL 18.109375 75.984375 \nz\n\" id=\"DejaVuSans-98\"/>\n       </defs>\n       <use xlink:href=\"#DejaVuSans-70\"/>\n       <use x=\"52.019531\" xlink:href=\"#DejaVuSans-101\"/>\n       <use x=\"113.542969\" xlink:href=\"#DejaVuSans-98\"/>\n      </g>\n     </g>\n    </g>\n    <g id=\"xtick_3\">\n     <g id=\"line2d_3\"/>\n     <g id=\"text_3\">\n      <!-- Mar -->\n      <g transform=\"translate(269.786406 169.148438)scale(0.1 -0.1)\">\n       <defs>\n        <path d=\"M 9.8125 72.90625 \nL 24.515625 72.90625 \nL 43.109375 23.296875 \nL 61.8125 72.90625 \nL 76.515625 72.90625 \nL 76.515625 0 \nL 66.890625 0 \nL 66.890625 64.015625 \nL 48.09375 14.015625 \nL 38.1875 14.015625 \nL 19.390625 64.015625 \nL 19.390625 0 \nL 9.8125 0 \nz\n\" id=\"DejaVuSans-77\"/>\n        <path d=\"M 41.109375 46.296875 \nQ 39.59375 47.171875 37.8125 47.578125 \nQ 36.03125 48 33.890625 48 \nQ 26.265625 48 22.1875 43.046875 \nQ 18.109375 38.09375 18.109375 28.8125 \nL 18.109375 0 \nL 9.078125 0 \nL 9.078125 54.6875 \nL 18.109375 54.6875 \nL 18.109375 46.1875 \nQ 20.953125 51.171875 25.484375 53.578125 \nQ 30.03125 56 36.53125 56 \nQ 37.453125 56 38.578125 55.875 \nQ 39.703125 55.765625 41.0625 55.515625 \nz\n\" id=\"DejaVuSans-114\"/>\n       </defs>\n       <use xlink:href=\"#DejaVuSans-77\"/>\n       <use x=\"86.279297\" xlink:href=\"#DejaVuSans-97\"/>\n       <use x=\"147.558594\" xlink:href=\"#DejaVuSans-114\"/>\n      </g>\n     </g>\n    </g>\n    <g id=\"xtick_4\">\n     <g id=\"line2d_4\"/>\n     <g id=\"text_4\">\n      <!-- Apr -->\n      <g transform=\"translate(367.545 169.148438)scale(0.1 -0.1)\">\n       <defs>\n        <path d=\"M 34.1875 63.1875 \nL 20.796875 26.90625 \nL 47.609375 26.90625 \nz\nM 28.609375 72.90625 \nL 39.796875 72.90625 \nL 67.578125 0 \nL 57.328125 0 \nL 50.6875 18.703125 \nL 17.828125 18.703125 \nL 11.1875 0 \nL 0.78125 0 \nz\n\" id=\"DejaVuSans-65\"/>\n        <path d=\"M 18.109375 8.203125 \nL 18.109375 -20.796875 \nL 9.078125 -20.796875 \nL 9.078125 54.6875 \nL 18.109375 54.6875 \nL 18.109375 46.390625 \nQ 20.953125 51.265625 25.265625 53.625 \nQ 29.59375 56 35.59375 56 \nQ 45.5625 56 51.78125 48.09375 \nQ 58.015625 40.1875 58.015625 27.296875 \nQ 58.015625 14.40625 51.78125 6.484375 \nQ 45.5625 -1.421875 35.59375 -1.421875 \nQ 29.59375 -1.421875 25.265625 0.953125 \nQ 20.953125 3.328125 18.109375 8.203125 \nz\nM 48.6875 27.296875 \nQ 48.6875 37.203125 44.609375 42.84375 \nQ 40.53125 48.484375 33.40625 48.484375 \nQ 26.265625 48.484375 22.1875 42.84375 \nQ 18.109375 37.203125 18.109375 27.296875 \nQ 18.109375 17.390625 22.1875 11.75 \nQ 26.265625 6.109375 33.40625 6.109375 \nQ 40.53125 6.109375 44.609375 11.75 \nQ 48.6875 17.390625 48.6875 27.296875 \nz\n\" id=\"DejaVuSans-112\"/>\n       </defs>\n       <use xlink:href=\"#DejaVuSans-65\"/>\n       <use x=\"68.408203\" xlink:href=\"#DejaVuSans-112\"/>\n       <use x=\"131.884766\" xlink:href=\"#DejaVuSans-114\"/>\n      </g>\n     </g>\n    </g>\n    <g id=\"xtick_5\">\n     <g id=\"line2d_5\"/>\n     <g id=\"text_5\">\n      <!-- May -->\n      <g transform=\"translate(452.0575 169.148438)scale(0.1 -0.1)\">\n       <defs>\n        <path d=\"M 32.171875 -5.078125 \nQ 28.375 -14.84375 24.75 -17.8125 \nQ 21.140625 -20.796875 15.09375 -20.796875 \nL 7.90625 -20.796875 \nL 7.90625 -13.28125 \nL 13.1875 -13.28125 \nQ 16.890625 -13.28125 18.9375 -11.515625 \nQ 21 -9.765625 23.484375 -3.21875 \nL 25.09375 0.875 \nL 2.984375 54.6875 \nL 12.5 54.6875 \nL 29.59375 11.921875 \nL 46.6875 54.6875 \nL 56.203125 54.6875 \nz\n\" id=\"DejaVuSans-121\"/>\n       </defs>\n       <use xlink:href=\"#DejaVuSans-77\"/>\n       <use x=\"86.279297\" xlink:href=\"#DejaVuSans-97\"/>\n       <use x=\"147.558594\" xlink:href=\"#DejaVuSans-121\"/>\n      </g>\n     </g>\n    </g>\n    <g id=\"xtick_6\">\n     <g id=\"line2d_6\"/>\n     <g id=\"text_6\">\n      <!-- Jun -->\n      <g transform=\"translate(562.3325 169.148438)scale(0.1 -0.1)\">\n       <defs>\n        <path d=\"M 8.5 21.578125 \nL 8.5 54.6875 \nL 17.484375 54.6875 \nL 17.484375 21.921875 \nQ 17.484375 14.15625 20.5 10.265625 \nQ 23.53125 6.390625 29.59375 6.390625 \nQ 36.859375 6.390625 41.078125 11.03125 \nQ 45.3125 15.671875 45.3125 23.6875 \nL 45.3125 54.6875 \nL 54.296875 54.6875 \nL 54.296875 0 \nL 45.3125 0 \nL 45.3125 8.40625 \nQ 42.046875 3.421875 37.71875 1 \nQ 33.40625 -1.421875 27.6875 -1.421875 \nQ 18.265625 -1.421875 13.375 4.4375 \nQ 8.5 10.296875 8.5 21.578125 \nz\nM 31.109375 56 \nz\n\" id=\"DejaVuSans-117\"/>\n       </defs>\n       <use xlink:href=\"#DejaVuSans-74\"/>\n       <use x=\"29.492188\" xlink:href=\"#DejaVuSans-117\"/>\n       <use x=\"92.871094\" xlink:href=\"#DejaVuSans-110\"/>\n      </g>\n     </g>\n    </g>\n    <g id=\"xtick_7\">\n     <g id=\"line2d_7\"/>\n     <g id=\"text_7\">\n      <!-- Jul -->\n      <g transform=\"translate(650.312187 169.148438)scale(0.1 -0.1)\">\n       <defs>\n        <path d=\"M 9.421875 75.984375 \nL 18.40625 75.984375 \nL 18.40625 0 \nL 9.421875 0 \nz\n\" id=\"DejaVuSans-108\"/>\n       </defs>\n       <use xlink:href=\"#DejaVuSans-74\"/>\n       <use x=\"29.492188\" xlink:href=\"#DejaVuSans-117\"/>\n       <use x=\"92.871094\" xlink:href=\"#DejaVuSans-108\"/>\n      </g>\n     </g>\n    </g>\n    <g id=\"xtick_8\">\n     <g id=\"line2d_8\"/>\n     <g id=\"text_8\">\n      <!-- Aug -->\n      <g transform=\"translate(743.556719 169.148438)scale(0.1 -0.1)\">\n       <defs>\n        <path d=\"M 45.40625 27.984375 \nQ 45.40625 37.75 41.375 43.109375 \nQ 37.359375 48.484375 30.078125 48.484375 \nQ 22.859375 48.484375 18.828125 43.109375 \nQ 14.796875 37.75 14.796875 27.984375 \nQ 14.796875 18.265625 18.828125 12.890625 \nQ 22.859375 7.515625 30.078125 7.515625 \nQ 37.359375 7.515625 41.375 12.890625 \nQ 45.40625 18.265625 45.40625 27.984375 \nz\nM 54.390625 6.78125 \nQ 54.390625 -7.171875 48.1875 -13.984375 \nQ 42 -20.796875 29.203125 -20.796875 \nQ 24.46875 -20.796875 20.265625 -20.09375 \nQ 16.0625 -19.390625 12.109375 -17.921875 \nL 12.109375 -9.1875 \nQ 16.0625 -11.328125 19.921875 -12.34375 \nQ 23.78125 -13.375 27.78125 -13.375 \nQ 36.625 -13.375 41.015625 -8.765625 \nQ 45.40625 -4.15625 45.40625 5.171875 \nL 45.40625 9.625 \nQ 42.625 4.78125 38.28125 2.390625 \nQ 33.9375 0 27.875 0 \nQ 17.828125 0 11.671875 7.65625 \nQ 5.515625 15.328125 5.515625 27.984375 \nQ 5.515625 40.671875 11.671875 48.328125 \nQ 17.828125 56 27.875 56 \nQ 33.9375 56 38.28125 53.609375 \nQ 42.625 51.21875 45.40625 46.390625 \nL 45.40625 54.6875 \nL 54.390625 54.6875 \nz\n\" id=\"DejaVuSans-103\"/>\n       </defs>\n       <use xlink:href=\"#DejaVuSans-65\"/>\n       <use x=\"68.408203\" xlink:href=\"#DejaVuSans-117\"/>\n       <use x=\"131.787109\" xlink:href=\"#DejaVuSans-103\"/>\n      </g>\n     </g>\n    </g>\n    <g id=\"xtick_9\">\n     <g id=\"line2d_9\"/>\n     <g id=\"text_9\">\n      <!-- Sep -->\n      <g transform=\"translate(840.87 169.148438)scale(0.1 -0.1)\">\n       <defs>\n        <path d=\"M 53.515625 70.515625 \nL 53.515625 60.890625 \nQ 47.90625 63.578125 42.921875 64.890625 \nQ 37.9375 66.21875 33.296875 66.21875 \nQ 25.25 66.21875 20.875 63.09375 \nQ 16.5 59.96875 16.5 54.203125 \nQ 16.5 49.359375 19.40625 46.890625 \nQ 22.3125 44.4375 30.421875 42.921875 \nL 36.375 41.703125 \nQ 47.40625 39.59375 52.65625 34.296875 \nQ 57.90625 29 57.90625 20.125 \nQ 57.90625 9.515625 50.796875 4.046875 \nQ 43.703125 -1.421875 29.984375 -1.421875 \nQ 24.8125 -1.421875 18.96875 -0.25 \nQ 13.140625 0.921875 6.890625 3.21875 \nL 6.890625 13.375 \nQ 12.890625 10.015625 18.65625 8.296875 \nQ 24.421875 6.59375 29.984375 6.59375 \nQ 38.421875 6.59375 43.015625 9.90625 \nQ 47.609375 13.234375 47.609375 19.390625 \nQ 47.609375 24.75 44.3125 27.78125 \nQ 41.015625 30.8125 33.5 32.328125 \nL 27.484375 33.5 \nQ 16.453125 35.6875 11.515625 40.375 \nQ 6.59375 45.0625 6.59375 53.421875 \nQ 6.59375 63.09375 13.40625 68.65625 \nQ 20.21875 74.21875 32.171875 74.21875 \nQ 37.3125 74.21875 42.625 73.28125 \nQ 47.953125 72.359375 53.515625 70.515625 \nz\n\" id=\"DejaVuSans-83\"/>\n       </defs>\n       <use xlink:href=\"#DejaVuSans-83\"/>\n       <use x=\"63.476562\" xlink:href=\"#DejaVuSans-101\"/>\n       <use x=\"125\" xlink:href=\"#DejaVuSans-112\"/>\n      </g>\n     </g>\n    </g>\n    <g id=\"xtick_10\">\n     <g id=\"line2d_10\"/>\n     <g id=\"text_10\">\n      <!-- Oct -->\n      <g transform=\"translate(927.849687 169.148438)scale(0.1 -0.1)\">\n       <defs>\n        <path d=\"M 39.40625 66.21875 \nQ 28.65625 66.21875 22.328125 58.203125 \nQ 16.015625 50.203125 16.015625 36.375 \nQ 16.015625 22.609375 22.328125 14.59375 \nQ 28.65625 6.59375 39.40625 6.59375 \nQ 50.140625 6.59375 56.421875 14.59375 \nQ 62.703125 22.609375 62.703125 36.375 \nQ 62.703125 50.203125 56.421875 58.203125 \nQ 50.140625 66.21875 39.40625 66.21875 \nz\nM 39.40625 74.21875 \nQ 54.734375 74.21875 63.90625 63.9375 \nQ 73.09375 53.65625 73.09375 36.375 \nQ 73.09375 19.140625 63.90625 8.859375 \nQ 54.734375 -1.421875 39.40625 -1.421875 \nQ 24.03125 -1.421875 14.8125 8.828125 \nQ 5.609375 19.09375 5.609375 36.375 \nQ 5.609375 53.65625 14.8125 63.9375 \nQ 24.03125 74.21875 39.40625 74.21875 \nz\n\" id=\"DejaVuSans-79\"/>\n        <path d=\"M 48.78125 52.59375 \nL 48.78125 44.1875 \nQ 44.96875 46.296875 41.140625 47.34375 \nQ 37.3125 48.390625 33.40625 48.390625 \nQ 24.65625 48.390625 19.8125 42.84375 \nQ 14.984375 37.3125 14.984375 27.296875 \nQ 14.984375 17.28125 19.8125 11.734375 \nQ 24.65625 6.203125 33.40625 6.203125 \nQ 37.3125 6.203125 41.140625 7.25 \nQ 44.96875 8.296875 48.78125 10.40625 \nL 48.78125 2.09375 \nQ 45.015625 0.34375 40.984375 -0.53125 \nQ 36.96875 -1.421875 32.421875 -1.421875 \nQ 20.0625 -1.421875 12.78125 6.34375 \nQ 5.515625 14.109375 5.515625 27.296875 \nQ 5.515625 40.671875 12.859375 48.328125 \nQ 20.21875 56 33.015625 56 \nQ 37.15625 56 41.109375 55.140625 \nQ 45.0625 54.296875 48.78125 52.59375 \nz\n\" id=\"DejaVuSans-99\"/>\n        <path d=\"M 18.3125 70.21875 \nL 18.3125 54.6875 \nL 36.8125 54.6875 \nL 36.8125 47.703125 \nL 18.3125 47.703125 \nL 18.3125 18.015625 \nQ 18.3125 11.328125 20.140625 9.421875 \nQ 21.96875 7.515625 27.59375 7.515625 \nL 36.8125 7.515625 \nL 36.8125 0 \nL 27.59375 0 \nQ 17.1875 0 13.234375 3.875 \nQ 9.28125 7.765625 9.28125 18.015625 \nL 9.28125 47.703125 \nL 2.6875 47.703125 \nL 2.6875 54.6875 \nL 9.28125 54.6875 \nL 9.28125 70.21875 \nz\n\" id=\"DejaVuSans-116\"/>\n       </defs>\n       <use xlink:href=\"#DejaVuSans-79\"/>\n       <use x=\"78.710938\" xlink:href=\"#DejaVuSans-99\"/>\n       <use x=\"133.691406\" xlink:href=\"#DejaVuSans-116\"/>\n      </g>\n     </g>\n    </g>\n    <g id=\"xtick_11\">\n     <g id=\"line2d_11\"/>\n     <g id=\"text_11\">\n      <!-- Nov -->\n      <g transform=\"translate(1023.710625 169.148438)scale(0.1 -0.1)\">\n       <defs>\n        <path d=\"M 9.8125 72.90625 \nL 23.09375 72.90625 \nL 55.421875 11.921875 \nL 55.421875 72.90625 \nL 64.984375 72.90625 \nL 64.984375 0 \nL 51.703125 0 \nL 19.390625 60.984375 \nL 19.390625 0 \nL 9.8125 0 \nz\n\" id=\"DejaVuSans-78\"/>\n        <path d=\"M 30.609375 48.390625 \nQ 23.390625 48.390625 19.1875 42.75 \nQ 14.984375 37.109375 14.984375 27.296875 \nQ 14.984375 17.484375 19.15625 11.84375 \nQ 23.34375 6.203125 30.609375 6.203125 \nQ 37.796875 6.203125 41.984375 11.859375 \nQ 46.1875 17.53125 46.1875 27.296875 \nQ 46.1875 37.015625 41.984375 42.703125 \nQ 37.796875 48.390625 30.609375 48.390625 \nz\nM 30.609375 56 \nQ 42.328125 56 49.015625 48.375 \nQ 55.71875 40.765625 55.71875 27.296875 \nQ 55.71875 13.875 49.015625 6.21875 \nQ 42.328125 -1.421875 30.609375 -1.421875 \nQ 18.84375 -1.421875 12.171875 6.21875 \nQ 5.515625 13.875 5.515625 27.296875 \nQ 5.515625 40.765625 12.171875 48.375 \nQ 18.84375 56 30.609375 56 \nz\n\" id=\"DejaVuSans-111\"/>\n        <path d=\"M 2.984375 54.6875 \nL 12.5 54.6875 \nL 29.59375 8.796875 \nL 46.6875 54.6875 \nL 56.203125 54.6875 \nL 35.6875 0 \nL 23.484375 0 \nz\n\" id=\"DejaVuSans-118\"/>\n       </defs>\n       <use xlink:href=\"#DejaVuSans-78\"/>\n       <use x=\"74.804688\" xlink:href=\"#DejaVuSans-111\"/>\n       <use x=\"135.986328\" xlink:href=\"#DejaVuSans-118\"/>\n      </g>\n     </g>\n    </g>\n    <g id=\"xtick_12\">\n     <g id=\"line2d_12\"/>\n     <g id=\"text_12\">\n      <!-- Dec -->\n      <g transform=\"translate(1120.769219 169.148438)scale(0.1 -0.1)\">\n       <defs>\n        <path d=\"M 19.671875 64.796875 \nL 19.671875 8.109375 \nL 31.59375 8.109375 \nQ 46.6875 8.109375 53.6875 14.9375 \nQ 60.6875 21.78125 60.6875 36.53125 \nQ 60.6875 51.171875 53.6875 57.984375 \nQ 46.6875 64.796875 31.59375 64.796875 \nz\nM 9.8125 72.90625 \nL 30.078125 72.90625 \nQ 51.265625 72.90625 61.171875 64.09375 \nQ 71.09375 55.28125 71.09375 36.53125 \nQ 71.09375 17.671875 61.125 8.828125 \nQ 51.171875 0 30.078125 0 \nL 9.8125 0 \nz\n\" id=\"DejaVuSans-68\"/>\n       </defs>\n       <use xlink:href=\"#DejaVuSans-68\"/>\n       <use x=\"77.001953\" xlink:href=\"#DejaVuSans-101\"/>\n       <use x=\"138.525391\" xlink:href=\"#DejaVuSans-99\"/>\n      </g>\n     </g>\n    </g>\n   </g>\n   <g id=\"matplotlib.axis_2\">\n    <g id=\"ytick_1\">\n     <g id=\"line2d_13\"/>\n     <g id=\"text_13\">\n      <!-- Mon -->\n      <g transform=\"translate(1187.82 20.734375)scale(0.1 -0.1)\">\n       <use xlink:href=\"#DejaVuSans-77\"/>\n       <use x=\"86.279297\" xlink:href=\"#DejaVuSans-111\"/>\n       <use x=\"147.460938\" xlink:href=\"#DejaVuSans-110\"/>\n      </g>\n     </g>\n    </g>\n    <g id=\"ytick_2\">\n     <g id=\"line2d_14\"/>\n     <g id=\"text_14\">\n      <!-- Tue -->\n      <g transform=\"translate(1187.82 42.284375)scale(0.1 -0.1)\">\n       <defs>\n        <path d=\"M -0.296875 72.90625 \nL 61.375 72.90625 \nL 61.375 64.59375 \nL 35.5 64.59375 \nL 35.5 0 \nL 25.59375 0 \nL 25.59375 64.59375 \nL -0.296875 64.59375 \nz\n\" id=\"DejaVuSans-84\"/>\n       </defs>\n       <use xlink:href=\"#DejaVuSans-84\"/>\n       <use x=\"45.958984\" xlink:href=\"#DejaVuSans-117\"/>\n       <use x=\"109.337891\" xlink:href=\"#DejaVuSans-101\"/>\n      </g>\n     </g>\n    </g>\n    <g id=\"ytick_3\">\n     <g id=\"line2d_15\"/>\n     <g id=\"text_15\">\n      <!-- Wed -->\n      <g transform=\"translate(1187.82 63.834375)scale(0.1 -0.1)\">\n       <defs>\n        <path d=\"M 3.328125 72.90625 \nL 13.28125 72.90625 \nL 28.609375 11.28125 \nL 43.890625 72.90625 \nL 54.984375 72.90625 \nL 70.3125 11.28125 \nL 85.59375 72.90625 \nL 95.609375 72.90625 \nL 77.296875 0 \nL 64.890625 0 \nL 49.515625 63.28125 \nL 33.984375 0 \nL 21.578125 0 \nz\n\" id=\"DejaVuSans-87\"/>\n        <path d=\"M 45.40625 46.390625 \nL 45.40625 75.984375 \nL 54.390625 75.984375 \nL 54.390625 0 \nL 45.40625 0 \nL 45.40625 8.203125 \nQ 42.578125 3.328125 38.25 0.953125 \nQ 33.9375 -1.421875 27.875 -1.421875 \nQ 17.96875 -1.421875 11.734375 6.484375 \nQ 5.515625 14.40625 5.515625 27.296875 \nQ 5.515625 40.1875 11.734375 48.09375 \nQ 17.96875 56 27.875 56 \nQ 33.9375 56 38.25 53.625 \nQ 42.578125 51.265625 45.40625 46.390625 \nz\nM 14.796875 27.296875 \nQ 14.796875 17.390625 18.875 11.75 \nQ 22.953125 6.109375 30.078125 6.109375 \nQ 37.203125 6.109375 41.296875 11.75 \nQ 45.40625 17.390625 45.40625 27.296875 \nQ 45.40625 37.203125 41.296875 42.84375 \nQ 37.203125 48.484375 30.078125 48.484375 \nQ 22.953125 48.484375 18.875 42.84375 \nQ 14.796875 37.203125 14.796875 27.296875 \nz\n\" id=\"DejaVuSans-100\"/>\n       </defs>\n       <use xlink:href=\"#DejaVuSans-87\"/>\n       <use x=\"93.001953\" xlink:href=\"#DejaVuSans-101\"/>\n       <use x=\"154.525391\" xlink:href=\"#DejaVuSans-100\"/>\n      </g>\n     </g>\n    </g>\n    <g id=\"ytick_4\">\n     <g id=\"line2d_16\"/>\n     <g id=\"text_16\">\n      <!-- Thu -->\n      <g transform=\"translate(1187.82 85.384375)scale(0.1 -0.1)\">\n       <defs>\n        <path d=\"M 54.890625 33.015625 \nL 54.890625 0 \nL 45.90625 0 \nL 45.90625 32.71875 \nQ 45.90625 40.484375 42.875 44.328125 \nQ 39.84375 48.1875 33.796875 48.1875 \nQ 26.515625 48.1875 22.3125 43.546875 \nQ 18.109375 38.921875 18.109375 30.90625 \nL 18.109375 0 \nL 9.078125 0 \nL 9.078125 75.984375 \nL 18.109375 75.984375 \nL 18.109375 46.1875 \nQ 21.34375 51.125 25.703125 53.5625 \nQ 30.078125 56 35.796875 56 \nQ 45.21875 56 50.046875 50.171875 \nQ 54.890625 44.34375 54.890625 33.015625 \nz\n\" id=\"DejaVuSans-104\"/>\n       </defs>\n       <use xlink:href=\"#DejaVuSans-84\"/>\n       <use x=\"61.083984\" xlink:href=\"#DejaVuSans-104\"/>\n       <use x=\"124.462891\" xlink:href=\"#DejaVuSans-117\"/>\n      </g>\n     </g>\n    </g>\n    <g id=\"ytick_5\">\n     <g id=\"line2d_17\"/>\n     <g id=\"text_17\">\n      <!-- Fri -->\n      <g transform=\"translate(1187.82 106.934375)scale(0.1 -0.1)\">\n       <defs>\n        <path d=\"M 9.421875 54.6875 \nL 18.40625 54.6875 \nL 18.40625 0 \nL 9.421875 0 \nz\nM 9.421875 75.984375 \nL 18.40625 75.984375 \nL 18.40625 64.59375 \nL 9.421875 64.59375 \nz\n\" id=\"DejaVuSans-105\"/>\n       </defs>\n       <use xlink:href=\"#DejaVuSans-70\"/>\n       <use x=\"50.269531\" xlink:href=\"#DejaVuSans-114\"/>\n       <use x=\"91.382812\" xlink:href=\"#DejaVuSans-105\"/>\n      </g>\n     </g>\n    </g>\n    <g id=\"ytick_6\">\n     <g id=\"line2d_18\"/>\n     <g id=\"text_18\">\n      <!-- Sat -->\n      <g transform=\"translate(1187.82 128.484375)scale(0.1 -0.1)\">\n       <use xlink:href=\"#DejaVuSans-83\"/>\n       <use x=\"63.476562\" xlink:href=\"#DejaVuSans-97\"/>\n       <use x=\"124.755859\" xlink:href=\"#DejaVuSans-116\"/>\n      </g>\n     </g>\n    </g>\n    <g id=\"ytick_7\">\n     <g id=\"line2d_19\"/>\n     <g id=\"text_19\">\n      <!-- Sun -->\n      <g transform=\"translate(1187.82 150.034375)scale(0.1 -0.1)\">\n       <use xlink:href=\"#DejaVuSans-83\"/>\n       <use x=\"63.476562\" xlink:href=\"#DejaVuSans-117\"/>\n       <use x=\"126.855469\" xlink:href=\"#DejaVuSans-110\"/>\n      </g>\n     </g>\n    </g>\n    <g id=\"text_20\">\n     <!-- 2020 -->\n     <g style=\"fill:#f5f5f5;\" transform=\"translate(31.515 127.155)rotate(-90)scale(0.32 -0.32)\">\n      <defs>\n       <path d=\"M 28.8125 13.8125 \nL 60.890625 13.8125 \nL 60.890625 0 \nL 7.90625 0 \nL 7.90625 13.8125 \nL 34.515625 37.3125 \nQ 38.09375 40.53125 39.796875 43.609375 \nQ 41.5 46.6875 41.5 50 \nQ 41.5 55.125 38.0625 58.25 \nQ 34.625 61.375 28.90625 61.375 \nQ 24.515625 61.375 19.28125 59.5 \nQ 14.0625 57.625 8.109375 53.90625 \nL 8.109375 69.921875 \nQ 14.453125 72.015625 20.65625 73.109375 \nQ 26.859375 74.21875 32.8125 74.21875 \nQ 45.90625 74.21875 53.15625 68.453125 \nQ 60.40625 62.703125 60.40625 52.390625 \nQ 60.40625 46.4375 57.328125 41.28125 \nQ 54.25 36.140625 44.390625 27.484375 \nz\n\" id=\"DejaVuSans-Bold-50\"/>\n       <path d=\"M 46 36.53125 \nQ 46 50.203125 43.4375 55.78125 \nQ 40.875 61.375 34.8125 61.375 \nQ 28.765625 61.375 26.171875 55.78125 \nQ 23.578125 50.203125 23.578125 36.53125 \nQ 23.578125 22.703125 26.171875 17.03125 \nQ 28.765625 11.375 34.8125 11.375 \nQ 40.828125 11.375 43.40625 17.03125 \nQ 46 22.703125 46 36.53125 \nz\nM 64.796875 36.375 \nQ 64.796875 18.265625 56.984375 8.421875 \nQ 49.171875 -1.421875 34.8125 -1.421875 \nQ 20.40625 -1.421875 12.59375 8.421875 \nQ 4.78125 18.265625 4.78125 36.375 \nQ 4.78125 54.546875 12.59375 64.375 \nQ 20.40625 74.21875 34.8125 74.21875 \nQ 49.171875 74.21875 56.984375 64.375 \nQ 64.796875 54.546875 64.796875 36.375 \nz\n\" id=\"DejaVuSans-Bold-48\"/>\n      </defs>\n      <use xlink:href=\"#DejaVuSans-Bold-50\"/>\n      <use x=\"69.580078\" xlink:href=\"#DejaVuSans-Bold-48\"/>\n      <use x=\"139.160156\" xlink:href=\"#DejaVuSans-Bold-50\"/>\n      <use x=\"208.740234\" xlink:href=\"#DejaVuSans-Bold-48\"/>\n     </g>\n    </g>\n   </g>\n  </g>\n  <g id=\"axes_2\">\n   <g id=\"patch_3\">\n    <path clip-path=\"url(#p9bfb3df14d)\" d=\"M 42.17 296.6975 \nL 46.631523 296.6975 \nL 1179.858477 296.6975 \nL 1184.32 296.6975 \nL 1184.32 239.59 \nL 1179.858477 239.59 \nL 46.631523 239.59 \nL 42.17 239.59 \nz\n\" style=\"fill:#ffffff;stroke:#ffffff;stroke-linejoin:miter;stroke-width:0.01;\"/>\n   </g>\n   <image height=\"57\" id=\"image8c40348ffe\" transform=\"scale(1 -1)translate(0 -57)\" width=\"1142\" x=\"42\" xlink:href=\"data:image/png;base64,\niVBORw0KGgoAAAANSUhEUgAABHYAAAA5CAYAAABTcKwqAAADFklEQVR4nO3YSY7bQAwFUDn3v2AOYyuLZBGziC52wQnwgfd2alCsQW4N/3HfP+/rL/f1dvjH6+3ovruauxzVmtdV1T792LVm7bPUjOZ31me3rtEa2vnt+6x/a2ruuq7P9Jmd83683+H1nL7msa15jfp8v6ZdQ6lpr3iZc3vFJ302Y3c1J3sxWcP5XpT5NTV1zt0aXmU+z7bm67Fqj65PP/a+5ln362B+x33Kcb83+77PzTjjPkd72lyb7TmD+a0l6/9eM/bkWk3WsP4Gv9/neOz/uIblftGt8x+NPflNrtd8rVnuZ21NfZ43NWXSyz3weOw6zv453PX52F4s6xzszcleND/cj12rOp/Ji8tgAx+TB/zkhjZ4gD4mmzq56Mvr477v0TonP8rTdZ68cEzWOXnRGr3UTdawOeca7vtuL0b/+E3f0Q1kc87VXM/jF+XNnn7oOizzva6zPR28TK/fcut363p/626U9Vuu+xavfSdjD77pj/ssT/1vn9OPPZjfx/bi6zX8rvl6Pqdj/1j+AgAAAEAEwQ4AAABAKMEOAAAAQCjBDgAAAEAowQ4AAABAKMEOAAAAQCjBDgAAAEAowQ4AAABAKMEOAAAAQCjBDgAAAEAowQ4AAABAKMEOAAAAQCjBDgAAAEAowQ4AAABAKMEOAAAAQCjBDgAAAEAowQ4AAABAKMEOAAAAQCjBDgAAAEAowQ4AAABAKMEOAAAAQCjBDgAAAEAowQ4AAABAKMEOAAAAQCjBDgAAAEAowQ4AAABAKMEOAAAAQCjBDgAAAEAowQ4AAABAKMEOAAAAQCjBDgAAAEAowQ4AAABAKMEOAAAAQCjBDgAAAEAowQ4AAABAKMEOAAAAQCjBDgAAAEAowQ4AAABAKMEOAAAAQCjBDgAAAEAowQ4AAABAKMEOAAAAQCjBDgAAAEAowQ4AAABAKMEOAAAAQCjBDgAAAEAowQ4AAABAKMEOAAAAQCjBDgAAAEAowQ4AAABAKMEOAAAAQCjBDgAAAEAowQ4AAABAKMEOAAAAQCjBDgAAAEAowQ4AAABAqF+WLt/9zAMDrwAAAABJRU5ErkJggg==\" y=\"-239\"/>\n   <g id=\"matplotlib.axis_3\">\n    <g id=\"xtick_13\">\n     <g id=\"line2d_20\">\n      <defs>\n       <path d=\"M 0 0 \nL 0 3.5 \n\" id=\"mc17283eaeb\" style=\"stroke:#000000;stroke-width:0.8;\"/>\n      </defs>\n      <g>\n       <use style=\"stroke:#000000;stroke-width:0.8;\" x=\"42.17\" xlink:href=\"#mc17283eaeb\" y=\"296.6975\"/>\n      </g>\n     </g>\n     <g id=\"text_21\">\n      <!-- 0 -->\n      <g transform=\"translate(38.98875 311.295937)scale(0.1 -0.1)\">\n       <defs>\n        <path d=\"M 31.78125 66.40625 \nQ 24.171875 66.40625 20.328125 58.90625 \nQ 16.5 51.421875 16.5 36.375 \nQ 16.5 21.390625 20.328125 13.890625 \nQ 24.171875 6.390625 31.78125 6.390625 \nQ 39.453125 6.390625 43.28125 13.890625 \nQ 47.125 21.390625 47.125 36.375 \nQ 47.125 51.421875 43.28125 58.90625 \nQ 39.453125 66.40625 31.78125 66.40625 \nz\nM 31.78125 74.21875 \nQ 44.046875 74.21875 50.515625 64.515625 \nQ 56.984375 54.828125 56.984375 36.375 \nQ 56.984375 17.96875 50.515625 8.265625 \nQ 44.046875 -1.421875 31.78125 -1.421875 \nQ 19.53125 -1.421875 13.0625 8.265625 \nQ 6.59375 17.96875 6.59375 36.375 \nQ 6.59375 54.828125 13.0625 64.515625 \nQ 19.53125 74.21875 31.78125 74.21875 \nz\n\" id=\"DejaVuSans-48\"/>\n       </defs>\n       <use xlink:href=\"#DejaVuSans-48\"/>\n      </g>\n     </g>\n    </g>\n    <g id=\"xtick_14\">\n     <g id=\"line2d_21\">\n      <g>\n       <use style=\"stroke:#000000;stroke-width:0.8;\" x=\"287.772529\" xlink:href=\"#mc17283eaeb\" y=\"296.6975\"/>\n      </g>\n     </g>\n     <g id=\"text_22\">\n      <!-- 100 -->\n      <g transform=\"translate(278.228779 311.295937)scale(0.1 -0.1)\">\n       <defs>\n        <path d=\"M 12.40625 8.296875 \nL 28.515625 8.296875 \nL 28.515625 63.921875 \nL 10.984375 60.40625 \nL 10.984375 69.390625 \nL 28.421875 72.90625 \nL 38.28125 72.90625 \nL 38.28125 8.296875 \nL 54.390625 8.296875 \nL 54.390625 0 \nL 12.40625 0 \nz\n\" id=\"DejaVuSans-49\"/>\n       </defs>\n       <use xlink:href=\"#DejaVuSans-49\"/>\n       <use x=\"63.623047\" xlink:href=\"#DejaVuSans-48\"/>\n       <use x=\"127.246094\" xlink:href=\"#DejaVuSans-48\"/>\n      </g>\n     </g>\n    </g>\n    <g id=\"xtick_15\">\n     <g id=\"line2d_22\">\n      <g>\n       <use style=\"stroke:#000000;stroke-width:0.8;\" x=\"533.375058\" xlink:href=\"#mc17283eaeb\" y=\"296.6975\"/>\n      </g>\n     </g>\n     <g id=\"text_23\">\n      <!-- 200 -->\n      <g transform=\"translate(523.831308 311.295937)scale(0.1 -0.1)\">\n       <defs>\n        <path d=\"M 19.1875 8.296875 \nL 53.609375 8.296875 \nL 53.609375 0 \nL 7.328125 0 \nL 7.328125 8.296875 \nQ 12.9375 14.109375 22.625 23.890625 \nQ 32.328125 33.6875 34.8125 36.53125 \nQ 39.546875 41.84375 41.421875 45.53125 \nQ 43.3125 49.21875 43.3125 52.78125 \nQ 43.3125 58.59375 39.234375 62.25 \nQ 35.15625 65.921875 28.609375 65.921875 \nQ 23.96875 65.921875 18.8125 64.3125 \nQ 13.671875 62.703125 7.8125 59.421875 \nL 7.8125 69.390625 \nQ 13.765625 71.78125 18.9375 73 \nQ 24.125 74.21875 28.421875 74.21875 \nQ 39.75 74.21875 46.484375 68.546875 \nQ 53.21875 62.890625 53.21875 53.421875 \nQ 53.21875 48.921875 51.53125 44.890625 \nQ 49.859375 40.875 45.40625 35.40625 \nQ 44.1875 33.984375 37.640625 27.21875 \nQ 31.109375 20.453125 19.1875 8.296875 \nz\n\" id=\"DejaVuSans-50\"/>\n       </defs>\n       <use xlink:href=\"#DejaVuSans-50\"/>\n       <use x=\"63.623047\" xlink:href=\"#DejaVuSans-48\"/>\n       <use x=\"127.246094\" xlink:href=\"#DejaVuSans-48\"/>\n      </g>\n     </g>\n    </g>\n    <g id=\"xtick_16\">\n     <g id=\"line2d_23\">\n      <g>\n       <use style=\"stroke:#000000;stroke-width:0.8;\" x=\"778.977586\" xlink:href=\"#mc17283eaeb\" y=\"296.6975\"/>\n      </g>\n     </g>\n     <g id=\"text_24\">\n      <!-- 300 -->\n      <g transform=\"translate(769.433836 311.295937)scale(0.1 -0.1)\">\n       <defs>\n        <path d=\"M 40.578125 39.3125 \nQ 47.65625 37.796875 51.625 33 \nQ 55.609375 28.21875 55.609375 21.1875 \nQ 55.609375 10.40625 48.1875 4.484375 \nQ 40.765625 -1.421875 27.09375 -1.421875 \nQ 22.515625 -1.421875 17.65625 -0.515625 \nQ 12.796875 0.390625 7.625 2.203125 \nL 7.625 11.71875 \nQ 11.71875 9.328125 16.59375 8.109375 \nQ 21.484375 6.890625 26.8125 6.890625 \nQ 36.078125 6.890625 40.9375 10.546875 \nQ 45.796875 14.203125 45.796875 21.1875 \nQ 45.796875 27.640625 41.28125 31.265625 \nQ 36.765625 34.90625 28.71875 34.90625 \nL 20.21875 34.90625 \nL 20.21875 43.015625 \nL 29.109375 43.015625 \nQ 36.375 43.015625 40.234375 45.921875 \nQ 44.09375 48.828125 44.09375 54.296875 \nQ 44.09375 59.90625 40.109375 62.90625 \nQ 36.140625 65.921875 28.71875 65.921875 \nQ 24.65625 65.921875 20.015625 65.03125 \nQ 15.375 64.15625 9.8125 62.3125 \nL 9.8125 71.09375 \nQ 15.4375 72.65625 20.34375 73.4375 \nQ 25.25 74.21875 29.59375 74.21875 \nQ 40.828125 74.21875 47.359375 69.109375 \nQ 53.90625 64.015625 53.90625 55.328125 \nQ 53.90625 49.265625 50.4375 45.09375 \nQ 46.96875 40.921875 40.578125 39.3125 \nz\n\" id=\"DejaVuSans-51\"/>\n       </defs>\n       <use xlink:href=\"#DejaVuSans-51\"/>\n       <use x=\"63.623047\" xlink:href=\"#DejaVuSans-48\"/>\n       <use x=\"127.246094\" xlink:href=\"#DejaVuSans-48\"/>\n      </g>\n     </g>\n    </g>\n    <g id=\"xtick_17\">\n     <g id=\"line2d_24\">\n      <g>\n       <use style=\"stroke:#000000;stroke-width:0.8;\" x=\"1024.580115\" xlink:href=\"#mc17283eaeb\" y=\"296.6975\"/>\n      </g>\n     </g>\n     <g id=\"text_25\">\n      <!-- 400 -->\n      <g transform=\"translate(1015.036365 311.295937)scale(0.1 -0.1)\">\n       <defs>\n        <path d=\"M 37.796875 64.3125 \nL 12.890625 25.390625 \nL 37.796875 25.390625 \nz\nM 35.203125 72.90625 \nL 47.609375 72.90625 \nL 47.609375 25.390625 \nL 58.015625 25.390625 \nL 58.015625 17.1875 \nL 47.609375 17.1875 \nL 47.609375 0 \nL 37.796875 0 \nL 37.796875 17.1875 \nL 4.890625 17.1875 \nL 4.890625 26.703125 \nz\n\" id=\"DejaVuSans-52\"/>\n       </defs>\n       <use xlink:href=\"#DejaVuSans-52\"/>\n       <use x=\"63.623047\" xlink:href=\"#DejaVuSans-48\"/>\n       <use x=\"127.246094\" xlink:href=\"#DejaVuSans-48\"/>\n      </g>\n     </g>\n    </g>\n   </g>\n   <g id=\"matplotlib.axis_4\"/>\n   <g id=\"patch_4\">\n    <path d=\"M 42.17 296.6975 \nL 46.631523 296.6975 \nL 1179.858477 296.6975 \nL 1184.32 296.6975 \nL 1184.32 239.59 \nL 1179.858477 239.59 \nL 46.631523 239.59 \nL 42.17 239.59 \nz\n\" style=\"fill:none;stroke:#000000;stroke-linejoin:miter;stroke-width:0.8;\"/>\n   </g>\n  </g>\n </g>\n <defs>\n  <clipPath id=\"pce2af521af\">\n   <rect height=\"150.85\" width=\"1142.15\" x=\"42.17\" y=\"7.2\"/>\n  </clipPath>\n  <clipPath id=\"p9bfb3df14d\">\n   <rect height=\"57.1075\" width=\"1142.15\" x=\"42.17\" y=\"239.59\"/>\n  </clipPath>\n </defs>\n</svg>\n",
      "image/png": "[encoded data removed]"
     },
     "metadata": {
      "needs_background": "light"
     }
    }
   ],
   "source": [
    "from matplotlib.pyplot import figure\n",
    "import calmap\n",
    "%matplotlib inline\n",
    "#figure(num=None, figsize=(8, 6), dpi=80, facecolor='w', edgecolor='k')\n",
    "fig,ax=calmap.calendarplot(new_daily_length.groupby('date',as_index=True).sum()['mins_played'], cmap='YlGnBu', linewidth=0, fig_kws=dict(figsize=(17,8)))\n",
    "fig.colorbar(ax[0].get_children()[1], ax=ax.ravel().tolist(),orientation='horizontal')"
   ]
  },
  {
   "cell_type": "code",
   "execution_count": null,
   "metadata": {},
   "outputs": [],
   "source": [
    "# Amazing! I didn-t even realize I had used Spotify so litte since May."
   ]
  },
  {
   "cell_type": "code",
   "execution_count": null,
   "metadata": {},
   "outputs": [],
   "source": [
    "## Data analysis phase completed!\n",
    "## I will now create the data to create the predictive model in another notebook."
   ]
  },
  {
   "cell_type": "code",
   "execution_count": 36,
   "metadata": {},
   "outputs": [
    {
     "output_type": "execute_result",
     "data": {
      "text/plain": [
       "       artist_name                   track_name          end_time  ms_played  \\\n",
       "0      El Ezequiel                Tres Gallitos  2020-01-01 00:14      43814   \n",
       "1      El Ezequiel                Tres Gallitos  2020-01-01 00:19     200945   \n",
       "2      Los Pericos                      Runaway  2020-01-01 00:27     233267   \n",
       "3      Iggy Azalea           Kream (feat. Tyga)  2020-01-01 00:27       7032   \n",
       "4             Duki          She Don't Give a Fo  2020-01-01 00:29     117738   \n",
       "...            ...                          ...               ...        ...   \n",
       "15112         Acru                        Crudo  2020-12-16 23:14      92115   \n",
       "15113       Trueno                     Atrevido  2020-12-16 23:37       1707   \n",
       "15114       Trueno                     Atrevido  2020-12-16 23:40     194747   \n",
       "15115       Eminem  Godzilla (feat. Juice WRLD)  2020-12-16 23:44     210800   \n",
       "15116         Duki                  Hello Cotto  2020-12-16 23:47     217250   \n",
       "\n",
       "                     track_id                 song_id  energy  liveness  \\\n",
       "0      3FWAZnfVEWlUBB4YyZ0lEK  3FWAZnfVEWlUBB4YyZ0lEK   0.542    0.1550   \n",
       "1      3FWAZnfVEWlUBB4YyZ0lEK  3FWAZnfVEWlUBB4YyZ0lEK   0.542    0.1550   \n",
       "2      0ZLakHzHWqUIlkeDa4i8aC  0ZLakHzHWqUIlkeDa4i8aC   0.731    0.6240   \n",
       "3      5mu1uv8RmzDkF8foePK5qa  5mu1uv8RmzDkF8foePK5qa   0.425    0.1080   \n",
       "4      03a359wbiUsjN9h6yzXvmS  03a359wbiUsjN9h6yzXvmS   0.556    0.1650   \n",
       "...                       ...                     ...     ...       ...   \n",
       "15112  3Y0njfS1jG0EzUDKtjvS5a  3Y0njfS1jG0EzUDKtjvS5a   0.827    0.2230   \n",
       "15113  6tMqYyCVU2aKgUahMvJz2S  6tMqYyCVU2aKgUahMvJz2S   0.640    0.3740   \n",
       "15114  6tMqYyCVU2aKgUahMvJz2S  6tMqYyCVU2aKgUahMvJz2S   0.640    0.3740   \n",
       "15115  7FIWs0pqAYbP91WWM0vlTQ  7FIWs0pqAYbP91WWM0vlTQ   0.745    0.2920   \n",
       "15116  422Avi2VjqZKCVzstKmqog  422Avi2VjqZKCVzstKmqog   0.785    0.0506   \n",
       "\n",
       "         tempo  speechiness  ...  danceability  duration_ms  loudness  \\\n",
       "0       85.150       0.0354  ...         0.592       200945    -3.720   \n",
       "1       85.150       0.0354  ...         0.592       200945    -3.720   \n",
       "2      150.151       0.0368  ...         0.676       233268    -5.253   \n",
       "3      174.028       0.1370  ...         0.785       166627    -6.665   \n",
       "4      119.938       0.1400  ...         0.854       209531    -4.490   \n",
       "...        ...          ...  ...           ...          ...       ...   \n",
       "15112   93.967       0.2130  ...         0.687       224681    -4.247   \n",
       "15113  135.021       0.1060  ...         0.864       194748    -5.489   \n",
       "15114  135.021       0.1060  ...         0.864       194748    -5.489   \n",
       "15115  165.995       0.3420  ...         0.808       210800    -5.260   \n",
       "15116  139.956       0.3440  ...         0.843       217250    -2.893   \n",
       "\n",
       "       valence  mode  key  loudness_adj       date  mins_played  liked  \n",
       "0        0.856     1    3      0.897142 2020-01-01         0.73  False  \n",
       "1        0.856     1    3      0.897142 2020-01-01         3.35   True  \n",
       "2        0.812     1    9      0.860993 2020-01-01         3.89   True  \n",
       "3        0.192     1   10      0.827698 2020-01-01         0.12  False  \n",
       "4        0.342     1    1      0.878985 2020-01-01         1.96  False  \n",
       "...        ...   ...  ...           ...        ...          ...    ...  \n",
       "15112    0.848     0    6      0.884715 2020-12-16         1.54  False  \n",
       "15113    0.858     1    8      0.855428 2020-12-16         0.03  False  \n",
       "15114    0.858     1    8      0.855428 2020-12-16         3.25   True  \n",
       "15115    0.829     0   10      0.860828 2020-12-16         3.51   True  \n",
       "15116    0.430     0   10      0.916643 2020-12-16         3.62   True  \n",
       "\n",
       "[14994 rows x 22 columns]"
      ],
      "text/html": "<div>\n<style scoped>\n    .dataframe tbody tr th:only-of-type {\n        vertical-align: middle;\n    }\n\n    .dataframe tbody tr th {\n        vertical-align: top;\n    }\n\n    .dataframe thead th {\n        text-align: right;\n    }\n</style>\n<table border=\"1\" class=\"dataframe\">\n  <thead>\n    <tr style=\"text-align: right;\">\n      <th></th>\n      <th>artist_name</th>\n      <th>track_name</th>\n      <th>end_time</th>\n      <th>ms_played</th>\n      <th>track_id</th>\n      <th>song_id</th>\n      <th>energy</th>\n      <th>liveness</th>\n      <th>tempo</th>\n      <th>speechiness</th>\n      <th>...</th>\n      <th>danceability</th>\n      <th>duration_ms</th>\n      <th>loudness</th>\n      <th>valence</th>\n      <th>mode</th>\n      <th>key</th>\n      <th>loudness_adj</th>\n      <th>date</th>\n      <th>mins_played</th>\n      <th>liked</th>\n    </tr>\n  </thead>\n  <tbody>\n    <tr>\n      <th>0</th>\n      <td>El Ezequiel</td>\n      <td>Tres Gallitos</td>\n      <td>2020-01-01 00:14</td>\n      <td>43814</td>\n      <td>3FWAZnfVEWlUBB4YyZ0lEK</td>\n      <td>3FWAZnfVEWlUBB4YyZ0lEK</td>\n      <td>0.542</td>\n      <td>0.1550</td>\n      <td>85.150</td>\n      <td>0.0354</td>\n      <td>...</td>\n      <td>0.592</td>\n      <td>200945</td>\n      <td>-3.720</td>\n      <td>0.856</td>\n      <td>1</td>\n      <td>3</td>\n      <td>0.897142</td>\n      <td>2020-01-01</td>\n      <td>0.73</td>\n      <td>False</td>\n    </tr>\n    <tr>\n      <th>1</th>\n      <td>El Ezequiel</td>\n      <td>Tres Gallitos</td>\n      <td>2020-01-01 00:19</td>\n      <td>200945</td>\n      <td>3FWAZnfVEWlUBB4YyZ0lEK</td>\n      <td>3FWAZnfVEWlUBB4YyZ0lEK</td>\n      <td>0.542</td>\n      <td>0.1550</td>\n      <td>85.150</td>\n      <td>0.0354</td>\n      <td>...</td>\n      <td>0.592</td>\n      <td>200945</td>\n      <td>-3.720</td>\n      <td>0.856</td>\n      <td>1</td>\n      <td>3</td>\n      <td>0.897142</td>\n      <td>2020-01-01</td>\n      <td>3.35</td>\n      <td>True</td>\n    </tr>\n    <tr>\n      <th>2</th>\n      <td>Los Pericos</td>\n      <td>Runaway</td>\n      <td>2020-01-01 00:27</td>\n      <td>233267</td>\n      <td>0ZLakHzHWqUIlkeDa4i8aC</td>\n      <td>0ZLakHzHWqUIlkeDa4i8aC</td>\n      <td>0.731</td>\n      <td>0.6240</td>\n      <td>150.151</td>\n      <td>0.0368</td>\n      <td>...</td>\n      <td>0.676</td>\n      <td>233268</td>\n      <td>-5.253</td>\n      <td>0.812</td>\n      <td>1</td>\n      <td>9</td>\n      <td>0.860993</td>\n      <td>2020-01-01</td>\n      <td>3.89</td>\n      <td>True</td>\n    </tr>\n    <tr>\n      <th>3</th>\n      <td>Iggy Azalea</td>\n      <td>Kream (feat. Tyga)</td>\n      <td>2020-01-01 00:27</td>\n      <td>7032</td>\n      <td>5mu1uv8RmzDkF8foePK5qa</td>\n      <td>5mu1uv8RmzDkF8foePK5qa</td>\n      <td>0.425</td>\n      <td>0.1080</td>\n      <td>174.028</td>\n      <td>0.1370</td>\n      <td>...</td>\n      <td>0.785</td>\n      <td>166627</td>\n      <td>-6.665</td>\n      <td>0.192</td>\n      <td>1</td>\n      <td>10</td>\n      <td>0.827698</td>\n      <td>2020-01-01</td>\n      <td>0.12</td>\n      <td>False</td>\n    </tr>\n    <tr>\n      <th>4</th>\n      <td>Duki</td>\n      <td>She Don't Give a Fo</td>\n      <td>2020-01-01 00:29</td>\n      <td>117738</td>\n      <td>03a359wbiUsjN9h6yzXvmS</td>\n      <td>03a359wbiUsjN9h6yzXvmS</td>\n      <td>0.556</td>\n      <td>0.1650</td>\n      <td>119.938</td>\n      <td>0.1400</td>\n      <td>...</td>\n      <td>0.854</td>\n      <td>209531</td>\n      <td>-4.490</td>\n      <td>0.342</td>\n      <td>1</td>\n      <td>1</td>\n      <td>0.878985</td>\n      <td>2020-01-01</td>\n      <td>1.96</td>\n      <td>False</td>\n    </tr>\n    <tr>\n      <th>...</th>\n      <td>...</td>\n      <td>...</td>\n      <td>...</td>\n      <td>...</td>\n      <td>...</td>\n      <td>...</td>\n      <td>...</td>\n      <td>...</td>\n      <td>...</td>\n      <td>...</td>\n      <td>...</td>\n      <td>...</td>\n      <td>...</td>\n      <td>...</td>\n      <td>...</td>\n      <td>...</td>\n      <td>...</td>\n      <td>...</td>\n      <td>...</td>\n      <td>...</td>\n      <td>...</td>\n    </tr>\n    <tr>\n      <th>15112</th>\n      <td>Acru</td>\n      <td>Crudo</td>\n      <td>2020-12-16 23:14</td>\n      <td>92115</td>\n      <td>3Y0njfS1jG0EzUDKtjvS5a</td>\n      <td>3Y0njfS1jG0EzUDKtjvS5a</td>\n      <td>0.827</td>\n      <td>0.2230</td>\n      <td>93.967</td>\n      <td>0.2130</td>\n      <td>...</td>\n      <td>0.687</td>\n      <td>224681</td>\n      <td>-4.247</td>\n      <td>0.848</td>\n      <td>0</td>\n      <td>6</td>\n      <td>0.884715</td>\n      <td>2020-12-16</td>\n      <td>1.54</td>\n      <td>False</td>\n    </tr>\n    <tr>\n      <th>15113</th>\n      <td>Trueno</td>\n      <td>Atrevido</td>\n      <td>2020-12-16 23:37</td>\n      <td>1707</td>\n      <td>6tMqYyCVU2aKgUahMvJz2S</td>\n      <td>6tMqYyCVU2aKgUahMvJz2S</td>\n      <td>0.640</td>\n      <td>0.3740</td>\n      <td>135.021</td>\n      <td>0.1060</td>\n      <td>...</td>\n      <td>0.864</td>\n      <td>194748</td>\n      <td>-5.489</td>\n      <td>0.858</td>\n      <td>1</td>\n      <td>8</td>\n      <td>0.855428</td>\n      <td>2020-12-16</td>\n      <td>0.03</td>\n      <td>False</td>\n    </tr>\n    <tr>\n      <th>15114</th>\n      <td>Trueno</td>\n      <td>Atrevido</td>\n      <td>2020-12-16 23:40</td>\n      <td>194747</td>\n      <td>6tMqYyCVU2aKgUahMvJz2S</td>\n      <td>6tMqYyCVU2aKgUahMvJz2S</td>\n      <td>0.640</td>\n      <td>0.3740</td>\n      <td>135.021</td>\n      <td>0.1060</td>\n      <td>...</td>\n      <td>0.864</td>\n      <td>194748</td>\n      <td>-5.489</td>\n      <td>0.858</td>\n      <td>1</td>\n      <td>8</td>\n      <td>0.855428</td>\n      <td>2020-12-16</td>\n      <td>3.25</td>\n      <td>True</td>\n    </tr>\n    <tr>\n      <th>15115</th>\n      <td>Eminem</td>\n      <td>Godzilla (feat. Juice WRLD)</td>\n      <td>2020-12-16 23:44</td>\n      <td>210800</td>\n      <td>7FIWs0pqAYbP91WWM0vlTQ</td>\n      <td>7FIWs0pqAYbP91WWM0vlTQ</td>\n      <td>0.745</td>\n      <td>0.2920</td>\n      <td>165.995</td>\n      <td>0.3420</td>\n      <td>...</td>\n      <td>0.808</td>\n      <td>210800</td>\n      <td>-5.260</td>\n      <td>0.829</td>\n      <td>0</td>\n      <td>10</td>\n      <td>0.860828</td>\n      <td>2020-12-16</td>\n      <td>3.51</td>\n      <td>True</td>\n    </tr>\n    <tr>\n      <th>15116</th>\n      <td>Duki</td>\n      <td>Hello Cotto</td>\n      <td>2020-12-16 23:47</td>\n      <td>217250</td>\n      <td>422Avi2VjqZKCVzstKmqog</td>\n      <td>422Avi2VjqZKCVzstKmqog</td>\n      <td>0.785</td>\n      <td>0.0506</td>\n      <td>139.956</td>\n      <td>0.3440</td>\n      <td>...</td>\n      <td>0.843</td>\n      <td>217250</td>\n      <td>-2.893</td>\n      <td>0.430</td>\n      <td>0</td>\n      <td>10</td>\n      <td>0.916643</td>\n      <td>2020-12-16</td>\n      <td>3.62</td>\n      <td>True</td>\n    </tr>\n  </tbody>\n</table>\n<p>14994 rows × 22 columns</p>\n</div>"
     },
     "metadata": {},
     "execution_count": 36
    }
   ],
   "source": [
    "prediction_data = my_streaming_data.copy()\n",
    "play_avg = round(prediction_data[\"ms_played\"].mean(), 2)\n",
    "min_avg = play_avg - play_avg*0.10\n",
    "prediction_data[\"liked\"] = prediction_data[\"ms_played\"] >= (min_avg)\n",
    "prediction_data"
   ]
  },
  {
   "cell_type": "code",
   "execution_count": 37,
   "metadata": {},
   "outputs": [],
   "source": [
    "file_name = './Documents/personal-data-analysis/spotify-personal-data-analysis/data/FullData.csv'\n",
    "prediction_data.to_csv(file_name, encoding='utf-8', index=False)"
   ]
  }
 ],
 "metadata": {
  "kernelspec": {
   "name": "python376jvsc74a57bd0fdeb593f51579880d7a1ef2d0d8d0f4246071dedcadec5691b07a0e8d688901e",
   "display_name": "Python 3.7.6 64-bit ('base': conda)",
   "language": "python"
  },
  "metadata": {
   "interpreter": {
    "hash": "fdeb593f51579880d7a1ef2d0d8d0f4246071dedcadec5691b07a0e8d688901e"
   }
  }
 },
 "nbformat": 4,
 "nbformat_minor": 4
}